{
 "cells": [
  {
   "cell_type": "code",
   "execution_count": 2,
   "id": "24a7766f-8ff0-4b0e-911e-5b64f8923267",
   "metadata": {},
   "outputs": [],
   "source": [
    "import logging\n",
    "logging.basicConfig(logLevel=logging.INFO)"
   ]
  },
  {
   "cell_type": "code",
   "execution_count": 3,
   "id": "dac98f79-c6dc-4eef-9287-aad0e044f2f1",
   "metadata": {},
   "outputs": [],
   "source": [
    "import napari.layers\n",
    "import napari\n",
    "import numpy as np\n",
    "import tifffile\n",
    "from skimage.measure import regionprops_table\n",
    "\n",
    "import celltide.tide"
   ]
  },
  {
   "cell_type": "code",
   "execution_count": 4,
   "id": "a556b91e-9877-40a6-a577-928776a1c713",
   "metadata": {},
   "outputs": [],
   "source": [
    "intensity_img = tifffile.imread(\"CROP-097/registration/raw_sardana-097_crop.ome.tif\", series=0)"
   ]
  },
  {
   "cell_type": "code",
   "execution_count": 5,
   "id": "03a4d2d4-5d19-465d-b542-7fd544ea7218",
   "metadata": {},
   "outputs": [
    {
     "data": {
      "text/plain": [
       "(40, 5000, 5000)"
      ]
     },
     "execution_count": 5,
     "metadata": {},
     "output_type": "execute_result"
    }
   ],
   "source": [
    "intensity_img.shape"
   ]
  },
  {
   "cell_type": "code",
   "execution_count": 6,
   "id": "3d910495-efe0-4e6a-8220-6131160a3374",
   "metadata": {},
   "outputs": [],
   "source": [
    "label_image = tifffile.imread(\"CROP-097/segmentation/unmicst-raw_sardana-097_crop/cellMask.tif\", series=0)"
   ]
  },
  {
   "cell_type": "code",
   "execution_count": 7,
   "id": "1fd9f61b-85c3-4b36-bff2-78dd3fcc5ffb",
   "metadata": {},
   "outputs": [
    {
     "data": {
      "text/plain": [
       "(5000, 5000)"
      ]
     },
     "execution_count": 7,
     "metadata": {},
     "output_type": "execute_result"
    }
   ],
   "source": [
    "label_image.shape"
   ]
  },
  {
   "cell_type": "code",
   "execution_count": 8,
   "id": "6173f60a-b87b-496c-8aee-fd716dcd4c04",
   "metadata": {},
   "outputs": [
    {
     "name": "stdout",
     "output_type": "stream",
     "text": [
      "Automatic pdb calling has been turned ON\n"
     ]
    }
   ],
   "source": [
    "%pdb"
   ]
  },
  {
   "cell_type": "code",
   "execution_count": 9,
   "id": "10c1723d-7534-44a0-b512-b8c05b5a3dc4",
   "metadata": {},
   "outputs": [],
   "source": [
    "profiler = celltide.tide.ContactProfiler(\n",
    "    label_image,\n",
    "    intensity_img,\n",
    "    store_annuli=True, store_profile_masks=True\n",
    ")"
   ]
  },
  {
   "cell_type": "code",
   "execution_count": 10,
   "id": "1d47eb9b-d404-419a-991c-bb9d1b7bd503",
   "metadata": {},
   "outputs": [],
   "source": [
    "intersections = profiler.find_intersections()"
   ]
  },
  {
   "cell_type": "code",
   "execution_count": 11,
   "id": "eafb755c-14eb-4126-be04-b0fbc9ac3e5a",
   "metadata": {},
   "outputs": [],
   "source": [
    "vis = profiler.get_visualizer()"
   ]
  },
  {
   "cell_type": "code",
   "execution_count": 12,
   "id": "a53478ee-d3b0-4bb3-8b0f-adb74f075711",
   "metadata": {},
   "outputs": [],
   "source": [
    "vis.show_intensity_image()"
   ]
  },
  {
   "cell_type": "code",
   "execution_count": 13,
   "id": "34a4c31e-848b-447e-93fa-c089657b28ec",
   "metadata": {},
   "outputs": [],
   "source": [
    "vis.show_label_image()"
   ]
  },
  {
   "cell_type": "code",
   "execution_count": 14,
   "id": "41381be3-737f-4d12-ac28-02fecb90135d",
   "metadata": {
    "tags": []
   },
   "outputs": [
    {
     "name": "stderr",
     "output_type": "stream",
     "text": [
      "/Users/chug/opt/miniconda3/envs/celltide/lib/python3.10/site-packages/numpy/core/numeric.py:2449: FutureWarning: elementwise comparison failed; returning scalar instead, but in the future will perform elementwise comparison\n",
      "  return bool(asarray(a1 == a2).all())\n",
      "/Users/chug/opt/miniconda3/envs/celltide/lib/python3.10/site-packages/numpy/core/numeric.py:2449: FutureWarning: elementwise comparison failed; returning scalar instead, but in the future will perform elementwise comparison\n",
      "  return bool(asarray(a1 == a2).all())\n"
     ]
    },
    {
     "ename": "StopIteration",
     "evalue": "",
     "output_type": "error",
     "traceback": [
      "\u001b[0;31m---------------------------------------------------------------------------\u001b[0m",
      "\u001b[0;31mStopIteration\u001b[0m                             Traceback (most recent call last)",
      "Input \u001b[0;32mIn [14]\u001b[0m, in \u001b[0;36m<cell line: 1>\u001b[0;34m()\u001b[0m\n\u001b[0;32m----> 1\u001b[0m \u001b[43mvis\u001b[49m\u001b[38;5;241;43m.\u001b[39;49m\u001b[43mshow_graph\u001b[49m\u001b[43m(\u001b[49m\u001b[43m)\u001b[49m\n",
      "File \u001b[0;32m~/repo/celltide/celltide/vis.py:131\u001b[0m, in \u001b[0;36mCellTideVis.show_graph\u001b[0;34m(self)\u001b[0m\n\u001b[1;32m    129\u001b[0m radius_menu\u001b[38;5;241m.\u001b[39mchanged\u001b[38;5;241m.\u001b[39mconnect(radius_changed)\n\u001b[1;32m    130\u001b[0m channel_menu\u001b[38;5;241m.\u001b[39mchanged\u001b[38;5;241m.\u001b[39mconnect(channel_changed)\n\u001b[0;32m--> 131\u001b[0m \u001b[38;5;28;43mself\u001b[39;49m\u001b[38;5;241;43m.\u001b[39;49m\u001b[43m_update_plot\u001b[49m\u001b[43m(\u001b[49m\u001b[43m)\u001b[49m\n",
      "File \u001b[0;32m~/repo/celltide/celltide/vis.py:58\u001b[0m, in \u001b[0;36mCellTideVis._update_plot\u001b[0;34m(self)\u001b[0m\n\u001b[1;32m     56\u001b[0m \u001b[38;5;28;01mexcept\u001b[39;00m \u001b[38;5;167;01mException\u001b[39;00m:\n\u001b[1;32m     57\u001b[0m     \u001b[38;5;28;01mpass\u001b[39;00m\n\u001b[0;32m---> 58\u001b[0m \u001b[38;5;28mself\u001b[39m\u001b[38;5;241m.\u001b[39mcell_label_layer \u001b[38;5;241m=\u001b[39m \u001b[38;5;28;43mself\u001b[39;49m\u001b[38;5;241;43m.\u001b[39;49m\u001b[43mviewer\u001b[49m\u001b[38;5;241;43m.\u001b[39;49m\u001b[43madd_points\u001b[49m\u001b[43m(\u001b[49m\n\u001b[1;32m     59\u001b[0m \u001b[43m    \u001b[49m\u001b[38;5;28;43mself\u001b[39;49m\u001b[38;5;241;43m.\u001b[39;49m\u001b[43mcentroids\u001b[49m\u001b[43m[\u001b[49m\u001b[38;5;28;43mself\u001b[39;49m\u001b[38;5;241;43m.\u001b[39;49m\u001b[43mselected_pair\u001b[49m\u001b[43m,\u001b[49m\u001b[43m \u001b[49m\u001b[43m:\u001b[49m\u001b[43m]\u001b[49m\u001b[43m,\u001b[49m\n\u001b[1;32m     60\u001b[0m \u001b[43m    \u001b[49m\u001b[43msize\u001b[49m\u001b[38;5;241;43m=\u001b[39;49m\u001b[38;5;241;43m5\u001b[39;49m\u001b[43m,\u001b[49m\n\u001b[1;32m     61\u001b[0m \u001b[43m    \u001b[49m\u001b[43mproperties\u001b[49m\u001b[38;5;241;43m=\u001b[39;49m\u001b[43m{\u001b[49m\u001b[38;5;124;43m\"\u001b[39;49m\u001b[38;5;124;43mcell_id\u001b[39;49m\u001b[38;5;124;43m\"\u001b[39;49m\u001b[43m:\u001b[49m\u001b[43m \u001b[49m\u001b[43m[\u001b[49m\u001b[43mi\u001b[49m\u001b[43m \u001b[49m\u001b[38;5;241;43m+\u001b[39;49m\u001b[43m \u001b[49m\u001b[38;5;241;43m1\u001b[39;49m\u001b[43m \u001b[49m\u001b[38;5;28;43;01mfor\u001b[39;49;00m\u001b[43m \u001b[49m\u001b[43mi\u001b[49m\u001b[43m \u001b[49m\u001b[38;5;129;43;01min\u001b[39;49;00m\u001b[43m \u001b[49m\u001b[38;5;28;43mself\u001b[39;49m\u001b[38;5;241;43m.\u001b[39;49m\u001b[43mselected_pair\u001b[49m\u001b[43m]\u001b[49m\u001b[43m}\u001b[49m\u001b[43m,\u001b[49m\n\u001b[1;32m     62\u001b[0m \u001b[43m    \u001b[49m\u001b[43mtext\u001b[49m\u001b[38;5;241;43m=\u001b[39;49m\u001b[43mCELL_LABEL_PROPS\u001b[49m\u001b[43m,\u001b[49m\n\u001b[1;32m     63\u001b[0m \u001b[43m\u001b[49m\u001b[43m)\u001b[49m\n\u001b[1;32m     64\u001b[0m \u001b[38;5;28mself\u001b[39m\u001b[38;5;241m.\u001b[39mmpl_widget\u001b[38;5;241m.\u001b[39mfigure\u001b[38;5;241m.\u001b[39mclear()\n\u001b[1;32m     65\u001b[0m axs \u001b[38;5;241m=\u001b[39m \u001b[38;5;28mself\u001b[39m\u001b[38;5;241m.\u001b[39mmpl_widget\u001b[38;5;241m.\u001b[39mfigure\u001b[38;5;241m.\u001b[39msubplots(\u001b[38;5;241m2\u001b[39m)\n",
      "File \u001b[0;32m~/opt/miniconda3/envs/celltide/lib/python3.10/site-packages/napari/components/viewer_model.py:5\u001b[0m, in \u001b[0;36madd_points\u001b[0;34m(self, data, ndim, features, properties, text, symbol, size, edge_width, edge_width_is_relative, edge_color, edge_color_cycle, edge_colormap, edge_contrast_limits, face_color, face_color_cycle, face_colormap, face_contrast_limits, out_of_slice_display, n_dimensional, name, metadata, scale, translate, rotate, shear, affine, opacity, blending, visible, cache, property_choices, experimental_clipping_planes, shading, experimental_canvas_size_limits, shown)\u001b[0m\n\u001b[1;32m      3\u001b[0m \u001b[38;5;28;01mimport\u001b[39;00m \u001b[38;5;21;01minspect\u001b[39;00m\n\u001b[1;32m      4\u001b[0m \u001b[38;5;28;01mimport\u001b[39;00m \u001b[38;5;21;01mitertools\u001b[39;00m\n\u001b[0;32m----> 5\u001b[0m \u001b[38;5;28;01mimport\u001b[39;00m \u001b[38;5;21;01mos\u001b[39;00m\n\u001b[1;32m      6\u001b[0m \u001b[38;5;28;01mimport\u001b[39;00m \u001b[38;5;21;01mwarnings\u001b[39;00m\n\u001b[1;32m      7\u001b[0m \u001b[38;5;28;01mfrom\u001b[39;00m \u001b[38;5;21;01mfunctools\u001b[39;00m \u001b[38;5;28;01mimport\u001b[39;00m lru_cache\n",
      "File \u001b[0;32m~/opt/miniconda3/envs/celltide/lib/python3.10/_collections_abc.py:1123\u001b[0m, in \u001b[0;36mMutableSequence.append\u001b[0;34m(self, value)\u001b[0m\n\u001b[1;32m   1121\u001b[0m \u001b[38;5;28;01mdef\u001b[39;00m \u001b[38;5;21mappend\u001b[39m(\u001b[38;5;28mself\u001b[39m, value):\n\u001b[1;32m   1122\u001b[0m     \u001b[38;5;124m'\u001b[39m\u001b[38;5;124mS.append(value) -- append value to the end of the sequence\u001b[39m\u001b[38;5;124m'\u001b[39m\n\u001b[0;32m-> 1123\u001b[0m     \u001b[38;5;28;43mself\u001b[39;49m\u001b[38;5;241;43m.\u001b[39;49m\u001b[43minsert\u001b[49m\u001b[43m(\u001b[49m\u001b[38;5;28;43mlen\u001b[39;49m\u001b[43m(\u001b[49m\u001b[38;5;28;43mself\u001b[39;49m\u001b[43m)\u001b[49m\u001b[43m,\u001b[49m\u001b[43m \u001b[49m\u001b[43mvalue\u001b[49m\u001b[43m)\u001b[49m\n",
      "File \u001b[0;32m~/opt/miniconda3/envs/celltide/lib/python3.10/site-packages/napari/components/layerlist.py:135\u001b[0m, in \u001b[0;36mLayerList.insert\u001b[0;34m(self, index, value)\u001b[0m\n\u001b[1;32m    133\u001b[0m \u001b[38;5;28mself\u001b[39m\u001b[38;5;241m.\u001b[39m_clean_cache()\n\u001b[1;32m    134\u001b[0m new_layer\u001b[38;5;241m.\u001b[39mevents\u001b[38;5;241m.\u001b[39mset_data\u001b[38;5;241m.\u001b[39mconnect(\u001b[38;5;28mself\u001b[39m\u001b[38;5;241m.\u001b[39m_clean_cache)\n\u001b[0;32m--> 135\u001b[0m \u001b[38;5;28;43msuper\u001b[39;49m\u001b[43m(\u001b[49m\u001b[43m)\u001b[49m\u001b[38;5;241;43m.\u001b[39;49m\u001b[43minsert\u001b[49m\u001b[43m(\u001b[49m\u001b[43mindex\u001b[49m\u001b[43m,\u001b[49m\u001b[43m \u001b[49m\u001b[43mnew_layer\u001b[49m\u001b[43m)\u001b[49m\n",
      "File \u001b[0;32m~/opt/miniconda3/envs/celltide/lib/python3.10/site-packages/napari/utils/events/containers/_selectable_list.py:68\u001b[0m, in \u001b[0;36mSelectableEventedList.insert\u001b[0;34m(self, index, value)\u001b[0m\n\u001b[1;32m     65\u001b[0m \u001b[38;5;28msuper\u001b[39m()\u001b[38;5;241m.\u001b[39minsert(index, value)\n\u001b[1;32m     66\u001b[0m \u001b[38;5;28;01mif\u001b[39;00m \u001b[38;5;28mself\u001b[39m\u001b[38;5;241m.\u001b[39m_activate_on_insert:\n\u001b[1;32m     67\u001b[0m     \u001b[38;5;66;03m# Make layer selected and unselect all others\u001b[39;00m\n\u001b[0;32m---> 68\u001b[0m     \u001b[38;5;28mself\u001b[39m\u001b[38;5;241m.\u001b[39mselection\u001b[38;5;241m.\u001b[39mactive \u001b[38;5;241m=\u001b[39m value\n",
      "File \u001b[0;32m~/opt/miniconda3/envs/celltide/lib/python3.10/site-packages/napari/utils/events/containers/_selection.py:102\u001b[0m, in \u001b[0;36mSelection.active\u001b[0;34m(self, value)\u001b[0m\n\u001b[1;32m    100\u001b[0m     \u001b[38;5;28;01mreturn\u001b[39;00m\n\u001b[1;32m    101\u001b[0m \u001b[38;5;28mself\u001b[39m\u001b[38;5;241m.\u001b[39m_active \u001b[38;5;241m=\u001b[39m value\n\u001b[0;32m--> 102\u001b[0m \u001b[38;5;28mself\u001b[39m\u001b[38;5;241m.\u001b[39mclear() \u001b[38;5;28;01mif\u001b[39;00m value \u001b[38;5;129;01mis\u001b[39;00m \u001b[38;5;28;01mNone\u001b[39;00m \u001b[38;5;28;01melse\u001b[39;00m \u001b[38;5;28;43mself\u001b[39;49m\u001b[38;5;241;43m.\u001b[39;49m\u001b[43mselect_only\u001b[49m\u001b[43m(\u001b[49m\u001b[43mvalue\u001b[49m\u001b[43m)\u001b[49m\n\u001b[1;32m    103\u001b[0m \u001b[38;5;28mself\u001b[39m\u001b[38;5;241m.\u001b[39m_current \u001b[38;5;241m=\u001b[39m value\n\u001b[1;32m    104\u001b[0m \u001b[38;5;28mself\u001b[39m\u001b[38;5;241m.\u001b[39mevents\u001b[38;5;241m.\u001b[39mactive(value\u001b[38;5;241m=\u001b[39mvalue)\n",
      "File \u001b[0;32m~/opt/miniconda3/envs/celltide/lib/python3.10/site-packages/napari/utils/events/containers/_selection.py:129\u001b[0m, in \u001b[0;36mSelection.select_only\u001b[0;34m(self, obj)\u001b[0m\n\u001b[1;32m    127\u001b[0m \u001b[38;5;28;01mdef\u001b[39;00m \u001b[38;5;21mselect_only\u001b[39m(\u001b[38;5;28mself\u001b[39m, obj: _T):\n\u001b[1;32m    128\u001b[0m     \u001b[38;5;124;03m\"\"\"Unselect everything but `obj`. Add to selection if not present.\"\"\"\u001b[39;00m\n\u001b[0;32m--> 129\u001b[0m     \u001b[38;5;28;43mself\u001b[39;49m\u001b[38;5;241;43m.\u001b[39;49m\u001b[43mintersection_update\u001b[49m\u001b[43m(\u001b[49m\u001b[43m{\u001b[49m\u001b[43mobj\u001b[49m\u001b[43m}\u001b[49m\u001b[43m)\u001b[49m\n\u001b[1;32m    130\u001b[0m     \u001b[38;5;28mself\u001b[39m\u001b[38;5;241m.\u001b[39madd(obj)\n",
      "File \u001b[0;32m~/opt/miniconda3/envs/celltide/lib/python3.10/site-packages/napari/utils/events/containers/_set.py:128\u001b[0m, in \u001b[0;36mEventedSet.intersection_update\u001b[0;34m(self, others)\u001b[0m\n\u001b[1;32m    126\u001b[0m \u001b[38;5;28;01mdef\u001b[39;00m \u001b[38;5;21mintersection_update\u001b[39m(\u001b[38;5;28mself\u001b[39m, others: Iterable[_T] \u001b[38;5;241m=\u001b[39m ()) \u001b[38;5;241m-\u001b[39m\u001b[38;5;241m>\u001b[39m \u001b[38;5;28;01mNone\u001b[39;00m:\n\u001b[1;32m    127\u001b[0m     \u001b[38;5;124;03m\"\"\"Remove all elements of in this set that are not present in other.\"\"\"\u001b[39;00m\n\u001b[0;32m--> 128\u001b[0m     \u001b[38;5;28;43mself\u001b[39;49m\u001b[38;5;241;43m.\u001b[39;49m\u001b[43mdifference_update\u001b[49m\u001b[43m(\u001b[49m\u001b[38;5;28;43mself\u001b[39;49m\u001b[38;5;241;43m.\u001b[39;49m\u001b[43m_set\u001b[49m\u001b[38;5;241;43m.\u001b[39;49m\u001b[43msymmetric_difference\u001b[49m\u001b[43m(\u001b[49m\u001b[43mothers\u001b[49m\u001b[43m)\u001b[49m\u001b[43m)\u001b[49m\n",
      "File \u001b[0;32m~/opt/miniconda3/envs/celltide/lib/python3.10/site-packages/napari/utils/events/containers/_set.py:120\u001b[0m, in \u001b[0;36mEventedSet.difference_update\u001b[0;34m(self, others)\u001b[0m\n\u001b[1;32m    118\u001b[0m \u001b[38;5;28;01mif\u001b[39;00m to_remove:\n\u001b[1;32m    119\u001b[0m     \u001b[38;5;28mself\u001b[39m\u001b[38;5;241m.\u001b[39m_set\u001b[38;5;241m.\u001b[39mdifference_update(to_remove)\n\u001b[0;32m--> 120\u001b[0m     \u001b[38;5;28;43mself\u001b[39;49m\u001b[38;5;241;43m.\u001b[39;49m\u001b[43m_emit_change\u001b[49m\u001b[43m(\u001b[49m\u001b[43madded\u001b[49m\u001b[38;5;241;43m=\u001b[39;49m\u001b[43m{\u001b[49m\u001b[43m}\u001b[49m\u001b[43m,\u001b[49m\u001b[43m \u001b[49m\u001b[43mremoved\u001b[49m\u001b[38;5;241;43m=\u001b[39;49m\u001b[38;5;28;43mset\u001b[39;49m\u001b[43m(\u001b[49m\u001b[43mto_remove\u001b[49m\u001b[43m)\u001b[49m\u001b[43m)\u001b[49m\n",
      "File \u001b[0;32m~/opt/miniconda3/envs/celltide/lib/python3.10/site-packages/napari/utils/events/containers/_selection.py:66\u001b[0m, in \u001b[0;36mSelection._emit_change\u001b[0;34m(self, added, removed)\u001b[0m\n\u001b[1;32m     64\u001b[0m \u001b[38;5;28;01mdef\u001b[39;00m \u001b[38;5;21m_emit_change\u001b[39m(\u001b[38;5;28mself\u001b[39m, added\u001b[38;5;241m=\u001b[39m\u001b[38;5;28mset\u001b[39m(), removed\u001b[38;5;241m=\u001b[39m\u001b[38;5;28mset\u001b[39m()):\n\u001b[1;32m     65\u001b[0m     \u001b[38;5;28mself\u001b[39m\u001b[38;5;241m.\u001b[39m_update_active()\n\u001b[0;32m---> 66\u001b[0m     \u001b[38;5;28;01mreturn\u001b[39;00m \u001b[38;5;28;43msuper\u001b[39;49m\u001b[43m(\u001b[49m\u001b[43m)\u001b[49m\u001b[38;5;241;43m.\u001b[39;49m\u001b[43m_emit_change\u001b[49m\u001b[43m(\u001b[49m\u001b[43madded\u001b[49m\u001b[38;5;241;43m=\u001b[39;49m\u001b[43madded\u001b[49m\u001b[43m,\u001b[49m\u001b[43m \u001b[49m\u001b[43mremoved\u001b[49m\u001b[38;5;241;43m=\u001b[39;49m\u001b[43mremoved\u001b[49m\u001b[43m)\u001b[49m\n",
      "File \u001b[0;32m~/opt/miniconda3/envs/celltide/lib/python3.10/site-packages/napari/utils/events/containers/_set.py:61\u001b[0m, in \u001b[0;36mEventedSet._emit_change\u001b[0;34m(self, added, removed)\u001b[0m\n\u001b[1;32m     59\u001b[0m \u001b[38;5;28;01mdef\u001b[39;00m \u001b[38;5;21m_emit_change\u001b[39m(\u001b[38;5;28mself\u001b[39m, added\u001b[38;5;241m=\u001b[39m\u001b[38;5;28mset\u001b[39m(), removed\u001b[38;5;241m=\u001b[39m\u001b[38;5;28mset\u001b[39m()):\n\u001b[1;32m     60\u001b[0m     \u001b[38;5;66;03m# provides a hook for subclasses to update internal state before emit\u001b[39;00m\n\u001b[0;32m---> 61\u001b[0m     \u001b[38;5;28;43mself\u001b[39;49m\u001b[38;5;241;43m.\u001b[39;49m\u001b[43mevents\u001b[49m\u001b[38;5;241;43m.\u001b[39;49m\u001b[43mchanged\u001b[49m\u001b[43m(\u001b[49m\u001b[43madded\u001b[49m\u001b[38;5;241;43m=\u001b[39;49m\u001b[43madded\u001b[49m\u001b[43m,\u001b[49m\u001b[43m \u001b[49m\u001b[43mremoved\u001b[49m\u001b[38;5;241;43m=\u001b[39;49m\u001b[43mremoved\u001b[49m\u001b[43m)\u001b[49m\n",
      "File \u001b[0;32m~/opt/miniconda3/envs/celltide/lib/python3.10/site-packages/napari/utils/events/event.py:715\u001b[0m, in \u001b[0;36mEventEmitter.__call__\u001b[0;34m(self, *args, **kwargs)\u001b[0m\n\u001b[1;32m    712\u001b[0m     \u001b[38;5;28mself\u001b[39m\u001b[38;5;241m.\u001b[39m_block_counter\u001b[38;5;241m.\u001b[39mupdate([cb])\n\u001b[1;32m    713\u001b[0m     \u001b[38;5;28;01mcontinue\u001b[39;00m\n\u001b[0;32m--> 715\u001b[0m \u001b[38;5;28;43mself\u001b[39;49m\u001b[38;5;241;43m.\u001b[39;49m\u001b[43m_invoke_callback\u001b[49m\u001b[43m(\u001b[49m\u001b[43mcb\u001b[49m\u001b[43m,\u001b[49m\u001b[43m \u001b[49m\u001b[43mevent\u001b[49m\u001b[43m \u001b[49m\u001b[38;5;28;43;01mif\u001b[39;49;00m\u001b[43m \u001b[49m\u001b[43mpass_event\u001b[49m\u001b[43m \u001b[49m\u001b[38;5;28;43;01melse\u001b[39;49;00m\u001b[43m \u001b[49m\u001b[38;5;28;43;01mNone\u001b[39;49;00m\u001b[43m)\u001b[49m\n\u001b[1;32m    716\u001b[0m \u001b[38;5;28;01mif\u001b[39;00m event\u001b[38;5;241m.\u001b[39mblocked:\n\u001b[1;32m    717\u001b[0m     \u001b[38;5;28;01mbreak\u001b[39;00m\n",
      "File \u001b[0;32m~/opt/miniconda3/envs/celltide/lib/python3.10/site-packages/napari/utils/events/event.py:752\u001b[0m, in \u001b[0;36mEventEmitter._invoke_callback\u001b[0;34m(self, cb, event)\u001b[0m\n\u001b[1;32m    750\u001b[0m     \u001b[38;5;28mself\u001b[39m\u001b[38;5;241m.\u001b[39mdisconnect(cb)\n\u001b[1;32m    751\u001b[0m     \u001b[38;5;28;01mreturn\u001b[39;00m\n\u001b[0;32m--> 752\u001b[0m \u001b[43m_handle_exception\u001b[49m\u001b[43m(\u001b[49m\n\u001b[1;32m    753\u001b[0m \u001b[43m    \u001b[49m\u001b[38;5;28;43mself\u001b[39;49m\u001b[38;5;241;43m.\u001b[39;49m\u001b[43mignore_callback_errors\u001b[49m\u001b[43m,\u001b[49m\n\u001b[1;32m    754\u001b[0m \u001b[43m    \u001b[49m\u001b[38;5;28;43mself\u001b[39;49m\u001b[38;5;241;43m.\u001b[39;49m\u001b[43mprint_callback_errors\u001b[49m\u001b[43m,\u001b[49m\n\u001b[1;32m    755\u001b[0m \u001b[43m    \u001b[49m\u001b[38;5;28;43mself\u001b[39;49m\u001b[43m,\u001b[49m\n\u001b[1;32m    756\u001b[0m \u001b[43m    \u001b[49m\u001b[43mcb_event\u001b[49m\u001b[38;5;241;43m=\u001b[39;49m\u001b[43m(\u001b[49m\u001b[43mcb\u001b[49m\u001b[43m,\u001b[49m\u001b[43m \u001b[49m\u001b[43mevent\u001b[49m\u001b[43m)\u001b[49m\u001b[43m,\u001b[49m\n\u001b[1;32m    757\u001b[0m \u001b[43m\u001b[49m\u001b[43m)\u001b[49m\n",
      "File \u001b[0;32m~/opt/miniconda3/envs/celltide/lib/python3.10/site-packages/napari/utils/events/event.py:739\u001b[0m, in \u001b[0;36mEventEmitter._invoke_callback\u001b[0;34m(self, cb, event)\u001b[0m\n\u001b[1;32m    737\u001b[0m \u001b[38;5;28;01mtry\u001b[39;00m:\n\u001b[1;32m    738\u001b[0m     \u001b[38;5;28;01mif\u001b[39;00m event \u001b[38;5;129;01mis\u001b[39;00m \u001b[38;5;129;01mnot\u001b[39;00m \u001b[38;5;28;01mNone\u001b[39;00m:\n\u001b[0;32m--> 739\u001b[0m         \u001b[43mcb\u001b[49m\u001b[43m(\u001b[49m\u001b[43mevent\u001b[49m\u001b[43m)\u001b[49m\n\u001b[1;32m    740\u001b[0m     \u001b[38;5;28;01melse\u001b[39;00m:\n\u001b[1;32m    741\u001b[0m         cb()\n",
      "File \u001b[0;32m~/opt/miniconda3/envs/celltide/lib/python3.10/site-packages/napari/components/layerlist.py:85\u001b[0m, in \u001b[0;36mLayerList._on_selection_changed\u001b[0;34m(self, event)\u001b[0m\n\u001b[1;32m     83\u001b[0m     layer\u001b[38;5;241m.\u001b[39m_on_selection(\u001b[38;5;28;01mTrue\u001b[39;00m)\n\u001b[1;32m     84\u001b[0m \u001b[38;5;28;01mfor\u001b[39;00m layer \u001b[38;5;129;01min\u001b[39;00m event\u001b[38;5;241m.\u001b[39mremoved:\n\u001b[0;32m---> 85\u001b[0m     \u001b[43mlayer\u001b[49m\u001b[38;5;241;43m.\u001b[39;49m\u001b[43m_on_selection\u001b[49m\u001b[43m(\u001b[49m\u001b[38;5;28;43;01mFalse\u001b[39;49;00m\u001b[43m)\u001b[49m\n",
      "File \u001b[0;32m~/opt/miniconda3/envs/celltide/lib/python3.10/site-packages/napari/layers/points/points.py:542\u001b[0m, in \u001b[0;36mPoints._on_selection\u001b[0;34m(self, selected)\u001b[0m\n\u001b[1;32m    540\u001b[0m \u001b[38;5;28mself\u001b[39m\u001b[38;5;241m.\u001b[39m_highlight_box \u001b[38;5;241m=\u001b[39m \u001b[38;5;28;01mNone\u001b[39;00m\n\u001b[1;32m    541\u001b[0m \u001b[38;5;28mself\u001b[39m\u001b[38;5;241m.\u001b[39m_highlight_index \u001b[38;5;241m=\u001b[39m []\n\u001b[0;32m--> 542\u001b[0m \u001b[38;5;28;43mself\u001b[39;49m\u001b[38;5;241;43m.\u001b[39;49m\u001b[43mevents\u001b[49m\u001b[38;5;241;43m.\u001b[39;49m\u001b[43mhighlight\u001b[49m\u001b[43m(\u001b[49m\u001b[43m)\u001b[49m\n",
      "File \u001b[0;32m~/opt/miniconda3/envs/celltide/lib/python3.10/site-packages/napari/utils/events/event.py:715\u001b[0m, in \u001b[0;36mEventEmitter.__call__\u001b[0;34m(self, *args, **kwargs)\u001b[0m\n\u001b[1;32m    712\u001b[0m     \u001b[38;5;28mself\u001b[39m\u001b[38;5;241m.\u001b[39m_block_counter\u001b[38;5;241m.\u001b[39mupdate([cb])\n\u001b[1;32m    713\u001b[0m     \u001b[38;5;28;01mcontinue\u001b[39;00m\n\u001b[0;32m--> 715\u001b[0m \u001b[38;5;28;43mself\u001b[39;49m\u001b[38;5;241;43m.\u001b[39;49m\u001b[43m_invoke_callback\u001b[49m\u001b[43m(\u001b[49m\u001b[43mcb\u001b[49m\u001b[43m,\u001b[49m\u001b[43m \u001b[49m\u001b[43mevent\u001b[49m\u001b[43m \u001b[49m\u001b[38;5;28;43;01mif\u001b[39;49;00m\u001b[43m \u001b[49m\u001b[43mpass_event\u001b[49m\u001b[43m \u001b[49m\u001b[38;5;28;43;01melse\u001b[39;49;00m\u001b[43m \u001b[49m\u001b[38;5;28;43;01mNone\u001b[39;49;00m\u001b[43m)\u001b[49m\n\u001b[1;32m    716\u001b[0m \u001b[38;5;28;01mif\u001b[39;00m event\u001b[38;5;241m.\u001b[39mblocked:\n\u001b[1;32m    717\u001b[0m     \u001b[38;5;28;01mbreak\u001b[39;00m\n",
      "File \u001b[0;32m~/opt/miniconda3/envs/celltide/lib/python3.10/site-packages/napari/utils/events/event.py:752\u001b[0m, in \u001b[0;36mEventEmitter._invoke_callback\u001b[0;34m(self, cb, event)\u001b[0m\n\u001b[1;32m    750\u001b[0m     \u001b[38;5;28mself\u001b[39m\u001b[38;5;241m.\u001b[39mdisconnect(cb)\n\u001b[1;32m    751\u001b[0m     \u001b[38;5;28;01mreturn\u001b[39;00m\n\u001b[0;32m--> 752\u001b[0m \u001b[43m_handle_exception\u001b[49m\u001b[43m(\u001b[49m\n\u001b[1;32m    753\u001b[0m \u001b[43m    \u001b[49m\u001b[38;5;28;43mself\u001b[39;49m\u001b[38;5;241;43m.\u001b[39;49m\u001b[43mignore_callback_errors\u001b[49m\u001b[43m,\u001b[49m\n\u001b[1;32m    754\u001b[0m \u001b[43m    \u001b[49m\u001b[38;5;28;43mself\u001b[39;49m\u001b[38;5;241;43m.\u001b[39;49m\u001b[43mprint_callback_errors\u001b[49m\u001b[43m,\u001b[49m\n\u001b[1;32m    755\u001b[0m \u001b[43m    \u001b[49m\u001b[38;5;28;43mself\u001b[39;49m\u001b[43m,\u001b[49m\n\u001b[1;32m    756\u001b[0m \u001b[43m    \u001b[49m\u001b[43mcb_event\u001b[49m\u001b[38;5;241;43m=\u001b[39;49m\u001b[43m(\u001b[49m\u001b[43mcb\u001b[49m\u001b[43m,\u001b[49m\u001b[43m \u001b[49m\u001b[43mevent\u001b[49m\u001b[43m)\u001b[49m\u001b[43m,\u001b[49m\n\u001b[1;32m    757\u001b[0m \u001b[43m\u001b[49m\u001b[43m)\u001b[49m\n",
      "File \u001b[0;32m~/opt/miniconda3/envs/celltide/lib/python3.10/site-packages/napari/utils/events/event.py:739\u001b[0m, in \u001b[0;36mEventEmitter._invoke_callback\u001b[0;34m(self, cb, event)\u001b[0m\n\u001b[1;32m    737\u001b[0m \u001b[38;5;28;01mtry\u001b[39;00m:\n\u001b[1;32m    738\u001b[0m     \u001b[38;5;28;01mif\u001b[39;00m event \u001b[38;5;129;01mis\u001b[39;00m \u001b[38;5;129;01mnot\u001b[39;00m \u001b[38;5;28;01mNone\u001b[39;00m:\n\u001b[0;32m--> 739\u001b[0m         \u001b[43mcb\u001b[49m\u001b[43m(\u001b[49m\u001b[43mevent\u001b[49m\u001b[43m)\u001b[49m\n\u001b[1;32m    740\u001b[0m     \u001b[38;5;28;01melse\u001b[39;00m:\n\u001b[1;32m    741\u001b[0m         cb()\n",
      "File \u001b[0;32m~/repo/celltide/celltide/vis.py:102\u001b[0m, in \u001b[0;36mCellTideVis.show_graph.<locals>.select_pair\u001b[0;34m(event)\u001b[0m\n\u001b[1;32m    101\u001b[0m \u001b[38;5;28;01mdef\u001b[39;00m \u001b[38;5;21mselect_pair\u001b[39m(event):\n\u001b[0;32m--> 102\u001b[0m     pairs_idx \u001b[38;5;241m=\u001b[39m \u001b[38;5;28;43mnext\u001b[39;49m\u001b[43m(\u001b[49m\u001b[38;5;28;43miter\u001b[39;49m\u001b[43m(\u001b[49m\u001b[38;5;28;43mself\u001b[39;49m\u001b[38;5;241;43m.\u001b[39;49m\u001b[43mpoint_layer\u001b[49m\u001b[38;5;241;43m.\u001b[39;49m\u001b[43mselected_data\u001b[49m\u001b[43m)\u001b[49m\u001b[43m)\u001b[49m\n\u001b[1;32m    103\u001b[0m     cell_pair \u001b[38;5;241m=\u001b[39m \u001b[38;5;28mtuple\u001b[39m(\u001b[38;5;28mself\u001b[39m\u001b[38;5;241m.\u001b[39mpairs[pairs_idx])\n\u001b[1;32m    104\u001b[0m     \u001b[38;5;28;01mif\u001b[39;00m cell_pair \u001b[38;5;241m==\u001b[39m \u001b[38;5;28mself\u001b[39m\u001b[38;5;241m.\u001b[39mselected_pair:\n",
      "\u001b[0;31mStopIteration\u001b[0m: "
     ]
    },
    {
     "name": "stdout",
     "output_type": "stream",
     "text": [
      "> \u001b[0;32m/Users/chug/repo/celltide/celltide/vis.py\u001b[0m(102)\u001b[0;36mselect_pair\u001b[0;34m()\u001b[0m\n",
      "\u001b[0;32m    100 \u001b[0;31m\u001b[0;34m\u001b[0m\u001b[0m\n",
      "\u001b[0m\u001b[0;32m    101 \u001b[0;31m        \u001b[0;32mdef\u001b[0m \u001b[0mselect_pair\u001b[0m\u001b[0;34m(\u001b[0m\u001b[0mevent\u001b[0m\u001b[0;34m)\u001b[0m\u001b[0;34m:\u001b[0m\u001b[0;34m\u001b[0m\u001b[0;34m\u001b[0m\u001b[0m\n",
      "\u001b[0m\u001b[0;32m--> 102 \u001b[0;31m            \u001b[0mpairs_idx\u001b[0m \u001b[0;34m=\u001b[0m \u001b[0mnext\u001b[0m\u001b[0;34m(\u001b[0m\u001b[0miter\u001b[0m\u001b[0;34m(\u001b[0m\u001b[0mself\u001b[0m\u001b[0;34m.\u001b[0m\u001b[0mpoint_layer\u001b[0m\u001b[0;34m.\u001b[0m\u001b[0mselected_data\u001b[0m\u001b[0;34m)\u001b[0m\u001b[0;34m)\u001b[0m\u001b[0;34m\u001b[0m\u001b[0;34m\u001b[0m\u001b[0m\n",
      "\u001b[0m\u001b[0;32m    103 \u001b[0;31m            \u001b[0mcell_pair\u001b[0m \u001b[0;34m=\u001b[0m \u001b[0mtuple\u001b[0m\u001b[0;34m(\u001b[0m\u001b[0mself\u001b[0m\u001b[0;34m.\u001b[0m\u001b[0mpairs\u001b[0m\u001b[0;34m[\u001b[0m\u001b[0mpairs_idx\u001b[0m\u001b[0;34m]\u001b[0m\u001b[0;34m)\u001b[0m\u001b[0;34m\u001b[0m\u001b[0;34m\u001b[0m\u001b[0m\n",
      "\u001b[0m\u001b[0;32m    104 \u001b[0;31m            \u001b[0;32mif\u001b[0m \u001b[0mcell_pair\u001b[0m \u001b[0;34m==\u001b[0m \u001b[0mself\u001b[0m\u001b[0;34m.\u001b[0m\u001b[0mselected_pair\u001b[0m\u001b[0;34m:\u001b[0m\u001b[0;34m\u001b[0m\u001b[0;34m\u001b[0m\u001b[0m\n",
      "\u001b[0m\n"
     ]
    },
    {
     "name": "stdin",
     "output_type": "stream",
     "text": [
      "ipdb>  self.point_layer.selected_data\n"
     ]
    },
    {
     "name": "stdout",
     "output_type": "stream",
     "text": [
      "set()\n"
     ]
    },
    {
     "name": "stdin",
     "output_type": "stream",
     "text": [
      "ipdb>  c\n"
     ]
    },
    {
     "name": "stderr",
     "output_type": "stream",
     "text": [
      "Traceback (most recent call last):\n",
      "  File \"/Users/chug/opt/miniconda3/envs/celltide/lib/python3.10/site-packages/napari/_qt/containers/_base_item_view.py\", line 79, in selectionChanged\n",
      "    self._root.selection.difference_update(desel)\n",
      "  File \"/Users/chug/opt/miniconda3/envs/celltide/lib/python3.10/site-packages/napari/utils/events/containers/_set.py\", line 120, in difference_update\n",
      "    self._emit_change(added={}, removed=set(to_remove))\n",
      "  File \"/Users/chug/opt/miniconda3/envs/celltide/lib/python3.10/site-packages/napari/utils/events/containers/_selection.py\", line 66, in _emit_change\n",
      "    return super()._emit_change(added=added, removed=removed)\n",
      "  File \"/Users/chug/opt/miniconda3/envs/celltide/lib/python3.10/site-packages/napari/utils/events/containers/_set.py\", line 61, in _emit_change\n",
      "    self.events.changed(added=added, removed=removed)\n",
      "  File \"/Users/chug/opt/miniconda3/envs/celltide/lib/python3.10/site-packages/napari/utils/events/event.py\", line 715, in __call__\n",
      "    self._invoke_callback(cb, event if pass_event else None)\n",
      "  File \"/Users/chug/opt/miniconda3/envs/celltide/lib/python3.10/site-packages/napari/utils/events/event.py\", line 752, in _invoke_callback\n",
      "    _handle_exception(\n",
      "  File \"/Users/chug/opt/miniconda3/envs/celltide/lib/python3.10/site-packages/napari/utils/events/event.py\", line 739, in _invoke_callback\n",
      "    cb(event)\n",
      "  File \"/Users/chug/opt/miniconda3/envs/celltide/lib/python3.10/site-packages/napari/components/layerlist.py\", line 85, in _on_selection_changed\n",
      "    layer._on_selection(False)\n",
      "  File \"/Users/chug/opt/miniconda3/envs/celltide/lib/python3.10/site-packages/napari/layers/points/points.py\", line 542, in _on_selection\n",
      "    self.events.highlight()\n",
      "  File \"/Users/chug/opt/miniconda3/envs/celltide/lib/python3.10/site-packages/napari/utils/events/event.py\", line 715, in __call__\n",
      "    self._invoke_callback(cb, event if pass_event else None)\n",
      "  File \"/Users/chug/opt/miniconda3/envs/celltide/lib/python3.10/site-packages/napari/utils/events/event.py\", line 752, in _invoke_callback\n",
      "    _handle_exception(\n",
      "  File \"/Users/chug/opt/miniconda3/envs/celltide/lib/python3.10/site-packages/napari/utils/events/event.py\", line 739, in _invoke_callback\n",
      "    cb(event)\n",
      "  File \"/Users/chug/repo/celltide/celltide/vis.py\", line 102, in select_pair\n",
      "    pairs_idx = next(iter(self.point_layer.selected_data))\n",
      "StopIteration\n",
      "Traceback (most recent call last):\n",
      "  File \"/Users/chug/opt/miniconda3/envs/celltide/lib/python3.10/site-packages/vispy/app/backends/_qt.py\", line 532, in mouseMoveEvent\n",
      "    self._vispy_mouse_move(\n",
      "  File \"/Users/chug/opt/miniconda3/envs/celltide/lib/python3.10/site-packages/vispy/app/base.py\", line 216, in _vispy_mouse_move\n",
      "    ev = self._vispy_canvas.events.mouse_move(**kwargs)\n",
      "  File \"/Users/chug/opt/miniconda3/envs/celltide/lib/python3.10/site-packages/vispy/util/event.py\", line 453, in __call__\n",
      "    self._invoke_callback(cb, event)\n",
      "  File \"/Users/chug/opt/miniconda3/envs/celltide/lib/python3.10/site-packages/vispy/util/event.py\", line 471, in _invoke_callback\n",
      "    _handle_exception(self.ignore_callback_errors,\n",
      "  File \"/Users/chug/opt/miniconda3/envs/celltide/lib/python3.10/site-packages/vispy/util/event.py\", line 469, in _invoke_callback\n",
      "    cb(event)\n",
      "  File \"/Users/chug/opt/miniconda3/envs/celltide/lib/python3.10/site-packages/napari/_qt/qt_viewer.py\", line 960, in on_mouse_move\n",
      "    self._process_mouse_event(mouse_move_callbacks, event)\n",
      "  File \"/Users/chug/opt/miniconda3/envs/celltide/lib/python3.10/site-packages/napari/_qt/qt_viewer.py\", line 909, in _process_mouse_event\n",
      "    mouse_callbacks(layer, event)\n",
      "  File \"/Users/chug/opt/miniconda3/envs/celltide/lib/python3.10/site-packages/napari/utils/interactions.py\", line 164, in mouse_move_callbacks\n",
      "    mouse_move_func(obj, event)\n",
      "  File \"/Users/chug/opt/miniconda3/envs/celltide/lib/python3.10/site-packages/napari/layers/points/_points_mouse_bindings.py\", line 117, in highlight\n",
      "    layer._set_highlight()\n",
      "  File \"/Users/chug/opt/miniconda3/envs/celltide/lib/python3.10/site-packages/napari/layers/points/points.py\", line 1730, in _set_highlight\n",
      "    self.events.highlight()\n",
      "  File \"/Users/chug/opt/miniconda3/envs/celltide/lib/python3.10/site-packages/napari/utils/events/event.py\", line 715, in __call__\n",
      "    self._invoke_callback(cb, event if pass_event else None)\n",
      "  File \"/Users/chug/opt/miniconda3/envs/celltide/lib/python3.10/site-packages/napari/utils/events/event.py\", line 752, in _invoke_callback\n",
      "    _handle_exception(\n",
      "  File \"/Users/chug/opt/miniconda3/envs/celltide/lib/python3.10/site-packages/napari/utils/events/event.py\", line 739, in _invoke_callback\n",
      "    cb(event)\n",
      "  File \"/Users/chug/repo/celltide/celltide/vis.py\", line 102, in select_pair\n",
      "    pairs_idx = next(iter(self.point_layer.selected_data))\n",
      "StopIteration\n",
      "/Users/chug/opt/miniconda3/envs/celltide/lib/python3.10/site-packages/numpy/core/numeric.py:2449: FutureWarning: elementwise comparison failed; returning scalar instead, but in the future will perform elementwise comparison\n",
      "  return bool(asarray(a1 == a2).all())\n"
     ]
    },
    {
     "name": "stdout",
     "output_type": "stream",
     "text": [
      "(62635, 62766)\n",
      "(61804, 62201)\n"
     ]
    },
    {
     "name": "stderr",
     "output_type": "stream",
     "text": [
      "/Users/chug/opt/miniconda3/envs/celltide/lib/python3.10/site-packages/numpy/core/numeric.py:2449: FutureWarning: elementwise comparison failed; returning scalar instead, but in the future will perform elementwise comparison\n",
      "  return bool(asarray(a1 == a2).all())\n"
     ]
    },
    {
     "name": "stdout",
     "output_type": "stream",
     "text": [
      "(61259, 61506)\n"
     ]
    },
    {
     "name": "stderr",
     "output_type": "stream",
     "text": [
      "/Users/chug/opt/miniconda3/envs/celltide/lib/python3.10/site-packages/numpy/core/numeric.py:2449: FutureWarning: elementwise comparison failed; returning scalar instead, but in the future will perform elementwise comparison\n",
      "  return bool(asarray(a1 == a2).all())\n"
     ]
    }
   ],
   "source": [
    "vis.show_graph()"
   ]
  },
  {
   "cell_type": "code",
   "execution_count": null,
   "id": "1bf6b091-268e-470c-82e9-4b01f0cfab3f",
   "metadata": {},
   "outputs": [],
   "source": [
    "vis._update_plot()"
   ]
  },
  {
   "cell_type": "code",
   "execution_count": null,
   "id": "b341e631-6e40-4d3d-bd9f-520bc6598603",
   "metadata": {},
   "outputs": [],
   "source": [
    "vis.selected_pair, vis.selected_radius, vis.selected_channel"
   ]
  },
  {
   "cell_type": "code",
   "execution_count": null,
   "id": "c4fbf1c1-8bfe-41e2-a2f8-a26a984dfea9",
   "metadata": {},
   "outputs": [],
   "source": [
    "vis.selected_pair = (0, 16)"
   ]
  },
  {
   "cell_type": "code",
   "execution_count": null,
   "id": "830aa083-ad0a-4db1-8b07-2b49242ff70b",
   "metadata": {},
   "outputs": [],
   "source": [
    "vis.show_contact((0, 16), 3)"
   ]
  },
  {
   "cell_type": "code",
   "execution_count": null,
   "id": "61635f9d-3f18-4c1f-be8d-07b3c3927586",
   "metadata": {},
   "outputs": [],
   "source": [
    "cell_rings = profiler.radial_regionprops(list(range(-2, 3)), cells=[0, 16])"
   ]
  },
  {
   "cell_type": "code",
   "execution_count": null,
   "id": "5ac99aeb-ed0a-4962-90f9-97a37923f32e",
   "metadata": {},
   "outputs": [],
   "source": [
    "cell_rings"
   ]
  },
  {
   "cell_type": "code",
   "execution_count": null,
   "id": "6f171802-2b6f-4710-9fc7-551b38d1b7c5",
   "metadata": {},
   "outputs": [],
   "source": [
    "contact_profile = profiler.contact_profile((0, 16), 3)"
   ]
  },
  {
   "cell_type": "code",
   "execution_count": null,
   "id": "2835283d-4199-4920-ab08-1607d1dc370c",
   "metadata": {},
   "outputs": [],
   "source": [
    "contact_profile.shape"
   ]
  },
  {
   "cell_type": "code",
   "execution_count": null,
   "id": "8aa4a03a-973e-4bd8-90cb-71d4b120856d",
   "metadata": {},
   "outputs": [],
   "source": [
    "axs = vis.mpl_widget.figure.subplots(2)"
   ]
  },
  {
   "cell_type": "code",
   "execution_count": null,
   "id": "24e36d18-8199-48d3-9b1a-fbb027354871",
   "metadata": {},
   "outputs": [],
   "source": [
    "for i in (0, 16):\n",
    "    df = cell_rings[cell_rings[\"label\"] == i + 1]\n",
    "    axs[0].plot(\n",
    "        df[\"expansion_radius\"], df[\"intensity_mean-0\"], label=f\"cell {i + 1}\"\n",
    "    )\n",
    "axs[0].legend()"
   ]
  },
  {
   "cell_type": "code",
   "execution_count": null,
   "id": "247e30a9-4ee5-4efa-8412-1842f7145308",
   "metadata": {},
   "outputs": [],
   "source": [
    "for i in range(2):\n",
    "    axs[1].plot(\n",
    "        list(range(-2, 3)), contact_profile[:, 0]\n",
    "    )"
   ]
  },
  {
   "cell_type": "code",
   "execution_count": null,
   "id": "eda389f9-b756-4504-8295-fa4f4e3b72a4",
   "metadata": {},
   "outputs": [],
   "source": []
  }
 ],
 "metadata": {
  "kernelspec": {
   "display_name": "Python 3 (ipykernel)",
   "language": "python",
   "name": "python3"
  },
  "language_info": {
   "codemirror_mode": {
    "name": "ipython",
    "version": 3
   },
   "file_extension": ".py",
   "mimetype": "text/x-python",
   "name": "python",
   "nbconvert_exporter": "python",
   "pygments_lexer": "ipython3",
   "version": "3.10.4"
  }
 },
 "nbformat": 4,
 "nbformat_minor": 5
}
