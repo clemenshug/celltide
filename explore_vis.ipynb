{
 "cells": [
  {
   "cell_type": "code",
   "execution_count": 1,
   "id": "24a7766f-8ff0-4b0e-911e-5b64f8923267",
   "metadata": {},
   "outputs": [],
   "source": [
    "import logging\n",
    "logging.basicConfig(level=logging.INFO)"
   ]
  },
  {
   "cell_type": "code",
   "execution_count": 2,
   "id": "dac98f79-c6dc-4eef-9287-aad0e044f2f1",
   "metadata": {},
   "outputs": [
    {
     "name": "stderr",
     "output_type": "stream",
     "text": [
      "INFO:OpenGL.acceleratesupport:No OpenGL_accelerate module loaded: No module named 'OpenGL_accelerate'\n"
     ]
    }
   ],
   "source": [
    "import napari.layers\n",
    "import napari\n",
    "import numpy as np\n",
    "import tifffile\n",
    "from skimage.measure import regionprops_table\n",
    "\n",
    "import celltide.tide"
   ]
  },
  {
   "cell_type": "markdown",
   "id": "9dad5dcc-3bbb-4389-8687-78d885fdb10c",
   "metadata": {},
   "source": [
    "From `/n/files/ImStor/sorger/analysis/CROP-097`"
   ]
  },
  {
   "cell_type": "code",
   "execution_count": 3,
   "id": "a556b91e-9877-40a6-a577-928776a1c713",
   "metadata": {},
   "outputs": [],
   "source": [
    "intensity_img = tifffile.imread(\"CROP-097/registration/raw_sardana-097_crop.ome.tif\", series=0)"
   ]
  },
  {
   "cell_type": "code",
   "execution_count": 4,
   "id": "03a4d2d4-5d19-465d-b542-7fd544ea7218",
   "metadata": {},
   "outputs": [
    {
     "data": {
      "text/plain": [
       "(40, 5000, 5000)"
      ]
     },
     "execution_count": 4,
     "metadata": {},
     "output_type": "execute_result"
    }
   ],
   "source": [
    "intensity_img.shape"
   ]
  },
  {
   "cell_type": "code",
   "execution_count": 5,
   "id": "3d910495-efe0-4e6a-8220-6131160a3374",
   "metadata": {},
   "outputs": [],
   "source": [
    "label_image = tifffile.imread(\"CROP-097/segmentation/unmicst-raw_sardana-097_crop/cellMask.tif\", series=0)"
   ]
  },
  {
   "cell_type": "code",
   "execution_count": 6,
   "id": "1fd9f61b-85c3-4b36-bff2-78dd3fcc5ffb",
   "metadata": {},
   "outputs": [
    {
     "data": {
      "text/plain": [
       "(5000, 5000)"
      ]
     },
     "execution_count": 6,
     "metadata": {},
     "output_type": "execute_result"
    }
   ],
   "source": [
    "label_image.shape"
   ]
  },
  {
   "cell_type": "code",
   "execution_count": 7,
   "id": "6173f60a-b87b-496c-8aee-fd716dcd4c04",
   "metadata": {},
   "outputs": [
    {
     "name": "stdout",
     "output_type": "stream",
     "text": [
      "Automatic pdb calling has been turned ON\n"
     ]
    }
   ],
   "source": [
    "%pdb"
   ]
  },
  {
   "cell_type": "code",
   "execution_count": 8,
   "id": "10c1723d-7534-44a0-b512-b8c05b5a3dc4",
   "metadata": {},
   "outputs": [
    {
     "name": "stderr",
     "output_type": "stream",
     "text": [
      "INFO:root:Computing cell slices\n",
      "INFO:root:Computing contours for cell 0\n",
      "INFO:root:Computing contours for cell 10000\n",
      "INFO:root:Computing contours for cell 20000\n",
      "INFO:root:Computing contours for cell 30000\n",
      "INFO:root:Computing contours for cell 40000\n",
      "INFO:root:Computing contours for cell 50000\n",
      "INFO:root:Computing contours for cell 60000\n",
      "INFO:root:Computing contours for cell 70000\n",
      "INFO:root:Computing contours for cell 80000\n",
      "INFO:root:Computing contours for cell 90000\n",
      "INFO:root:Computing contours for cell 100000\n"
     ]
    }
   ],
   "source": [
    "profiler = celltide.tide.ContactProfiler(\n",
    "    label_image,\n",
    "    intensity_img,\n",
    "    store_annuli=True, store_profile_masks=True\n",
    ")"
   ]
  },
  {
   "cell_type": "code",
   "execution_count": 9,
   "id": "1d47eb9b-d404-419a-991c-bb9d1b7bd503",
   "metadata": {},
   "outputs": [
    {
     "name": "stderr",
     "output_type": "stream",
     "text": [
      "INFO:root:Finding cell contacts for cell 0\n",
      "INFO:root:Finding cell contacts for cell 10000\n",
      "INFO:root:Finding cell contacts for cell 20000\n",
      "INFO:root:Finding cell contacts for cell 30000\n",
      "INFO:root:Finding cell contacts for cell 40000\n",
      "INFO:root:Finding cell contacts for cell 50000\n",
      "INFO:root:Finding cell contacts for cell 60000\n",
      "INFO:root:Finding cell contacts for cell 70000\n",
      "INFO:root:Finding cell contacts for cell 80000\n",
      "INFO:root:Finding cell contacts for cell 90000\n",
      "INFO:root:Finding cell contacts for cell 100000\n",
      "INFO:root:Found 198441 cell contacts\n"
     ]
    }
   ],
   "source": [
    "intersections = profiler.find_intersections()"
   ]
  },
  {
   "cell_type": "code",
   "execution_count": 10,
   "id": "eafb755c-14eb-4126-be04-b0fbc9ac3e5a",
   "metadata": {},
   "outputs": [],
   "source": [
    "vis = profiler.get_visualizer()"
   ]
  },
  {
   "cell_type": "code",
   "execution_count": 11,
   "id": "a53478ee-d3b0-4bb3-8b0f-adb74f075711",
   "metadata": {},
   "outputs": [],
   "source": [
    "vis.show_intensity_image()"
   ]
  },
  {
   "cell_type": "code",
   "execution_count": 12,
   "id": "34a4c31e-848b-447e-93fa-c089657b28ec",
   "metadata": {},
   "outputs": [],
   "source": [
    "vis.show_label_image()"
   ]
  },
  {
   "cell_type": "code",
   "execution_count": 13,
   "id": "41381be3-737f-4d12-ac28-02fecb90135d",
   "metadata": {
    "tags": []
   },
   "outputs": [
    {
     "name": "stderr",
     "output_type": "stream",
     "text": [
      "/Users/chug/opt/miniconda3/envs/celltide/lib/python3.10/site-packages/numpy/core/numeric.py:2449: FutureWarning: elementwise comparison failed; returning scalar instead, but in the future will perform elementwise comparison\n",
      "  return bool(asarray(a1 == a2).all())\n"
     ]
    },
    {
     "name": "stdout",
     "output_type": "stream",
     "text": [
      "(72366, 72523)\n",
      "(72172, 72390)\n",
      "(76182, 76526)\n",
      "(75742, 75903)\n"
     ]
    }
   ],
   "source": [
    "vis.show_graph()"
   ]
  },
  {
   "cell_type": "code",
   "execution_count": null,
   "id": "eda389f9-b756-4504-8295-fa4f4e3b72a4",
   "metadata": {},
   "outputs": [],
   "source": []
  }
 ],
 "metadata": {
  "kernelspec": {
   "display_name": "Python 3 (ipykernel)",
   "language": "python",
   "name": "python3"
  },
  "language_info": {
   "codemirror_mode": {
    "name": "ipython",
    "version": 3
   },
   "file_extension": ".py",
   "mimetype": "text/x-python",
   "name": "python",
   "nbconvert_exporter": "python",
   "pygments_lexer": "ipython3",
   "version": "3.10.4"
  }
 },
 "nbformat": 4,
 "nbformat_minor": 5
}
