{
 "cells": [
  {
   "cell_type": "code",
   "execution_count": 2,
   "id": "82884cc8-67cb-42be-9fdf-ec0ad0437bc2",
   "metadata": {},
   "outputs": [],
   "source": [
    "import tifffile\n",
    "import skimage.measure\n",
    "import zarr\n",
    "from scipy import ndimage\n",
    "from skimage import morphology\n",
    "import numpy as np\n",
    "from matplotlib import pyplot as plt\n",
    "import napari\n",
    "import pandas as pd"
   ]
  },
  {
   "cell_type": "code",
   "execution_count": 3,
   "id": "94c05bcf-631a-4875-b15a-a5cc37f7f5a0",
   "metadata": {},
   "outputs": [],
   "source": [
    "sm_tif = tifffile.TiffFile(\"exemplar-001/segmentation/unmicst-exemplar-001/cell.ome.tif\", mode=\"rb\")"
   ]
  },
  {
   "cell_type": "code",
   "execution_count": 4,
   "id": "0d9e3eab-c308-43fa-89ea-ffe3286bb8de",
   "metadata": {},
   "outputs": [],
   "source": [
    "sm = zarr.open(sm_tif.aszarr(), mode=\"r\")[0]"
   ]
  },
  {
   "cell_type": "code",
   "execution_count": 5,
   "id": "129bb8c4-31bc-40eb-b524-7b72c382820a",
   "metadata": {},
   "outputs": [
    {
     "data": {
      "text/plain": [
       "<zarr.core.Array '/0' (3139, 2511) int32 read-only>"
      ]
     },
     "execution_count": 5,
     "metadata": {},
     "output_type": "execute_result"
    }
   ],
   "source": [
    "sm"
   ]
  },
  {
   "cell_type": "code",
   "execution_count": 6,
   "id": "276d3a78-2f85-45e6-aa63-557ea3879261",
   "metadata": {},
   "outputs": [
    {
     "data": {
      "text/plain": [
       "[(slice(0, 1, None),), None, (slice(1, 2, None),), None, (slice(2, 3, None),)]"
      ]
     },
     "execution_count": 6,
     "metadata": {},
     "output_type": "execute_result"
    }
   ],
   "source": [
    "ndimage.find_objects(np.array([1, 3, 5]))"
   ]
  },
  {
   "cell_type": "code",
   "execution_count": 28,
   "id": "a3a9ce4a-a8eb-4073-a4b1-cc67fdaba778",
   "metadata": {},
   "outputs": [
    {
     "data": {
      "text/plain": [
       "31528116"
      ]
     },
     "execution_count": 28,
     "metadata": {},
     "output_type": "execute_result"
    }
   ],
   "source": [
    "sm_tif.series[0].nbytes"
   ]
  },
  {
   "cell_type": "code",
   "execution_count": 7,
   "id": "4bf346c7-d071-4aa8-8952-7400751cd7c8",
   "metadata": {},
   "outputs": [],
   "source": [
    "r, fw, rv = skimage.segmentation.relabel_sequential(np.array([1, 3, 5]))"
   ]
  },
  {
   "cell_type": "code",
   "execution_count": 15,
   "id": "2ce40083-ba48-4469-b13b-547bc971d144",
   "metadata": {},
   "outputs": [
    {
     "data": {
      "text/plain": [
       "array([1, 3, 5])"
      ]
     },
     "execution_count": 15,
     "metadata": {},
     "output_type": "execute_result"
    }
   ],
   "source": [
    "rv.out_values"
   ]
  },
  {
   "cell_type": "code",
   "execution_count": 523,
   "id": "d253cc29-12ee-4f57-a0d0-c3361eddbe45",
   "metadata": {},
   "outputs": [
    {
     "data": {
      "text/plain": [
       "dtype('int32')"
      ]
     },
     "execution_count": 523,
     "metadata": {},
     "output_type": "execute_result"
    }
   ],
   "source": [
    "sm.dtype"
   ]
  },
  {
   "cell_type": "code",
   "execution_count": 5,
   "id": "2c8b69cf-4d19-481d-a43f-70938653e66b",
   "metadata": {},
   "outputs": [
    {
     "data": {
      "text/plain": [
       "array([    0,     1,     2, ..., 11168, 11169, 11170], dtype=int32)"
      ]
     },
     "execution_count": 5,
     "metadata": {},
     "output_type": "execute_result"
    }
   ],
   "source": [
    "np.unique(sm)"
   ]
  },
  {
   "cell_type": "code",
   "execution_count": 16,
   "id": "109f348f-a2b6-4a49-b343-df32ba9ba01b",
   "metadata": {},
   "outputs": [],
   "source": [
    "im_tif = tifffile.TiffFile(\"exemplar-001/registration/exemplar-001.ome.tif\", mode=\"rb\")"
   ]
  },
  {
   "cell_type": "code",
   "execution_count": 17,
   "id": "578ca589-a492-49fa-845d-7d93c2afd37b",
   "metadata": {},
   "outputs": [
    {
     "data": {
      "text/plain": [
       "189168696"
      ]
     },
     "execution_count": 17,
     "metadata": {},
     "output_type": "execute_result"
    }
   ],
   "source": [
    "im_tif.series[0].nbytes"
   ]
  },
  {
   "cell_type": "code",
   "execution_count": 20,
   "id": "79f6f3d7-98a0-40f0-94bb-7ec547bd6bcb",
   "metadata": {},
   "outputs": [],
   "source": [
    "im = zarr.open(im_tif.aszarr(), mode=\"r\")[0]"
   ]
  },
  {
   "cell_type": "code",
   "execution_count": 21,
   "id": "6617dde2-7f69-4423-977d-3e963d627929",
   "metadata": {},
   "outputs": [
    {
     "data": {
      "text/plain": [
       "(1, 1024, 1024)"
      ]
     },
     "execution_count": 21,
     "metadata": {},
     "output_type": "execute_result"
    }
   ],
   "source": [
    "im.chunks"
   ]
  },
  {
   "cell_type": "code",
   "execution_count": 22,
   "id": "bc422426-8143-45a5-b312-965ce09f4537",
   "metadata": {},
   "outputs": [],
   "source": [
    "z = zarr.array(np.arange(27).reshape(3, 3, 3))"
   ]
  },
  {
   "cell_type": "code",
   "execution_count": 23,
   "id": "dc93a341-17af-45bf-8093-0d0832ad5951",
   "metadata": {},
   "outputs": [
    {
     "data": {
      "text/plain": [
       "array([[[ 0,  1,  2],\n",
       "        [ 3,  4,  5],\n",
       "        [ 6,  7,  8]],\n",
       "\n",
       "       [[ 9, 10, 11],\n",
       "        [12, 13, 14],\n",
       "        [15, 16, 17]],\n",
       "\n",
       "       [[18, 19, 20],\n",
       "        [21, 22, 23],\n",
       "        [24, 25, 26]]])"
      ]
     },
     "execution_count": 23,
     "metadata": {},
     "output_type": "execute_result"
    }
   ],
   "source": [
    "z[...]"
   ]
  },
  {
   "cell_type": "code",
   "execution_count": 24,
   "id": "00e35984-5c83-41dc-be0b-01ff17ae4c89",
   "metadata": {},
   "outputs": [
    {
     "ename": "IndexError",
     "evalue": "Boolean arrays in an orthogonal selection must be 1-dimensional only",
     "output_type": "error",
     "traceback": [
      "\u001b[0;31m---------------------------------------------------------------------------\u001b[0m",
      "\u001b[0;31mIndexError\u001b[0m                                Traceback (most recent call last)",
      "Input \u001b[0;32mIn [24]\u001b[0m, in \u001b[0;36m<cell line: 1>\u001b[0;34m()\u001b[0m\n\u001b[0;32m----> 1\u001b[0m \u001b[43mz\u001b[49m\u001b[38;5;241;43m.\u001b[39;49m\u001b[43moindex\u001b[49m\u001b[43m[\u001b[49m\u001b[43mnp\u001b[49m\u001b[38;5;241;43m.\u001b[39;49m\u001b[43marray\u001b[49m\u001b[43m(\u001b[49m\u001b[43m[\u001b[49m\u001b[43m[\u001b[49m\u001b[38;5;28;43;01mTrue\u001b[39;49;00m\u001b[43m,\u001b[49m\u001b[43m \u001b[49m\u001b[38;5;28;43;01mFalse\u001b[39;49;00m\u001b[43m,\u001b[49m\u001b[43m \u001b[49m\u001b[38;5;28;43;01mTrue\u001b[39;49;00m\u001b[43m]\u001b[49m\u001b[43m,\u001b[49m\u001b[43m \u001b[49m\u001b[43m[\u001b[49m\u001b[38;5;28;43;01mFalse\u001b[39;49;00m\u001b[43m,\u001b[49m\u001b[43m \u001b[49m\u001b[38;5;28;43;01mTrue\u001b[39;49;00m\u001b[43m,\u001b[49m\u001b[43m \u001b[49m\u001b[38;5;28;43;01mFalse\u001b[39;49;00m\u001b[43m]\u001b[49m\u001b[43m,\u001b[49m\u001b[43m \u001b[49m\u001b[43m[\u001b[49m\u001b[38;5;28;43;01mFalse\u001b[39;49;00m\u001b[43m,\u001b[49m\u001b[43m \u001b[49m\u001b[38;5;28;43;01mFalse\u001b[39;49;00m\u001b[43m,\u001b[49m\u001b[43m \u001b[49m\u001b[38;5;28;43;01mTrue\u001b[39;49;00m\u001b[43m]\u001b[49m\u001b[43m]\u001b[49m\u001b[43m)\u001b[49m\u001b[43m,\u001b[49m\u001b[43m \u001b[49m\u001b[43m:\u001b[49m\u001b[43m]\u001b[49m\n",
      "File \u001b[0;32m~/opt/miniconda3/envs/celltide/lib/python3.10/site-packages/zarr/indexing.py:664\u001b[0m, in \u001b[0;36mOIndex.__getitem__\u001b[0;34m(self, selection)\u001b[0m\n\u001b[1;32m    662\u001b[0m selection \u001b[38;5;241m=\u001b[39m ensure_tuple(selection)\n\u001b[1;32m    663\u001b[0m selection \u001b[38;5;241m=\u001b[39m replace_lists(selection)\n\u001b[0;32m--> 664\u001b[0m \u001b[38;5;28;01mreturn\u001b[39;00m \u001b[38;5;28;43mself\u001b[39;49m\u001b[38;5;241;43m.\u001b[39;49m\u001b[43marray\u001b[49m\u001b[38;5;241;43m.\u001b[39;49m\u001b[43mget_orthogonal_selection\u001b[49m\u001b[43m(\u001b[49m\u001b[43mselection\u001b[49m\u001b[43m,\u001b[49m\u001b[43m \u001b[49m\u001b[43mfields\u001b[49m\u001b[38;5;241;43m=\u001b[39;49m\u001b[43mfields\u001b[49m\u001b[43m)\u001b[49m\n",
      "File \u001b[0;32m~/opt/miniconda3/envs/celltide/lib/python3.10/site-packages/zarr/core.py:998\u001b[0m, in \u001b[0;36mArray.get_orthogonal_selection\u001b[0;34m(self, selection, out, fields)\u001b[0m\n\u001b[1;32m    995\u001b[0m check_fields(fields, \u001b[38;5;28mself\u001b[39m\u001b[38;5;241m.\u001b[39m_dtype)\n\u001b[1;32m    997\u001b[0m \u001b[38;5;66;03m# setup indexer\u001b[39;00m\n\u001b[0;32m--> 998\u001b[0m indexer \u001b[38;5;241m=\u001b[39m \u001b[43mOrthogonalIndexer\u001b[49m\u001b[43m(\u001b[49m\u001b[43mselection\u001b[49m\u001b[43m,\u001b[49m\u001b[43m \u001b[49m\u001b[38;5;28;43mself\u001b[39;49m\u001b[43m)\u001b[49m\n\u001b[1;32m   1000\u001b[0m \u001b[38;5;28;01mreturn\u001b[39;00m \u001b[38;5;28mself\u001b[39m\u001b[38;5;241m.\u001b[39m_get_selection(indexer\u001b[38;5;241m=\u001b[39mindexer, out\u001b[38;5;241m=\u001b[39mout, fields\u001b[38;5;241m=\u001b[39mfields)\n",
      "File \u001b[0;32m~/opt/miniconda3/envs/celltide/lib/python3.10/site-packages/zarr/indexing.py:610\u001b[0m, in \u001b[0;36mOrthogonalIndexer.__init__\u001b[0;34m(self, selection, array)\u001b[0m\n\u001b[1;32m    607\u001b[0m     dim_indexer \u001b[38;5;241m=\u001b[39m IntArrayDimIndexer(dim_sel, dim_len, dim_chunk_len)\n\u001b[1;32m    609\u001b[0m \u001b[38;5;28;01melif\u001b[39;00m is_bool_array(dim_sel):\n\u001b[0;32m--> 610\u001b[0m     dim_indexer \u001b[38;5;241m=\u001b[39m \u001b[43mBoolArrayDimIndexer\u001b[49m\u001b[43m(\u001b[49m\u001b[43mdim_sel\u001b[49m\u001b[43m,\u001b[49m\u001b[43m \u001b[49m\u001b[43mdim_len\u001b[49m\u001b[43m,\u001b[49m\u001b[43m \u001b[49m\u001b[43mdim_chunk_len\u001b[49m\u001b[43m)\u001b[49m\n\u001b[1;32m    612\u001b[0m \u001b[38;5;28;01melse\u001b[39;00m:\n\u001b[1;32m    613\u001b[0m     \u001b[38;5;28;01mraise\u001b[39;00m \u001b[38;5;167;01mIndexError\u001b[39;00m(\u001b[38;5;124m'\u001b[39m\u001b[38;5;124munsupported selection item for orthogonal indexing; \u001b[39m\u001b[38;5;124m'\u001b[39m\n\u001b[1;32m    614\u001b[0m                      \u001b[38;5;124m'\u001b[39m\u001b[38;5;124mexpected integer, slice, integer array or Boolean \u001b[39m\u001b[38;5;124m'\u001b[39m\n\u001b[1;32m    615\u001b[0m                      \u001b[38;5;124m'\u001b[39m\u001b[38;5;124marray, got \u001b[39m\u001b[38;5;132;01m{!r}\u001b[39;00m\u001b[38;5;124m'\u001b[39m\n\u001b[1;32m    616\u001b[0m                      \u001b[38;5;241m.\u001b[39mformat(\u001b[38;5;28mtype\u001b[39m(dim_sel)))\n",
      "File \u001b[0;32m~/opt/miniconda3/envs/celltide/lib/python3.10/site-packages/zarr/indexing.py:373\u001b[0m, in \u001b[0;36mBoolArrayDimIndexer.__init__\u001b[0;34m(self, dim_sel, dim_len, dim_chunk_len)\u001b[0m\n\u001b[1;32m    369\u001b[0m \u001b[38;5;28;01mdef\u001b[39;00m \u001b[38;5;21m__init__\u001b[39m(\u001b[38;5;28mself\u001b[39m, dim_sel, dim_len, dim_chunk_len):\n\u001b[1;32m    370\u001b[0m \n\u001b[1;32m    371\u001b[0m     \u001b[38;5;66;03m# check number of dimensions\u001b[39;00m\n\u001b[1;32m    372\u001b[0m     \u001b[38;5;28;01mif\u001b[39;00m \u001b[38;5;129;01mnot\u001b[39;00m is_bool_array(dim_sel, \u001b[38;5;241m1\u001b[39m):\n\u001b[0;32m--> 373\u001b[0m         \u001b[38;5;28;01mraise\u001b[39;00m \u001b[38;5;167;01mIndexError\u001b[39;00m(\u001b[38;5;124m'\u001b[39m\u001b[38;5;124mBoolean arrays in an orthogonal selection must \u001b[39m\u001b[38;5;124m'\u001b[39m\n\u001b[1;32m    374\u001b[0m                          \u001b[38;5;124m'\u001b[39m\u001b[38;5;124mbe 1-dimensional only\u001b[39m\u001b[38;5;124m'\u001b[39m)\n\u001b[1;32m    376\u001b[0m     \u001b[38;5;66;03m# check shape\u001b[39;00m\n\u001b[1;32m    377\u001b[0m     \u001b[38;5;28;01mif\u001b[39;00m dim_sel\u001b[38;5;241m.\u001b[39mshape[\u001b[38;5;241m0\u001b[39m] \u001b[38;5;241m!=\u001b[39m dim_len:\n",
      "\u001b[0;31mIndexError\u001b[0m: Boolean arrays in an orthogonal selection must be 1-dimensional only"
     ]
    }
   ],
   "source": [
    "z.oindex[np.array([[True, False, True], [False, True, False], [False, False, True]]), :]"
   ]
  },
  {
   "cell_type": "code",
   "execution_count": 25,
   "id": "539e193c-f485-4611-ba91-5ddfcf8eeacc",
   "metadata": {},
   "outputs": [],
   "source": [
    "bg = sm[...] == 0"
   ]
  },
  {
   "cell_type": "code",
   "execution_count": 9,
   "id": "2b7023f1-7ee7-445f-81d8-834032070698",
   "metadata": {},
   "outputs": [],
   "source": [
    "dist, (i, j) = ndimage.distance_transform_edt(\n",
    "    bg, return_indices=True\n",
    ")"
   ]
  },
  {
   "cell_type": "code",
   "execution_count": 10,
   "id": "e54bafb2-e7c6-49e3-bab6-dbf596eb7bd7",
   "metadata": {},
   "outputs": [
    {
     "data": {
      "text/plain": [
       "(3139, 2511)"
      ]
     },
     "execution_count": 10,
     "metadata": {},
     "output_type": "execute_result"
    }
   ],
   "source": [
    "dist.shape"
   ]
  },
  {
   "cell_type": "code",
   "execution_count": 11,
   "id": "c741e70b-ffcd-4663-a90b-dafef01d98bb",
   "metadata": {},
   "outputs": [],
   "source": [
    "sm_mod = sm[...]"
   ]
  },
  {
   "cell_type": "code",
   "execution_count": 12,
   "id": "7117edc1-b89a-43e2-ada8-3fb17c201671",
   "metadata": {},
   "outputs": [
    {
     "data": {
      "text/plain": [
       "array([[ True,  True,  True, ...,  True,  True,  True],\n",
       "       [ True,  True,  True, ...,  True,  True,  True],\n",
       "       [ True,  True,  True, ...,  True,  True,  True],\n",
       "       ...,\n",
       "       [ True,  True,  True, ...,  True,  True,  True],\n",
       "       [ True,  True,  True, ...,  True,  True,  True],\n",
       "       [ True,  True,  True, ...,  True,  True,  True]])"
      ]
     },
     "execution_count": 12,
     "metadata": {},
     "output_type": "execute_result"
    }
   ],
   "source": [
    "bg"
   ]
  },
  {
   "cell_type": "code",
   "execution_count": 13,
   "id": "8714d2ac-311a-449c-b40b-bfc815f32cd1",
   "metadata": {},
   "outputs": [
    {
     "data": {
      "text/plain": [
       "<matplotlib.image.AxesImage at 0x18b01dd50>"
      ]
     },
     "execution_count": 13,
     "metadata": {},
     "output_type": "execute_result"
    },
    {
     "data": {
      "image/png": "[encoded data removed]",
      "text/plain": [
       "<Figure size 432x288 with 1 Axes>"
      ]
     },
     "metadata": {
      "needs_background": "light"
     },
     "output_type": "display_data"
    }
   ],
   "source": [
    "plt.imshow(bg)"
   ]
  },
  {
   "cell_type": "code",
   "execution_count": 14,
   "id": "be9abebd-099d-46c6-913e-3772965d6437",
   "metadata": {},
   "outputs": [
    {
     "data": {
      "text/plain": [
       "<matplotlib.image.AxesImage at 0x18b153310>"
      ]
     },
     "execution_count": 14,
     "metadata": {},
     "output_type": "execute_result"
    },
    {
     "data": {
      "image/png": "[encoded data removed]",
      "text/plain": [
       "<Figure size 432x288 with 1 Axes>"
      ]
     },
     "metadata": {
      "needs_background": "light"
     },
     "output_type": "display_data"
    }
   ],
   "source": [
    "plt.imshow(dist)"
   ]
  },
  {
   "cell_type": "code",
   "execution_count": 15,
   "id": "793ca477-73ac-413c-845d-024010b2d9d1",
   "metadata": {},
   "outputs": [
    {
     "data": {
      "text/plain": [
       "<matplotlib.image.AxesImage at 0x18b1c6b60>"
      ]
     },
     "execution_count": 15,
     "metadata": {},
     "output_type": "execute_result"
    },
    {
     "data": {
      "image/png": "[encoded data removed]",
      "text/plain": [
       "<Figure size 432x288 with 1 Axes>"
      ]
     },
     "metadata": {
      "needs_background": "light"
     },
     "output_type": "display_data"
    }
   ],
   "source": [
    "plt.imshow(dist <= 3)"
   ]
  },
  {
   "cell_type": "code",
   "execution_count": 16,
   "id": "9a274f08-03f2-4491-9883-089d330a0b40",
   "metadata": {},
   "outputs": [],
   "source": [
    "cm = sm[...] != 0"
   ]
  },
  {
   "cell_type": "code",
   "execution_count": 17,
   "id": "a88d5a57-2628-4162-81e4-aacc8b28f2bc",
   "metadata": {},
   "outputs": [],
   "source": [
    "dist, (i, j) = ndimage.distance_transform_edt(\n",
    "    cm, return_indices=True\n",
    ")"
   ]
  },
  {
   "cell_type": "code",
   "execution_count": 18,
   "id": "96e0ce36-98e2-473f-975b-e758f25abb69",
   "metadata": {},
   "outputs": [
    {
     "data": {
      "text/plain": [
       "(3139, 2511)"
      ]
     },
     "execution_count": 18,
     "metadata": {},
     "output_type": "execute_result"
    }
   ],
   "source": [
    "dist.shape"
   ]
  },
  {
   "cell_type": "code",
   "execution_count": 19,
   "id": "67ac99fd-cb9d-4f56-9939-bd85c8e0ab00",
   "metadata": {},
   "outputs": [
    {
     "data": {
      "text/plain": [
       "array([[False, False, False, ..., False, False, False],\n",
       "       [False, False, False, ..., False, False, False],\n",
       "       [False, False, False, ..., False, False, False],\n",
       "       ...,\n",
       "       [False, False, False, ..., False, False, False],\n",
       "       [False, False, False, ..., False, False, False],\n",
       "       [False, False, False, ..., False, False, False]])"
      ]
     },
     "execution_count": 19,
     "metadata": {},
     "output_type": "execute_result"
    }
   ],
   "source": [
    "cm"
   ]
  },
  {
   "cell_type": "code",
   "execution_count": 20,
   "id": "2e347edf-f382-4c29-9670-7405d978a1e4",
   "metadata": {},
   "outputs": [
    {
     "data": {
      "text/plain": [
       "<matplotlib.image.AxesImage at 0x18b236b90>"
      ]
     },
     "execution_count": 20,
     "metadata": {},
     "output_type": "execute_result"
    },
    {
     "data": {
      "image/png": "[encoded data removed]",
      "text/plain": [
       "<Figure size 432x288 with 1 Axes>"
      ]
     },
     "metadata": {
      "needs_background": "light"
     },
     "output_type": "display_data"
    }
   ],
   "source": [
    "plt.imshow(cm)"
   ]
  },
  {
   "cell_type": "code",
   "execution_count": 21,
   "id": "9a29fb27-c0fe-46a0-a3a5-b44c99a70c9e",
   "metadata": {},
   "outputs": [
    {
     "data": {
      "text/plain": [
       "<matplotlib.image.AxesImage at 0x18b29de10>"
      ]
     },
     "execution_count": 21,
     "metadata": {},
     "output_type": "execute_result"
    },
    {
     "data": {
      "image/png": "[encoded data removed]",
      "text/plain": [
       "<Figure size 432x288 with 1 Axes>"
      ]
     },
     "metadata": {
      "needs_background": "light"
     },
     "output_type": "display_data"
    }
   ],
   "source": [
    "plt.imshow(dist)"
   ]
  },
  {
   "cell_type": "code",
   "execution_count": 22,
   "id": "7fcc93f4-d254-4f6d-b9fb-7b78e6518968",
   "metadata": {},
   "outputs": [
    {
     "data": {
      "text/plain": [
       "<matplotlib.image.AxesImage at 0x18b31ce80>"
      ]
     },
     "execution_count": 22,
     "metadata": {},
     "output_type": "execute_result"
    },
    {
     "data": {
      "image/png": "[encoded data removed]",
      "text/plain": [
       "<Figure size 432x288 with 1 Axes>"
      ]
     },
     "metadata": {
      "needs_background": "light"
     },
     "output_type": "display_data"
    }
   ],
   "source": [
    "plt.imshow(dist <= 3)"
   ]
  },
  {
   "cell_type": "code",
   "execution_count": 26,
   "id": "3a44e063-3e2d-4f96-a613-5a8655b646e3",
   "metadata": {},
   "outputs": [],
   "source": [
    "viewer_1 = napari.view_image(sm)"
   ]
  },
  {
   "cell_type": "code",
   "execution_count": 251,
   "id": "5571c83b-0af4-413a-b674-adf68f1ed4d7",
   "metadata": {},
   "outputs": [
    {
     "data": {
      "text/plain": [
       "<Image layer 'im' at 0x1c27b6bf0>"
      ]
     },
     "execution_count": 251,
     "metadata": {},
     "output_type": "execute_result"
    }
   ],
   "source": [
    "viewer_1.add_image(im)"
   ]
  },
  {
   "cell_type": "code",
   "execution_count": 24,
   "id": "7cf27803-375b-4194-9001-bc7b663703d0",
   "metadata": {},
   "outputs": [
    {
     "data": {
      "text/plain": [
       "<Image layer 'dist' at 0x1aa8ffca0>"
      ]
     },
     "execution_count": 24,
     "metadata": {},
     "output_type": "execute_result"
    }
   ],
   "source": [
    "viewer_1.add_image(dist)"
   ]
  },
  {
   "cell_type": "code",
   "execution_count": 198,
   "id": "2141b594-331b-4c7d-890c-1fd627db9db4",
   "metadata": {},
   "outputs": [
    {
     "data": {
      "text/plain": [
       "<Image layer 'sm' at 0x1dbc66c20>"
      ]
     },
     "execution_count": 198,
     "metadata": {},
     "output_type": "execute_result"
    }
   ],
   "source": [
    "viewer_1.add_image(sm)"
   ]
  },
  {
   "cell_type": "code",
   "execution_count": 10,
   "id": "10f90322-ae89-4856-8b73-2b9b5f4d0a4d",
   "metadata": {},
   "outputs": [],
   "source": [
    "from skimage.measure._regionprops import RegionProperties, _props_to_dict"
   ]
  },
  {
   "cell_type": "code",
   "execution_count": 11,
   "id": "9dfc54b1-23be-47cc-bdf0-bde0eef4720d",
   "metadata": {},
   "outputs": [],
   "source": [
    "import pdb"
   ]
  },
  {
   "cell_type": "code",
   "execution_count": 473,
   "id": "ef358003-c059-4c39-9d0f-b1602c18e961",
   "metadata": {},
   "outputs": [],
   "source": [
    "def erode_mask(mask, radius):\n",
    "    mask_out = mask.copy()\n",
    "    dist = ndimage.distance_transform_edt(mask != 0)\n",
    "    mask_out[dist <= radius] = 0\n",
    "    return mask_out\n",
    "\n",
    "\n",
    "class LazyExpandedRegions:\n",
    "    def __init__(self, label_image, intensity_image, radius, extra_properties=None):\n",
    "        # Copy because we will keep modifying it\n",
    "        self.label_image = label_image.copy()\n",
    "        self.intensity_image = intensity_image\n",
    "        self.radius = radius\n",
    "        self.objects = ndimage.find_objects(label_image)\n",
    "        self.extra_properties = extra_properties\n",
    "        self.footprint = morphology.disk(self.radius)\n",
    "        \n",
    "    def find_contours(self):\n",
    "        contours = []\n",
    "        for i in range(len(self.objects)):\n",
    "            sl, mask = self.get_expanded_cell_mask(i)\n",
    "            mask = ndimage.binary_fill_holes(mask)\n",
    "            contour = skimage.measure.find_contours(\n",
    "                mask, level=0.5, fully_connected=\"high\"\n",
    "            )\n",
    "            contour = np.concatenate(contour, axis=0)\n",
    "            # contour = np.flip(contour, axis=1)\n",
    "            # contour = cv2.findContours(\n",
    "            #     mask.astype(np.uint8), cv2.RETR_EXTERNAL, cv2.CHAIN_APPROX_SIMPLE, offset=[x.start for x in sl]\n",
    "            # )[0][0][:, 0, :]\n",
    "            contour += np.array([x.start for x in sl])\n",
    "            # contour[:, 1] = sl[1].stop - contour[:, 1]\n",
    "            contours.append(contour)\n",
    "        return contours\n",
    "    \n",
    "    def get_expanded_cell_mask(self, x):\n",
    "        label = x + 1\n",
    "        sl = self.objects[x]\n",
    "        sl_expanded = tuple(\n",
    "            slice(\n",
    "                max(0, x.start - self.radius - 1),\n",
    "                min(self.label_image.shape[i], x.stop + self.radius + 1)\n",
    "            ) for i, x in enumerate(sl)\n",
    "        )\n",
    "        li_target = self.label_image[sl_expanded] == label\n",
    "        if self.radius > 0:\n",
    "            li_target = morphology.binary_dilation(\n",
    "                li_target, footprint=self.footprint\n",
    "            )\n",
    "        return sl_expanded, li_target\n",
    "        \n",
    "    def __getitem__(self, x):\n",
    "        label = x + 1\n",
    "        sl_expanded, li_target = self.get_expanded_cell_mask(x)\n",
    "        li_orig = self.label_image[sl_expanded]\n",
    "        li_repl = li_orig.copy()\n",
    "        li_repl[li_repl != label] = 0\n",
    "        li_repl[li_target] = label\n",
    "        try:\n",
    "            self.label_image[sl_expanded] = li_repl\n",
    "            return RegionProperties(\n",
    "                sl_expanded, label, self.label_image, self.intensity_image,\n",
    "                cache_active=True, extra_properties=self.extra_properties\n",
    "            )\n",
    "        finally:\n",
    "            self.label_image[sl_expanded] = li_orig\n",
    "\n",
    "    def __len__(self):\n",
    "        return len(self.objects)\n",
    "    \n",
    "\n",
    "\n",
    "\n",
    "def regionprops_tidal(label_image, intensity_image, radii, **kwargs):\n",
    "    prop_tables = {}\n",
    "    \n",
    "    for r in radii:\n",
    "        if r < 0:\n",
    "            mask = erode_mask(label_image, radius = abs(r))\n",
    "            prop_tables[r] = skimage.measure.regionprops_table(\n",
    "                mask, intensity_image, **kwargs\n",
    "            )\n",
    "        elif r == 0:\n",
    "            prop_tables[r] = skimage.measure.regionprops_table(\n",
    "                label_image, intensity_image, **kwargs\n",
    "            )\n",
    "        else:\n",
    "            extra_properties = kwargs.get(\"extra_properties\", None)\n",
    "            properties = kwargs.get(\"properties\", (\"label\", \"bbox\"))\n",
    "            if extra_properties is not None:\n",
    "                properties = list(properties) + [x.__name__ for x in extra_properties]\n",
    "            prop_tables[r] = _props_to_dict(\n",
    "                LazyExpandedRegions(\n",
    "                    label_image, intensity_image, r, extra_properties=extra_properties\n",
    "                ),\n",
    "                properties=properties,\n",
    "                separator=kwargs.get(\"separator\", \"-\")\n",
    "            )\n",
    "    return prop_tables"
   ]
  },
  {
   "cell_type": "code",
   "execution_count": 389,
   "id": "c58e9ef3-ba3a-4290-8d79-eeebb923425f",
   "metadata": {},
   "outputs": [],
   "source": [
    "x = erode_mask(sm[0][...], 2)"
   ]
  },
  {
   "cell_type": "code",
   "execution_count": 33,
   "id": "567c96e5-26be-40e1-85e7-68828331ebc2",
   "metadata": {},
   "outputs": [
    {
     "data": {
      "text/plain": [
       "(2511, 3139)"
      ]
     },
     "execution_count": 33,
     "metadata": {},
     "output_type": "execute_result"
    }
   ],
   "source": [
    " np.moveaxis(im[0][...], 0, -1).shape"
   ]
  },
  {
   "cell_type": "code",
   "execution_count": 34,
   "id": "7f1255e1-bc4a-4c38-8987-62d8a3a25a14",
   "metadata": {},
   "outputs": [
    {
     "data": {
      "text/plain": [
       "<zarr.core.Array '/0' (12, 3139, 2511) uint16 read-only>"
      ]
     },
     "execution_count": 34,
     "metadata": {},
     "output_type": "execute_result"
    }
   ],
   "source": [
    "im"
   ]
  },
  {
   "cell_type": "code",
   "execution_count": 390,
   "id": "4d2e1514-5fea-481c-8237-fa6bf6193800",
   "metadata": {},
   "outputs": [
    {
     "data": {
      "text/plain": [
       "array([0, 0, 0, ..., 0, 0, 0], dtype=int32)"
      ]
     },
     "execution_count": 390,
     "metadata": {},
     "output_type": "execute_result"
    }
   ],
   "source": [
    "x"
   ]
  },
  {
   "cell_type": "code",
   "execution_count": 36,
   "id": "dc2a3805-5461-47a4-bca9-e18493fc0432",
   "metadata": {},
   "outputs": [
    {
     "data": {
      "text/plain": [
       "(2511,)"
      ]
     },
     "execution_count": 36,
     "metadata": {},
     "output_type": "execute_result"
    }
   ],
   "source": [
    "sm[0][...].shape"
   ]
  },
  {
   "cell_type": "code",
   "execution_count": 137,
   "id": "33469bbc-5f98-428a-81a0-c68092e83748",
   "metadata": {},
   "outputs": [
    {
     "name": "stdout",
     "output_type": "stream",
     "text": [
      "Automatic pdb calling has been turned OFF\n"
     ]
    }
   ],
   "source": [
    "%pdb"
   ]
  },
  {
   "cell_type": "code",
   "execution_count": 37,
   "id": "8e06503d-22cf-4584-87d8-9defa9adbd49",
   "metadata": {},
   "outputs": [],
   "source": [
    "def intensity_sum(label_image, intensity_image):\n",
    "    return np.sum(intensity_image[label_image])"
   ]
  },
  {
   "cell_type": "code",
   "execution_count": null,
   "id": "8b1de168-2168-4b46-ac5b-577749627a4f",
   "metadata": {},
   "outputs": [],
   "source": []
  },
  {
   "cell_type": "code",
   "execution_count": 38,
   "id": "f187f8f4-e74d-4dde-80f4-4b4c89c78927",
   "metadata": {},
   "outputs": [
    {
     "name": "stderr",
     "output_type": "stream",
     "text": [
      "/Users/chug/opt/miniconda3/envs/celltide/lib/python3.10/site-packages/numpy/core/fromnumeric.py:3474: RuntimeWarning: Mean of empty slice.\n",
      "  return _methods._mean(a, axis=axis, dtype=dtype,\n",
      "/Users/chug/opt/miniconda3/envs/celltide/lib/python3.10/site-packages/numpy/core/_methods.py:181: RuntimeWarning: invalid value encountered in true_divide\n",
      "  ret = um.true_divide(\n"
     ]
    }
   ],
   "source": [
    "res = regionprops_tidal(\n",
    "    sm[...], np.moveaxis(im[...], 0, -1), [-4, -2, 0, 2, 4], properties=(\"area\", \"intensity_mean\"), extra_properties=[intensity_sum]\n",
    ")"
   ]
  },
  {
   "cell_type": "code",
   "execution_count": 40,
   "id": "6da08cbb-200b-4712-9c77-7b774351a023",
   "metadata": {},
   "outputs": [
    {
     "data": {
      "text/plain": [
       "{'area': array([15,  7, 60, ...,  6, 21,  5]),\n",
       " 'intensity_mean-0': array([23206.26666667, 23143.14285714, 28364.18333333, ...,\n",
       "        30891.        , 13981.9047619 , 24580.4       ]),\n",
       " 'intensity_mean-1': array([1346.        , 1259.71428571, 1291.41666667, ..., 1340.5       ,\n",
       "        1209.04761905, 1220.        ]),\n",
       " 'intensity_mean-2': array([177.4       , 210.42857143, 205.7       , ..., 249.        ,\n",
       "        192.        , 251.6       ]),\n",
       " 'intensity_mean-3': array([ 527.26666667,  706.71428571,  891.68333333, ...,  897.33333333,\n",
       "        1218.66666667,  966.6       ]),\n",
       " 'intensity_mean-4': array([ 7771.26666667, 14963.42857143, 17452.61666667, ...,\n",
       "        16246.16666667,  8620.76190476, 15212.2       ]),\n",
       " 'intensity_mean-5': array([415.66666667, 929.71428571, 874.11666667, ..., 609.16666667,\n",
       "        820.71428571, 704.6       ]),\n",
       " 'intensity_mean-6': array([ 269.86666667,  434.28571429, 2706.35      , ...,  813.33333333,\n",
       "         975.66666667, 1099.8       ]),\n",
       " 'intensity_mean-7': array([324.86666667, 827.57142857, 380.76666667, ..., 347.66666667,\n",
       "        381.19047619, 376.4       ]),\n",
       " 'intensity_mean-8': array([ 9378.73333333, 17078.71428571, 19419.76666667, ...,\n",
       "        19628.66666667, 10362.52380952, 18383.        ]),\n",
       " 'intensity_mean-9': array([ 747.33333333, 1184.85714286, 1194.21666667, ...,  961.        ,\n",
       "        1035.85714286, 1076.        ]),\n",
       " 'intensity_mean-10': array([217.46666667, 475.14285714, 337.05      , ..., 244.        ,\n",
       "        277.38095238, 322.        ]),\n",
       " 'intensity_mean-11': array([812.93333333, 930.28571429, 900.7       , ..., 858.        ,\n",
       "        894.76190476, 869.        ]),\n",
       " 'intensity_sum-0': array([ 348094.,  162002., 1701851., ...,  185346.,  293620.,  122902.]),\n",
       " 'intensity_sum-1': array([20190.,  8818., 77485., ...,  8043., 25390.,  6100.]),\n",
       " 'intensity_sum-2': array([ 2661.,  1473., 12342., ...,  1494.,  4032.,  1258.]),\n",
       " 'intensity_sum-3': array([ 7909.,  4947., 53501., ...,  5384., 25592.,  4833.]),\n",
       " 'intensity_sum-4': array([ 116569.,  104744., 1047157., ...,   97477.,  181036.,   76061.]),\n",
       " 'intensity_sum-5': array([ 6235.,  6508., 52447., ...,  3655., 17235.,  3523.]),\n",
       " 'intensity_sum-6': array([  4048.,   3040., 162381., ...,   4880.,  20489.,   5499.]),\n",
       " 'intensity_sum-7': array([ 4873.,  5793., 22846., ...,  2086.,  8005.,  1882.]),\n",
       " 'intensity_sum-8': array([ 140681.,  119551., 1165186., ...,  117772.,  217613.,   91915.]),\n",
       " 'intensity_sum-9': array([11210.,  8294., 71653., ...,  5766., 21753.,  5380.]),\n",
       " 'intensity_sum-10': array([ 3262.,  3326., 20223., ...,  1464.,  5825.,  1610.]),\n",
       " 'intensity_sum-11': array([12194.,  6512., 54042., ...,  5148., 18790.,  4345.])}"
      ]
     },
     "execution_count": 40,
     "metadata": {},
     "output_type": "execute_result"
    }
   ],
   "source": [
    "res[-4]"
   ]
  },
  {
   "cell_type": "code",
   "execution_count": 41,
   "id": "4116d6a0-2b70-4de3-b01c-4be46d506a64",
   "metadata": {},
   "outputs": [],
   "source": [
    "y = pd.concat([pd.DataFrame.from_dict(x) for x in res.values()], keys=res.keys(), names=[\"tide_radius\", \"row_id\"])"
   ]
  },
  {
   "cell_type": "code",
   "execution_count": 43,
   "id": "3357692c-77ba-4a92-8c8b-3983cd5257f0",
   "metadata": {},
   "outputs": [],
   "source": [
    "y.reset_index(inplace=True)"
   ]
  },
  {
   "cell_type": "code",
   "execution_count": 44,
   "id": "bde372a7-3e58-4ec7-90f3-6b10932ba1a2",
   "metadata": {},
   "outputs": [],
   "source": [
    "y.to_csv(\"test_tide.csv\")"
   ]
  },
  {
   "cell_type": "code",
   "execution_count": 66,
   "id": "9e19ddef-6ce4-4a1b-9d2b-d2608ab07c76",
   "metadata": {},
   "outputs": [
    {
     "name": "stderr",
     "output_type": "stream",
     "text": [
      "/Users/chug/opt/miniconda3/envs/celltide/lib/python3.10/site-packages/numpy/core/fromnumeric.py:3440: RuntimeWarning: Mean of empty slice.\n",
      "  return _methods._mean(a, axis=axis, dtype=dtype,\n",
      "/Users/chug/opt/miniconda3/envs/celltide/lib/python3.10/site-packages/numpy/core/_methods.py:181: RuntimeWarning: invalid value encountered in true_divide\n",
      "  ret = um.true_divide(\n"
     ]
    }
   ],
   "source": [
    "rps =  regionprops_tidal(\n",
    "    sm[...], np.moveaxis(im[...], 0, -1), [-4, -2, 0, 2, 4], properties=(\"area\", \"intensity_mean\"), extra_properties=[intensity_sum]\n",
    ")"
   ]
  },
  {
   "cell_type": "code",
   "execution_count": 45,
   "id": "aa99b3a0-513a-4dba-b1e9-54a4035ef310",
   "metadata": {},
   "outputs": [],
   "source": [
    "res_polys = regionprops_tidal(\n",
    "    sm[...], np.moveaxis(im[...], 0, -1), [0], properties=(\"area\", \"intensity_mean\"), extra_properties=[intensity_sum]\n",
    ")"
   ]
  },
  {
   "cell_type": "code",
   "execution_count": 486,
   "id": "806ea784-4a9e-4252-89ba-074d68b27887",
   "metadata": {},
   "outputs": [],
   "source": [
    "res = LazyExpandedRegions(\n",
    "    sm[...], np.moveaxis(im[...], 0, -1), radius=1\n",
    ")"
   ]
  },
  {
   "cell_type": "code",
   "execution_count": 487,
   "id": "0071689f-95a3-4203-bd51-a1f106590f8d",
   "metadata": {},
   "outputs": [],
   "source": [
    "contours = res.find_contours()"
   ]
  },
  {
   "cell_type": "code",
   "execution_count": 430,
   "id": "18673280-78e2-47b4-b4c7-296d7d37c05a",
   "metadata": {
    "tags": []
   },
   "outputs": [
    {
     "data": {
      "text/plain": [
       "(55, 2)"
      ]
     },
     "execution_count": 430,
     "metadata": {},
     "output_type": "execute_result"
    }
   ],
   "source": [
    "contours[1].shape"
   ]
  },
  {
   "cell_type": "code",
   "execution_count": 431,
   "id": "45f2115d-fa2e-4b55-83c1-48403478142c",
   "metadata": {},
   "outputs": [],
   "source": [
    "x, y = res.get_expanded_cell_mask(7)"
   ]
  },
  {
   "cell_type": "code",
   "execution_count": 432,
   "id": "054990af-2be5-40eb-a485-9a0c4a6327e8",
   "metadata": {},
   "outputs": [
    {
     "data": {
      "text/plain": [
       "(slice(668, 682, None), slice(993, 1012, None))"
      ]
     },
     "execution_count": 432,
     "metadata": {},
     "output_type": "execute_result"
    }
   ],
   "source": [
    "x"
   ]
  },
  {
   "cell_type": "code",
   "execution_count": 433,
   "id": "f8c02017-8805-4f6c-80c6-95c206f96b60",
   "metadata": {},
   "outputs": [],
   "source": [
    "y_shape = Polygon(contours[7])"
   ]
  },
  {
   "cell_type": "code",
   "execution_count": 434,
   "id": "2db306ea-81ad-4106-8998-9c1b2f12e53c",
   "metadata": {},
   "outputs": [
    {
     "data": {
      "image/svg+xml": [
       "<svg xmlns=\"http://www.w3.org/2000/svg\" xmlns:xlink=\"http://www.w3.org/1999/xlink\" width=\"100.0\" height=\"100.0\" viewBox=\"667.82 992.82 18.3599999999999 13.3599999999999\" preserveAspectRatio=\"xMinYMin meet\"><g transform=\"matrix(1,0,0,-1,0,1999.0)\"><path fill-rule=\"evenodd\" fill=\"#66cc99\" stroke=\"#555555\" stroke-width=\"0.367199999999998\" opacity=\"0.6\" d=\"M 680.0,1005.5 L 679.5,1005.0 L 679.0,1004.5 L 678.0,1004.5 L 677.0,1004.5 L 676.5,1004.0 L 676.0,1003.5 L 675.0,1003.5 L 674.5,1004.0 L 674.0,1004.5 L 673.5,1004.0 L 673.0,1003.5 L 672.0,1003.5 L 671.5,1003.0 L 671.0,1002.5 L 670.0,1002.5 L 669.5,1002.0 L 669.0,1001.5 L 668.5,1001.0 L 669.0,1000.5 L 669.5,1000.0 L 670.0,999.5 L 670.5,999.0 L 671.0,998.5 L 672.0,998.5 L 672.5,998.0 L 672.5,997.0 L 673.0,996.5 L 673.5,996.0 L 674.0,995.5 L 674.5,995.0 L 675.0,994.5 L 675.5,994.0 L 676.0,993.5 L 677.0,993.5 L 678.0,993.5 L 679.0,993.5 L 680.0,993.5 L 681.0,993.5 L 681.5,994.0 L 682.0,994.5 L 682.5,995.0 L 683.0,995.5 L 683.5,996.0 L 684.0,996.5 L 684.5,997.0 L 685.0,997.5 L 685.5,998.0 L 685.5,999.0 L 685.5,1000.0 L 685.5,1001.0 L 685.0,1001.5 L 684.5,1002.0 L 684.0,1002.5 L 683.5,1003.0 L 683.0,1003.5 L 682.5,1004.0 L 682.0,1004.5 L 681.0,1004.5 L 680.5,1005.0 L 680.0,1005.5 z\" /></g></svg>"
      ],
      "text/plain": [
       "<shapely.geometry.polygon.Polygon at 0x18974d540>"
      ]
     },
     "execution_count": 434,
     "metadata": {},
     "output_type": "execute_result"
    }
   ],
   "source": [
    "y_shape"
   ]
  },
  {
   "cell_type": "code",
   "execution_count": 435,
   "id": "bbf8bd2f-44ed-45a7-9741-e32174210982",
   "metadata": {},
   "outputs": [
    {
     "data": {
      "text/plain": [
       "<matplotlib.image.AxesImage at 0x1c070a710>"
      ]
     },
     "execution_count": 435,
     "metadata": {},
     "output_type": "execute_result"
    },
    {
     "data": {
      "image/png": "[encoded data removed]",
      "text/plain": [
       "<Figure size 432x288 with 1 Axes>"
      ]
     },
     "metadata": {
      "needs_background": "light"
     },
     "output_type": "display_data"
    }
   ],
   "source": [
    "plt.plot(contours[7][:, 0] - x[0].start, contours[7][:, 1] - x[1].start)\n",
    "plt.imshow(y)"
   ]
  },
  {
   "cell_type": "code",
   "execution_count": 13,
   "id": "d7a5c900-c6dd-40f0-8f59-24ebd646f71f",
   "metadata": {},
   "outputs": [],
   "source": [
    "import cv2"
   ]
  },
  {
   "cell_type": "code",
   "execution_count": 616,
   "id": "37a7b342-d624-4689-aa57-11d35d0f77a6",
   "metadata": {},
   "outputs": [],
   "source": [
    "y_cv2 = cv2.findContours(y.astype(np.uint8), cv2.RETR_EXTERNAL, cv2.CHAIN_APPROX_SIMPLE)[0][0][:, 0, :]"
   ]
  },
  {
   "cell_type": "code",
   "execution_count": 624,
   "id": "c894b036-9450-49b0-b849-12a163416405",
   "metadata": {},
   "outputs": [
    {
     "data": {
      "text/plain": [
       "array([[10,  1],\n",
       "       [ 9,  2],\n",
       "       [ 8,  2],\n",
       "       [ 6,  4],\n",
       "       [ 6,  5],\n",
       "       [ 4,  7],\n",
       "       [ 3,  7],\n",
       "       [ 2,  8],\n",
       "       [ 2,  9],\n",
       "       [ 1, 10],\n",
       "       [ 2, 11],\n",
       "       [ 2, 12],\n",
       "       [ 3, 12],\n",
       "       [ 4, 13],\n",
       "       [ 5, 13],\n",
       "       [ 6, 14],\n",
       "       [ 7, 14],\n",
       "       [ 8, 15],\n",
       "       [ 9, 14],\n",
       "       [10, 14],\n",
       "       [11, 15],\n",
       "       [13, 15],\n",
       "       [14, 16],\n",
       "       [15, 15],\n",
       "       [16, 15],\n",
       "       [17, 14],\n",
       "       [18, 14],\n",
       "       [20, 12],\n",
       "       [20, 11],\n",
       "       [21, 10],\n",
       "       [21,  7],\n",
       "       [20,  6],\n",
       "       [20,  5],\n",
       "       [17,  2],\n",
       "       [16,  2],\n",
       "       [15,  1]], dtype=int32)"
      ]
     },
     "execution_count": 624,
     "metadata": {},
     "output_type": "execute_result"
    }
   ],
   "source": [
    "y_cv2"
   ]
  },
  {
   "cell_type": "code",
   "execution_count": 617,
   "id": "b2d764c2-502b-4929-b457-e950095d66e2",
   "metadata": {},
   "outputs": [
    {
     "data": {
      "text/plain": [
       "<matplotlib.image.AxesImage at 0x1c6265060>"
      ]
     },
     "execution_count": 617,
     "metadata": {},
     "output_type": "execute_result"
    },
    {
     "data": {
      "image/png": "[encoded data removed]",
      "text/plain": [
       "<Figure size 432x288 with 1 Axes>"
      ]
     },
     "metadata": {
      "needs_background": "light"
     },
     "output_type": "display_data"
    }
   ],
   "source": [
    "plt.plot(y_cv2[:, 0], y_cv2[:, 1])\n",
    "plt.imshow(y)"
   ]
  },
  {
   "cell_type": "code",
   "execution_count": 319,
   "id": "3ea553b4-4ccb-4f85-906e-eeaee847dfe3",
   "metadata": {
    "collapsed": true,
    "jupyter": {
     "outputs_hidden": true
    },
    "tags": []
   },
   "outputs": [
    {
     "data": {
      "text/plain": [
       "array([[1005. ,  682.5],\n",
       "       [1004.5,  682. ],\n",
       "       [1004. ,  681.5],\n",
       "       [1003. ,  681.5],\n",
       "       [1002. ,  681.5],\n",
       "       [1001.5,  681. ],\n",
       "       [1001. ,  680.5],\n",
       "       [1000. ,  680.5],\n",
       "       [ 999.5,  681. ],\n",
       "       [ 999. ,  681.5],\n",
       "       [ 998.5,  681. ],\n",
       "       [ 998. ,  680.5],\n",
       "       [ 997. ,  680.5],\n",
       "       [ 996.5,  680. ],\n",
       "       [ 996. ,  679.5],\n",
       "       [ 995. ,  679.5],\n",
       "       [ 994.5,  679. ],\n",
       "       [ 994. ,  678.5],\n",
       "       [ 993. ,  678.5],\n",
       "       [ 992.5,  678. ],\n",
       "       [ 992.5,  677. ],\n",
       "       [ 992. ,  676.5],\n",
       "       [ 991.5,  676. ],\n",
       "       [ 992. ,  675.5],\n",
       "       [ 992.5,  675. ],\n",
       "       [ 992.5,  674. ],\n",
       "       [ 993. ,  673.5],\n",
       "       [ 993.5,  673. ],\n",
       "       [ 994. ,  672.5],\n",
       "       [ 995. ,  672.5],\n",
       "       [ 995.5,  672. ],\n",
       "       [ 996. ,  671.5],\n",
       "       [ 996.5,  671. ],\n",
       "       [ 996.5,  670. ],\n",
       "       [ 997. ,  669.5],\n",
       "       [ 997.5,  669. ],\n",
       "       [ 998. ,  668.5],\n",
       "       [ 998.5,  668. ],\n",
       "       [ 999. ,  667.5],\n",
       "       [1000. ,  667.5],\n",
       "       [1000.5,  667. ],\n",
       "       [1001. ,  666.5],\n",
       "       [1002. ,  666.5],\n",
       "       [1003. ,  666.5],\n",
       "       [1004. ,  666.5],\n",
       "       [1005. ,  666.5],\n",
       "       [1006. ,  666.5],\n",
       "       [1006.5,  667. ],\n",
       "       [1007. ,  667.5],\n",
       "       [1008. ,  667.5],\n",
       "       [1008.5,  668. ],\n",
       "       [1009. ,  668.5],\n",
       "       [1009.5,  669. ],\n",
       "       [1010. ,  669.5],\n",
       "       [1010.5,  670. ],\n",
       "       [1011. ,  670.5],\n",
       "       [1011.5,  671. ],\n",
       "       [1011.5,  672. ],\n",
       "       [1012. ,  672.5],\n",
       "       [1012.5,  673. ],\n",
       "       [1012.5,  674. ],\n",
       "       [1012.5,  675. ],\n",
       "       [1012.5,  676. ],\n",
       "       [1012. ,  676.5],\n",
       "       [1011.5,  677. ],\n",
       "       [1011.5,  678. ],\n",
       "       [1011. ,  678.5],\n",
       "       [1010.5,  679. ],\n",
       "       [1010. ,  679.5],\n",
       "       [1009.5,  680. ],\n",
       "       [1009. ,  680.5],\n",
       "       [1008. ,  680.5],\n",
       "       [1007.5,  681. ],\n",
       "       [1007. ,  681.5],\n",
       "       [1006. ,  681.5],\n",
       "       [1005.5,  682. ],\n",
       "       [1005. ,  682.5]])"
      ]
     },
     "execution_count": 319,
     "metadata": {},
     "output_type": "execute_result"
    }
   ],
   "source": [
    "np.array(y_shape.exterior.coords)"
   ]
  },
  {
   "cell_type": "code",
   "execution_count": 320,
   "id": "3a4d6d29-f1b6-417f-a1cb-b0b8259c2366",
   "metadata": {
    "collapsed": true,
    "jupyter": {
     "outputs_hidden": true
    },
    "tags": []
   },
   "outputs": [
    {
     "data": {
      "text/plain": [
       "array([[ True,  True],\n",
       "       [ True,  True],\n",
       "       [ True,  True],\n",
       "       [ True,  True],\n",
       "       [ True,  True],\n",
       "       [ True,  True],\n",
       "       [ True,  True],\n",
       "       [ True,  True],\n",
       "       [ True,  True],\n",
       "       [ True,  True],\n",
       "       [ True,  True],\n",
       "       [ True,  True],\n",
       "       [ True,  True],\n",
       "       [ True,  True],\n",
       "       [ True,  True],\n",
       "       [ True,  True],\n",
       "       [ True,  True],\n",
       "       [ True,  True],\n",
       "       [ True,  True],\n",
       "       [ True,  True],\n",
       "       [ True,  True],\n",
       "       [ True,  True],\n",
       "       [ True,  True],\n",
       "       [ True,  True],\n",
       "       [ True,  True],\n",
       "       [ True,  True],\n",
       "       [ True,  True],\n",
       "       [ True,  True],\n",
       "       [ True,  True],\n",
       "       [ True,  True],\n",
       "       [ True,  True],\n",
       "       [ True,  True],\n",
       "       [ True,  True],\n",
       "       [ True,  True],\n",
       "       [ True,  True],\n",
       "       [ True,  True],\n",
       "       [ True,  True],\n",
       "       [ True,  True],\n",
       "       [ True,  True],\n",
       "       [ True,  True],\n",
       "       [ True,  True],\n",
       "       [ True,  True],\n",
       "       [ True,  True],\n",
       "       [ True,  True],\n",
       "       [ True,  True],\n",
       "       [ True,  True],\n",
       "       [ True,  True],\n",
       "       [ True,  True],\n",
       "       [ True,  True],\n",
       "       [ True,  True],\n",
       "       [ True,  True],\n",
       "       [ True,  True],\n",
       "       [ True,  True],\n",
       "       [ True,  True],\n",
       "       [ True,  True],\n",
       "       [ True,  True],\n",
       "       [ True,  True],\n",
       "       [ True,  True],\n",
       "       [ True,  True],\n",
       "       [ True,  True],\n",
       "       [ True,  True],\n",
       "       [ True,  True],\n",
       "       [ True,  True],\n",
       "       [ True,  True],\n",
       "       [ True,  True],\n",
       "       [ True,  True],\n",
       "       [ True,  True],\n",
       "       [ True,  True],\n",
       "       [ True,  True],\n",
       "       [ True,  True],\n",
       "       [ True,  True],\n",
       "       [ True,  True],\n",
       "       [ True,  True],\n",
       "       [ True,  True],\n",
       "       [ True,  True],\n",
       "       [ True,  True],\n",
       "       [ True,  True]])"
      ]
     },
     "execution_count": 320,
     "metadata": {},
     "output_type": "execute_result"
    }
   ],
   "source": [
    "np.flip(contours[7], 1) == np.array(y_shape.exterior.coords)"
   ]
  },
  {
   "cell_type": "code",
   "execution_count": 636,
   "id": "c762979b-d923-4ef7-a835-966b4826610a",
   "metadata": {},
   "outputs": [],
   "source": [
    "y_reconstructed = rasterio.features.rasterize(\n",
    "    [shapely.affinity.translate(y_shape, -x[1].start + 0.5, -x[0].start + 0.5)],\n",
    "    out_shape=(x[0].stop - x[0].start, x[1].stop - x[1].start),\n",
    "    fill=0,\n",
    "    all_touched=False\n",
    ")"
   ]
  },
  {
   "cell_type": "code",
   "execution_count": 632,
   "id": "61240bf3-10e1-4632-92aa-5a2b780ee831",
   "metadata": {},
   "outputs": [
    {
     "data": {
      "text/plain": [
       "(1.0, 1.0, 22.0, 17.0)"
      ]
     },
     "execution_count": 632,
     "metadata": {},
     "output_type": "execute_result"
    }
   ],
   "source": [
    "shapely.affinity.translate(y_shape, -x[1].start + 0.5, -x[0].start + 0.5).exterior.bounds"
   ]
  },
  {
   "cell_type": "code",
   "execution_count": 633,
   "id": "63163566-0f5e-4f75-a458-d71c89bb04ff",
   "metadata": {},
   "outputs": [
    {
     "data": {
      "text/plain": [
       "(18, 23)"
      ]
     },
     "execution_count": 633,
     "metadata": {},
     "output_type": "execute_result"
    }
   ],
   "source": [
    "(x[0].stop - x[0].start, x[1].stop - x[1].start)"
   ]
  },
  {
   "cell_type": "code",
   "execution_count": 637,
   "id": "3d932513-992c-4b13-ba86-4239d97c98b4",
   "metadata": {},
   "outputs": [
    {
     "data": {
      "text/plain": [
       "[<matplotlib.lines.Line2D at 0x1e652ccd0>]"
      ]
     },
     "execution_count": 637,
     "metadata": {},
     "output_type": "execute_result"
    },
    {
     "data": {
      "image/png": "[encoded data removed]",
      "text/plain": [
       "<Figure size 432x288 with 1 Axes>"
      ]
     },
     "metadata": {
      "needs_background": "light"
     },
     "output_type": "display_data"
    }
   ],
   "source": [
    "plt.imshow(\n",
    "y_reconstructed\n",
    ")\n",
    "plt.plot(contours[7][:, 1] - x[1].start, contours[7][:, 0] - x[0].start)"
   ]
  },
  {
   "cell_type": "code",
   "execution_count": 525,
   "id": "b1c1b66b-db31-43d0-a670-a2399f42134e",
   "metadata": {},
   "outputs": [
    {
     "data": {
      "text/plain": [
       "(array([14. , 13.5, 13. , 12. , 11. , 10.5, 10. ,  9. ,  8.5,  8. ,  7.5,\n",
       "         7. ,  6. ,  5.5,  5. ,  4. ,  3.5,  3. ,  2. ,  1.5,  1.5,  1. ,\n",
       "         0.5,  1. ,  1.5,  1.5,  2. ,  2.5,  3. ,  4. ,  4.5,  5. ,  5.5,\n",
       "         5.5,  6. ,  6.5,  7. ,  7.5,  8. ,  9. ,  9.5, 10. , 11. , 12. ,\n",
       "        13. , 14. , 15. , 15.5, 16. , 17. , 17.5, 18. , 18.5, 19. , 19.5,\n",
       "        20. , 20.5, 20.5, 21. , 21.5, 21.5, 21.5, 21.5, 21. , 20.5, 20.5,\n",
       "        20. , 19.5, 19. , 18.5, 18. , 17. , 16.5, 16. , 15. , 14.5, 14. ]),\n",
       " array([16.5, 16. , 15.5, 15.5, 15.5, 15. , 14.5, 14.5, 15. , 15.5, 15. ,\n",
       "        14.5, 14.5, 14. , 13.5, 13.5, 13. , 12.5, 12.5, 12. , 11. , 10.5,\n",
       "        10. ,  9.5,  9. ,  8. ,  7.5,  7. ,  6.5,  6.5,  6. ,  5.5,  5. ,\n",
       "         4. ,  3.5,  3. ,  2.5,  2. ,  1.5,  1.5,  1. ,  0.5,  0.5,  0.5,\n",
       "         0.5,  0.5,  0.5,  1. ,  1.5,  1.5,  2. ,  2.5,  3. ,  3.5,  4. ,\n",
       "         4.5,  5. ,  6. ,  6.5,  7. ,  8. ,  9. , 10. , 10.5, 11. , 12. ,\n",
       "        12.5, 13. , 13.5, 14. , 14.5, 14.5, 15. , 15.5, 15.5, 16. , 16.5]))"
      ]
     },
     "execution_count": 525,
     "metadata": {},
     "output_type": "execute_result"
    }
   ],
   "source": [
    "contours[7][:, 1] - x[1].start, contours[7][:, 0] - x[0].start"
   ]
  },
  {
   "cell_type": "code",
   "execution_count": 340,
   "id": "19e55673-ea5a-4336-bc00-c8e04d8c3a25",
   "metadata": {},
   "outputs": [
    {
     "data": {
      "text/plain": [
       "<matplotlib.image.AxesImage at 0x1c3e76e90>"
      ]
     },
     "execution_count": 340,
     "metadata": {},
     "output_type": "execute_result"
    },
    {
     "data": {
      "image/png": "[encoded data removed]",
      "text/plain": [
       "<Figure size 432x288 with 1 Axes>"
      ]
     },
     "metadata": {
      "needs_background": "light"
     },
     "output_type": "display_data"
    }
   ],
   "source": [
    "plt.imshow(y)"
   ]
  },
  {
   "cell_type": "code",
   "execution_count": 347,
   "id": "b37c088b-e2f2-49cf-9574-be35889a3719",
   "metadata": {},
   "outputs": [],
   "source": [
    "def rg(img1, img2):\n",
    "    assert img1.shape == img2.shape\n",
    "    out = np.empty(img1.shape + (3,), dtype=np.float32)\n",
    "    out[...,0] = skimage.util.img_as_float32(img1)\n",
    "    out[...,1] = skimage.util.img_as_float32(img2)\n",
    "    out[...,2] = 0\n",
    "    return out"
   ]
  },
  {
   "cell_type": "code",
   "execution_count": 348,
   "id": "197b9fbd-1744-442c-b5df-8ab310635696",
   "metadata": {},
   "outputs": [
    {
     "data": {
      "text/plain": [
       "<matplotlib.image.AxesImage at 0x1c39bb3a0>"
      ]
     },
     "execution_count": 348,
     "metadata": {},
     "output_type": "execute_result"
    },
    {
     "data": {
      "image/png": "[encoded data removed]",
      "text/plain": [
       "<Figure size 432x288 with 1 Axes>"
      ]
     },
     "metadata": {
      "needs_background": "light"
     },
     "output_type": "display_data"
    }
   ],
   "source": [
    "plt.imshow(\n",
    "    rg(\n",
    "        y_reconstructed.astype(bool),\n",
    "        y\n",
    "    )\n",
    ")"
   ]
  },
  {
   "cell_type": "code",
   "execution_count": 150,
   "id": "2f76c87e-16a0-471d-b288-0206b5a55441",
   "metadata": {},
   "outputs": [
    {
     "data": {
      "text/plain": [
       "<matplotlib.image.AxesImage at 0x1d8602800>"
      ]
     },
     "execution_count": 150,
     "metadata": {},
     "output_type": "execute_result"
    },
    {
     "data": {
      "image/png": "[encoded data removed]",
      "text/plain": [
       "<Figure size 432x288 with 1 Axes>"
      ]
     },
     "metadata": {
      "needs_background": "light"
     },
     "output_type": "display_data"
    }
   ],
   "source": [
    "plt.imshow(res.get_expanded_cell_mask(0)[1])"
   ]
  },
  {
   "cell_type": "code",
   "execution_count": 14,
   "id": "e0bcfb5f-7d81-49ad-bf83-ca094b67cd3b",
   "metadata": {},
   "outputs": [],
   "source": [
    "import shapely\n",
    "from shapely.geometry import Polygon, MultiPolygon, JOIN_STYLE\n",
    "from shapely.strtree import STRtree"
   ]
  },
  {
   "cell_type": "code",
   "execution_count": 478,
   "id": "082d53fb-32ac-407c-81ef-5288ea2a1c8c",
   "metadata": {},
   "outputs": [],
   "source": [
    "JOIN_TOLERANCE = 0.001\n",
    "\n",
    "def find_intersections(contours):\n",
    "    polygons = {i: Polygon(x) for i, x in enumerate(contours) if x.shape[0] >= 3}\n",
    "    tree = STRtree(polygons.values())\n",
    "    tree_map = {id(x): i for i, x in polygons.items()}\n",
    "    intersections = {}\n",
    "    for i, x in polygons.items():\n",
    "        res = tree.query(x)\n",
    "        for y in res:\n",
    "            j = tree_map[id(y)]\n",
    "            if i == j:\n",
    "                continue\n",
    "            key = tuple(sorted((i, j)))\n",
    "            if key not in intersections:\n",
    "                intersection = x.intersection(y)\n",
    "                # Sometimes intersections contain small \"slivers\" of polygons with almost zero\n",
    "                # area. Removing them\n",
    "                # https://gis.stackexchange.com/a/120314\n",
    "                intersection_fixed = intersection.buffer(\n",
    "                    JOIN_TOLERANCE, 1, join_style=JOIN_STYLE.mitre\n",
    "                ).buffer(\n",
    "                    -JOIN_TOLERANCE, 1, join_style=JOIN_STYLE.mitre\n",
    "                )\n",
    "                if intersection_fixed.area == 0:\n",
    "                    intersections[key] = None\n",
    "                    continue\n",
    "                # if isinstance(intersection_fixed, Polygon):\n",
    "                #     c = np.array(intersection_fixed.exterior.coords)\n",
    "                #     c = np.around(c * 2) / 2\n",
    "                #     intersection_snapped = Polygon(c)\n",
    "                # elif isinstance(intersection_fixed, MultiPolygon):\n",
    "                #     ps = []\n",
    "                #     for p in intersection_fixed.geoms:\n",
    "                #         c = np.array(p.exterior.coords)\n",
    "                #         c = np.around(c * 2) / 2\n",
    "                #         ps.append(Polygon(c))\n",
    "                #     intersection_snapped = MultiPolygon(ps)\n",
    "                # else:\n",
    "                #     raise RuntimeError()\n",
    "                intersections[key] = intersection_fixed\n",
    "    for k in list(intersections.keys()):\n",
    "        if intersections[k] is None:\n",
    "            del intersections[k]\n",
    "    return intersections"
   ]
  },
  {
   "cell_type": "code",
   "execution_count": 488,
   "id": "9eb7b224-963f-4928-aee7-e951b473952a",
   "metadata": {},
   "outputs": [],
   "source": [
    "intersections = find_intersections(contours)"
   ]
  },
  {
   "cell_type": "code",
   "execution_count": 111,
   "id": "31e476bf-1968-47d3-af93-57a6c66cdc9a",
   "metadata": {
    "collapsed": true,
    "jupyter": {
     "outputs_hidden": true
    },
    "tags": []
   },
   "outputs": [
    {
     "data": {
      "text/plain": [
       "{(1, 2): <shapely.geometry.polygon.Polygon at 0x1d6ab2860>,\n",
       " (2, 13): <shapely.geometry.polygon.Polygon at 0x1d6ab2890>,\n",
       " (2, 14): <shapely.geometry.polygon.Polygon at 0x1d6ab28c0>,\n",
       " (3, 6): <shapely.geometry.polygon.Polygon at 0x1d6ab28f0>,\n",
       " (3, 22): <shapely.geometry.polygon.Polygon at 0x1d6ab2920>,\n",
       " (3, 15): <shapely.geometry.polygon.Polygon at 0x1d6ab2950>,\n",
       " (3, 7): <shapely.geometry.polygon.Polygon at 0x1d6ab2980>,\n",
       " (4, 14): <shapely.geometry.polygon.Polygon at 0x1d6ab29b0>,\n",
       " (5, 24): <shapely.geometry.polygon.Polygon at 0x1d6ab29e0>,\n",
       " (5, 25): <shapely.geometry.polygon.Polygon at 0x1d6ab2a10>,\n",
       " (7, 22): <shapely.geometry.polygon.Polygon at 0x1d6ab2a40>,\n",
       " (7, 15): <shapely.geometry.polygon.Polygon at 0x1d6ab2a70>,\n",
       " (9, 11): <shapely.geometry.polygon.Polygon at 0x1d6ab2aa0>,\n",
       " (12, 31): <shapely.geometry.polygon.Polygon at 0x1d6ab2ad0>,\n",
       " (13, 33): <shapely.geometry.polygon.Polygon at 0x1d6ab2b00>,\n",
       " (15, 22): <shapely.geometry.polygon.Polygon at 0x1d6ab2b30>,\n",
       " (16, 28): <shapely.geometry.polygon.Polygon at 0x1d6ab2b60>,\n",
       " (18, 19): <shapely.geometry.polygon.Polygon at 0x1d6ab2b90>,\n",
       " (18, 39): <shapely.geometry.polygon.Polygon at 0x1d6ab2bc0>,\n",
       " (19, 39): <shapely.geometry.polygon.Polygon at 0x1d6ab2bf0>,\n",
       " (19, 28): <shapely.geometry.polygon.Polygon at 0x1d6ab2c20>,\n",
       " (21, 58): <shapely.geometry.polygon.Polygon at 0x1d6ab2c50>,\n",
       " (26, 29): <shapely.geometry.polygon.Polygon at 0x1d6ab2c80>,\n",
       " (27, 29): <shapely.geometry.polygon.Polygon at 0x1d6ab2cb0>,\n",
       " (28, 39): <shapely.geometry.polygon.Polygon at 0x1d6ab2ce0>,\n",
       " (28, 48): <shapely.geometry.polygon.Polygon at 0x1d6ab2d10>,\n",
       " (30, 54): <shapely.geometry.polygon.Polygon at 0x1d6ab2d40>,\n",
       " (31, 38): <shapely.geometry.polygon.Polygon at 0x1d6ab2d70>,\n",
       " (32, 36): <shapely.geometry.polygon.Polygon at 0x1d6ab2da0>,\n",
       " (33, 42): <shapely.geometry.polygon.Polygon at 0x1d6ab2dd0>,\n",
       " (35, 58): <shapely.geometry.polygon.Polygon at 0x1d6ab2e00>,\n",
       " (37, 55): <shapely.geometry.polygon.Polygon at 0x1d6ab2e30>,\n",
       " (39, 48): <shapely.geometry.polygon.Polygon at 0x1d6ab2e60>,\n",
       " (43, 61): <shapely.geometry.polygon.Polygon at 0x1d6ab2e90>,\n",
       " (43, 52): <shapely.geometry.polygon.Polygon at 0x1d6ab2ec0>,\n",
       " (44, 47): <shapely.geometry.polygon.Polygon at 0x1d6ab2ef0>,\n",
       " (45, 62): <shapely.geometry.polygon.Polygon at 0x1d6ab2f20>,\n",
       " (45, 61): <shapely.geometry.polygon.Polygon at 0x1d6ab2f50>,\n",
       " (46, 70): <shapely.geometry.polygon.Polygon at 0x1d6ab2f80>,\n",
       " (46, 57): <shapely.geometry.polygon.Polygon at 0x1d6ab2fb0>,\n",
       " (47, 72): <shapely.geometry.polygon.Polygon at 0x1d6ab2fe0>,\n",
       " (49, 60): <shapely.geometry.polygon.Polygon at 0x1d6ab3010>,\n",
       " (49, 56): <shapely.geometry.polygon.Polygon at 0x1d6ab3040>,\n",
       " (50, 85): <shapely.geometry.polygon.Polygon at 0x1d6ab3070>,\n",
       " (51, 64): <shapely.geometry.polygon.Polygon at 0x1d6ab30a0>,\n",
       " (52, 61): <shapely.geometry.polygon.Polygon at 0x1d6ab30d0>,\n",
       " (52, 71): <shapely.geometry.polygon.Polygon at 0x1d6ab3100>,\n",
       " (55, 79): <shapely.geometry.polygon.Polygon at 0x1d6ab3130>,\n",
       " (55, 72): <shapely.geometry.polygon.Polygon at 0x1d6ab3160>,\n",
       " (56, 74): <shapely.geometry.polygon.Polygon at 0x1d6ab3190>,\n",
       " (56, 73): <shapely.geometry.polygon.Polygon at 0x1d6ab31c0>,\n",
       " (57, 70): <shapely.geometry.polygon.Polygon at 0x1d6ab31f0>,\n",
       " (57, 67): <shapely.geometry.polygon.Polygon at 0x1d6ab3220>,\n",
       " (58, 85): <shapely.geometry.polygon.Polygon at 0x1d6ab3250>,\n",
       " (59, 84): <shapely.geometry.polygon.Polygon at 0x1d6ab3280>,\n",
       " (60, 74): <shapely.geometry.polygon.Polygon at 0x1d6ab32b0>,\n",
       " (61, 86): <shapely.geometry.polygon.Polygon at 0x1d6ab32e0>,\n",
       " (61, 92): <shapely.geometry.polygon.Polygon at 0x1d6ab3310>,\n",
       " (61, 71): <shapely.geometry.polygon.Polygon at 0x1d6ab3340>,\n",
       " (62, 68): <shapely.geometry.polygon.Polygon at 0x1d6ab3370>,\n",
       " (62, 77): <shapely.geometry.polygon.Polygon at 0x1d6ab33a0>,\n",
       " (62, 78): <shapely.geometry.polygon.Polygon at 0x1d6ab33d0>,\n",
       " (64, 94): <shapely.geometry.polygon.Polygon at 0x1d6ab3400>,\n",
       " (64, 76): <shapely.geometry.polygon.Polygon at 0x1d6ab3430>,\n",
       " (65, 113): <shapely.geometry.polygon.Polygon at 0x1d6ab3460>,\n",
       " (65, 89): <shapely.geometry.polygon.Polygon at 0x1d6ab3490>,\n",
       " (65, 101): <shapely.geometry.polygon.Polygon at 0x1d6ab34c0>,\n",
       " (66, 83): <shapely.geometry.polygon.Polygon at 0x1d6ab34f0>,\n",
       " (67, 70): <shapely.geometry.polygon.Polygon at 0x1d6ab3520>,\n",
       " (67, 104): <shapely.geometry.polygon.Polygon at 0x1d6ab3550>,\n",
       " (68, 77): <shapely.geometry.polygon.Polygon at 0x1d6ab3580>,\n",
       " (69, 102): <shapely.geometry.polygon.Polygon at 0x1d6ab35b0>,\n",
       " (71, 92): <shapely.geometry.polygon.Polygon at 0x1d6ab35e0>,\n",
       " (71, 89): <shapely.geometry.polygon.Polygon at 0x1d6ab3610>,\n",
       " (73, 90): <shapely.geometry.polygon.Polygon at 0x1d6ab3640>,\n",
       " (73, 100): <shapely.geometry.polygon.Polygon at 0x1d6ab3670>,\n",
       " (74, 91): <shapely.geometry.polygon.Polygon at 0x1d6ab36a0>,\n",
       " (74, 109): <shapely.geometry.polygon.Polygon at 0x1d6ab36d0>,\n",
       " (74, 90): <shapely.geometry.polygon.Polygon at 0x1d6ab3700>,\n",
       " (75, 99): <shapely.geometry.polygon.Polygon at 0x1d6ab3730>,\n",
       " (76, 94): <shapely.geometry.polygon.Polygon at 0x1d6ab3760>,\n",
       " (78, 86): <shapely.geometry.polygon.Polygon at 0x1d6ab3790>,\n",
       " (78, 92): <shapely.geometry.polygon.Polygon at 0x1d6ab37c0>,\n",
       " (79, 96): <shapely.geometry.polygon.Polygon at 0x1d6ab37f0>,\n",
       " (80, 87): <shapely.geometry.polygon.Polygon at 0x1d6ab3820>,\n",
       " (80, 142): <shapely.geometry.polygon.Polygon at 0x1d6ab3850>,\n",
       " (81, 95): <shapely.geometry.polygon.Polygon at 0x1d6ab3880>,\n",
       " (82, 106): <shapely.geometry.polygon.Polygon at 0x1d6ab38b0>,\n",
       " (83, 117): <shapely.geometry.polygon.Polygon at 0x1d6ab38e0>,\n",
       " (84, 118): <shapely.geometry.polygon.Polygon at 0x1d6ab3910>,\n",
       " (86, 92): <shapely.geometry.polygon.Polygon at 0x1d6ab3940>,\n",
       " (87, 97): <shapely.geometry.polygon.Polygon at 0x1d6ab3970>,\n",
       " (88, 116): <shapely.geometry.polygon.Polygon at 0x1d6ab39a0>,\n",
       " (89, 101): <shapely.geometry.polygon.Polygon at 0x1d6ab39d0>,\n",
       " (90, 91): <shapely.geometry.polygon.Polygon at 0x1d6ab3a00>,\n",
       " (90, 109): <shapely.geometry.polygon.Polygon at 0x1d6ab3a30>,\n",
       " (90, 130): <shapely.geometry.polygon.Polygon at 0x1d6ab3a60>,\n",
       " (90, 111): <shapely.geometry.polygon.Polygon at 0x1d6ab3a90>,\n",
       " (90, 134): <shapely.geometry.polygon.Polygon at 0x1d6ab3ac0>,\n",
       " (90, 100): <shapely.geometry.polygon.Polygon at 0x1d6ab3af0>,\n",
       " (91, 109): <shapely.geometry.polygon.Polygon at 0x1d6ab3b20>,\n",
       " (92, 123): <shapely.geometry.polygon.Polygon at 0x1d6ab3b50>,\n",
       " (94, 121): <shapely.geometry.polygon.Polygon at 0x1d6ab3b80>,\n",
       " (94, 112): <shapely.geometry.polygon.Polygon at 0x1d6ab3bb0>,\n",
       " (95, 107): <shapely.geometry.polygon.Polygon at 0x1d6ab3be0>,\n",
       " (95, 124): <shapely.geometry.polygon.Polygon at 0x1d6ab3c10>,\n",
       " (97, 142): <shapely.geometry.polygon.Polygon at 0x1d6ab3c40>,\n",
       " (98, 103): <shapely.geometry.polygon.Polygon at 0x1d6ab3c70>,\n",
       " (99, 126): <shapely.geometry.polygon.Polygon at 0x1d6ab3ca0>,\n",
       " (100, 111): <shapely.geometry.polygon.Polygon at 0x1d6ab3cd0>,\n",
       " (100, 120): <shapely.geometry.polygon.Polygon at 0x1d6ab3d00>,\n",
       " (100, 121): <shapely.geometry.polygon.Polygon at 0x1d6ab3d30>,\n",
       " (101, 113): <shapely.geometry.polygon.Polygon at 0x1d6ab3d60>,\n",
       " (104, 125): <shapely.geometry.polygon.Polygon at 0x1d6ab3d90>,\n",
       " (109, 126): <shapely.geometry.polygon.Polygon at 0x1d6ab3dc0>,\n",
       " (110, 140): <shapely.geometry.polygon.Polygon at 0x1d6ab3df0>,\n",
       " (110, 128): <shapely.geometry.polygon.Polygon at 0x1d6ab3e20>,\n",
       " (111, 130): <shapely.geometry.polygon.Polygon at 0x1d6ab3e50>,\n",
       " (111, 134): <shapely.geometry.polygon.Polygon at 0x1d6ab3e80>,\n",
       " (111, 120): <shapely.geometry.polygon.Polygon at 0x1d6ab3eb0>,\n",
       " (113, 141): <shapely.geometry.polygon.Polygon at 0x1d6ab3ee0>,\n",
       " (115, 122): <shapely.geometry.polygon.Polygon at 0x1d6ab3f10>,\n",
       " (119, 171): <shapely.geometry.polygon.Polygon at 0x1d6ab3f40>,\n",
       " (119, 149): <shapely.geometry.polygon.Polygon at 0x1d6ab3f70>,\n",
       " (120, 134): <shapely.geometry.polygon.Polygon at 0x1d6ab3fa0>,\n",
       " (120, 136): <shapely.geometry.polygon.Polygon at 0x1d6ab3fd0>,\n",
       " (120, 121): <shapely.geometry.polygon.Polygon at 0x1b8620040>,\n",
       " (121, 136): <shapely.geometry.polygon.Polygon at 0x1b8620070>,\n",
       " (123, 135): <shapely.geometry.polygon.Polygon at 0x1b86200a0>,\n",
       " (123, 145): <shapely.geometry.polygon.Polygon at 0x1b86200d0>,\n",
       " (124, 137): <shapely.geometry.polygon.Polygon at 0x1b8620100>,\n",
       " (127, 131): <shapely.geometry.polygon.Polygon at 0x1b8620130>,\n",
       " (128, 144): <shapely.geometry.polygon.Polygon at 0x1b8620160>,\n",
       " (129, 144): <shapely.geometry.polygon.Polygon at 0x1b8620190>,\n",
       " (130, 155): <shapely.geometry.polygon.Polygon at 0x1b86201c0>,\n",
       " (130, 134): <shapely.geometry.polygon.Polygon at 0x1b86201f0>,\n",
       " (131, 146): <shapely.geometry.polygon.Polygon at 0x1b8620220>,\n",
       " (131, 175): <shapely.geometry.polygon.Polygon at 0x1b8620250>,\n",
       " (131, 177): <shapely.geometry.polygon.Polygon at 0x1b8620280>,\n",
       " (133, 174): <shapely.geometry.polygon.Polygon at 0x1b86202b0>,\n",
       " (134, 155): <shapely.geometry.polygon.Polygon at 0x1b86202e0>,\n",
       " (134, 151): <shapely.geometry.polygon.Polygon at 0x1b8620310>,\n",
       " (134, 136): <shapely.geometry.polygon.Polygon at 0x1b8620340>,\n",
       " (135, 156): <shapely.geometry.polygon.Polygon at 0x1b8620370>,\n",
       " (135, 145): <shapely.geometry.polygon.Polygon at 0x1b86203a0>,\n",
       " (136, 155): <shapely.geometry.polygon.Polygon at 0x1b86203d0>,\n",
       " (136, 151): <shapely.geometry.polygon.Polygon at 0x1b8620400>,\n",
       " (136, 169): <shapely.geometry.polygon.Polygon at 0x1b8620430>,\n",
       " (136, 152): <shapely.geometry.polygon.Polygon at 0x1b8620460>,\n",
       " (139, 160): <shapely.geometry.polygon.Polygon at 0x1b8620490>,\n",
       " (142, 210): <shapely.geometry.polygon.Polygon at 0x1b86204c0>,\n",
       " (142, 147): <shapely.geometry.polygon.Polygon at 0x1b86204f0>,\n",
       " (144, 180): <shapely.geometry.polygon.Polygon at 0x1b8620520>,\n",
       " (145, 156): <shapely.geometry.polygon.Polygon at 0x1b8620550>,\n",
       " (145, 173): <shapely.geometry.polygon.Polygon at 0x1b8620580>,\n",
       " (146, 175): <shapely.geometry.polygon.Polygon at 0x1b86205b0>,\n",
       " (148, 152): <shapely.geometry.polygon.Polygon at 0x1b86205e0>,\n",
       " (148, 181): <shapely.geometry.polygon.Polygon at 0x1b8620610>,\n",
       " (151, 155): <shapely.geometry.polygon.Polygon at 0x1b8620640>,\n",
       " (151, 176): <shapely.geometry.polygon.Polygon at 0x1b8620670>,\n",
       " (151, 169): <shapely.geometry.polygon.Polygon at 0x1b86206a0>,\n",
       " (151, 152): <shapely.geometry.polygon.Polygon at 0x1b86206d0>,\n",
       " (152, 169): <shapely.geometry.polygon.Polygon at 0x1b8620700>,\n",
       " (153, 173): <shapely.geometry.polygon.Polygon at 0x1b8620730>,\n",
       " (155, 187): <shapely.geometry.polygon.Polygon at 0x1b8620760>,\n",
       " (155, 176): <shapely.geometry.polygon.Polygon at 0x1b8620790>,\n",
       " (155, 169): <shapely.geometry.polygon.Polygon at 0x1b86207c0>,\n",
       " (158, 208): <shapely.geometry.polygon.Polygon at 0x1b86207f0>,\n",
       " (159, 184): <shapely.geometry.polygon.Polygon at 0x1b8620820>,\n",
       " (160, 179): <shapely.geometry.polygon.Polygon at 0x1b8620850>,\n",
       " (161, 198): <shapely.geometry.polygon.Polygon at 0x1b8620880>,\n",
       " (162, 163): <shapely.geometry.polygon.Polygon at 0x1b86208b0>,\n",
       " (163, 191): <shapely.geometry.polygon.Polygon at 0x1b86208e0>,\n",
       " (165, 190): <shapely.geometry.polygon.Polygon at 0x1b8620910>,\n",
       " (166, 214): <shapely.geometry.polygon.Polygon at 0x1b8620940>,\n",
       " (167, 201): <shapely.geometry.polygon.Polygon at 0x1b8620970>,\n",
       " (167, 193): <shapely.geometry.polygon.Polygon at 0x1b86209a0>,\n",
       " (167, 205): <shapely.geometry.polygon.Polygon at 0x1b86209d0>,\n",
       " (168, 205): <shapely.geometry.polygon.Polygon at 0x1b8620a00>,\n",
       " (168, 187): <shapely.geometry.polygon.Polygon at 0x1b8620a30>,\n",
       " (169, 176): <shapely.geometry.polygon.Polygon at 0x1b8620a60>,\n",
       " (171, 224): <shapely.geometry.polygon.Polygon at 0x1b8620a90>,\n",
       " (171, 189): <shapely.geometry.polygon.Polygon at 0x1b8620ac0>,\n",
       " (172, 182): <shapely.geometry.polygon.Polygon at 0x1b8620af0>,\n",
       " (172, 194): <shapely.geometry.polygon.Polygon at 0x1b8620b20>,\n",
       " (174, 203): <shapely.geometry.polygon.Polygon at 0x1b8620b50>,\n",
       " (175, 209): <shapely.geometry.polygon.Polygon at 0x1b8620b80>,\n",
       " (175, 177): <shapely.geometry.polygon.Polygon at 0x1b8620bb0>,\n",
       " (176, 216): <shapely.geometry.polygon.Polygon at 0x1b8620be0>,\n",
       " (176, 187): <shapely.geometry.polygon.Polygon at 0x1b8620c10>,\n",
       " (177, 209): <shapely.geometry.polygon.Polygon at 0x1b8620c40>,\n",
       " (179, 191): <shapely.geometry.polygon.Polygon at 0x1b8620c70>,\n",
       " (180, 201): <shapely.geometry.polygon.Polygon at 0x1b8620ca0>,\n",
       " (181, 182): <shapely.geometry.polygon.Polygon at 0x1b8620cd0>,\n",
       " (182, 194): <shapely.geometry.polygon.Polygon at 0x1b8620d00>,\n",
       " (186, 188): <shapely.geometry.polygon.Polygon at 0x1b8620d30>,\n",
       " (186, 212): <shapely.geometry.polygon.Polygon at 0x1b8620d60>,\n",
       " (187, 222): <shapely.geometry.polygon.Polygon at 0x1b8620d90>,\n",
       " (187, 216): <shapely.geometry.polygon.Polygon at 0x1b8620dc0>,\n",
       " (188, 212): <shapely.geometry.polygon.Polygon at 0x1b8620df0>,\n",
       " (189, 224): <shapely.geometry.polygon.Polygon at 0x1b8620e20>,\n",
       " (190, 221): <shapely.geometry.polygon.Polygon at 0x1b8620e50>,\n",
       " (192, 213): <shapely.geometry.polygon.Polygon at 0x1b8620e80>,\n",
       " (192, 208): <shapely.geometry.polygon.Polygon at 0x1b8620eb0>,\n",
       " (193, 201): <shapely.geometry.polygon.Polygon at 0x1b8620ee0>,\n",
       " (193, 205): <shapely.geometry.polygon.Polygon at 0x1b8620f10>,\n",
       " (195, 218): <shapely.geometry.polygon.Polygon at 0x1b8620f40>,\n",
       " (195, 225): <shapely.geometry.polygon.Polygon at 0x1b8620f70>,\n",
       " (195, 196): <shapely.geometry.polygon.Polygon at 0x1b8620fa0>,\n",
       " (196, 220): <shapely.geometry.polygon.Polygon at 0x1b8620fd0>,\n",
       " (197, 204): <shapely.geometry.polygon.Polygon at 0x1b8621000>,\n",
       " (197, 198): <shapely.geometry.polygon.Polygon at 0x1b8621030>,\n",
       " (198, 242): <shapely.geometry.polygon.Polygon at 0x1b8621060>,\n",
       " (200, 215): <shapely.geometry.polygon.Polygon at 0x1b8621090>,\n",
       " (205, 222): <shapely.geometry.polygon.Polygon at 0x1b86210c0>,\n",
       " (205, 216): <shapely.geometry.polygon.Polygon at 0x1b86210f0>,\n",
       " (210, 250): <shapely.geometry.polygon.Polygon at 0x1b8621120>,\n",
       " (212, 237): <shapely.geometry.polygon.Polygon at 0x1b8621150>,\n",
       " (214, 231): <shapely.geometry.polygon.Polygon at 0x1b8621180>,\n",
       " (214, 238): <shapely.geometry.polygon.Polygon at 0x1b86211b0>,\n",
       " (216, 222): <shapely.geometry.polygon.Polygon at 0x1b86211e0>,\n",
       " (216, 239): <shapely.geometry.polygon.Polygon at 0x1b8621210>,\n",
       " (218, 225): <shapely.geometry.polygon.Polygon at 0x1b8621240>,\n",
       " (220, 280): <shapely.geometry.polygon.Polygon at 0x1b8621270>,\n",
       " (220, 268): <shapely.geometry.polygon.Polygon at 0x1b86212a0>,\n",
       " (220, 250): <shapely.geometry.polygon.Polygon at 0x1b86212d0>,\n",
       " (222, 251): <shapely.geometry.polygon.Polygon at 0x1b8621300>,\n",
       " (222, 239): <shapely.geometry.polygon.Polygon at 0x1b8621330>,\n",
       " (223, 234): <shapely.geometry.polygon.Polygon at 0x1b8621360>,\n",
       " (223, 243): <shapely.geometry.polygon.Polygon at 0x1b8621390>,\n",
       " (223, 240): <shapely.geometry.polygon.Polygon at 0x1b86213c0>,\n",
       " (225, 241): <shapely.geometry.polygon.Polygon at 0x1b86213f0>,\n",
       " (226, 253): <shapely.geometry.polygon.Polygon at 0x1b8621420>,\n",
       " (226, 257): <shapely.geometry.polygon.Polygon at 0x1b8621450>,\n",
       " (228, 261): <shapely.geometry.polygon.Polygon at 0x1b8621480>,\n",
       " (228, 262): <shapely.geometry.polygon.Polygon at 0x1b86214b0>,\n",
       " (229, 236): <shapely.geometry.polygon.Polygon at 0x1b86214e0>,\n",
       " (230, 259): <shapely.geometry.polygon.Polygon at 0x1b8621510>,\n",
       " (231, 270): <shapely.geometry.polygon.Polygon at 0x1b8621540>,\n",
       " (232, 252): <shapely.geometry.polygon.Polygon at 0x1b8621570>,\n",
       " (232, 249): <shapely.geometry.polygon.Polygon at 0x1b86215a0>,\n",
       " (232, 233): <shapely.geometry.polygon.Polygon at 0x1b86215d0>,\n",
       " (233, 249): <shapely.geometry.polygon.Polygon at 0x1b8621600>,\n",
       " (234, 243): <shapely.geometry.polygon.Polygon at 0x1b8621630>,\n",
       " (236, 244): <shapely.geometry.polygon.Polygon at 0x1b8621660>,\n",
       " (237, 240): <shapely.geometry.polygon.Polygon at 0x1b8621690>,\n",
       " (237, 267): <shapely.geometry.polygon.Polygon at 0x1b86216c0>,\n",
       " (238, 270): <shapely.geometry.polygon.Polygon at 0x1b86216f0>,\n",
       " (238, 300): <shapely.geometry.polygon.Polygon at 0x1b8621720>,\n",
       " (238, 245): <shapely.geometry.polygon.Polygon at 0x1b8621750>,\n",
       " (239, 251): <shapely.geometry.polygon.Polygon at 0x1b8621780>,\n",
       " (240, 243): <shapely.geometry.polygon.Polygon at 0x1b86217b0>,\n",
       " (240, 255): <shapely.geometry.polygon.Polygon at 0x1b86217e0>,\n",
       " (240, 267): <shapely.geometry.polygon.Polygon at 0x1b8621810>,\n",
       " (241, 271): <shapely.geometry.polygon.Polygon at 0x1b8621840>,\n",
       " (241, 280): <shapely.geometry.polygon.Polygon at 0x1b8621870>,\n",
       " (241, 268): <shapely.geometry.polygon.Polygon at 0x1b86218a0>,\n",
       " (242, 273): <shapely.geometry.polygon.Polygon at 0x1b86218d0>,\n",
       " (243, 255): <shapely.geometry.polygon.Polygon at 0x1b8621900>,\n",
       " (245, 246): <shapely.geometry.polygon.Polygon at 0x1b8621930>,\n",
       " (247, 261): <shapely.geometry.polygon.Polygon at 0x1b8621960>,\n",
       " (247, 262): <shapely.geometry.polygon.Polygon at 0x1b8621990>,\n",
       " (247, 252): <shapely.geometry.polygon.Polygon at 0x1b86219c0>,\n",
       " (249, 252): <shapely.geometry.polygon.Polygon at 0x1b86219f0>,\n",
       " (249, 266): <shapely.geometry.polygon.Polygon at 0x1b8621a20>,\n",
       " (250, 286): <shapely.geometry.polygon.Polygon at 0x1b8621a50>,\n",
       " (251, 283): <shapely.geometry.polygon.Polygon at 0x1b8621a80>,\n",
       " (252, 262): <shapely.geometry.polygon.Polygon at 0x1b8621ab0>,\n",
       " (253, 257): <shapely.geometry.polygon.Polygon at 0x1b8621ae0>,\n",
       " (255, 267): <shapely.geometry.polygon.Polygon at 0x1b8621b10>,\n",
       " (256, 320): <shapely.geometry.polygon.Polygon at 0x1b8621b40>,\n",
       " (261, 262): <shapely.geometry.polygon.Polygon at 0x1b8621b70>,\n",
       " (264, 271): <shapely.geometry.polygon.Polygon at 0x1b8621ba0>,\n",
       " (264, 285): <shapely.geometry.polygon.Polygon at 0x1b8621bd0>,\n",
       " (267, 295): <shapely.geometry.polygon.Polygon at 0x1b8621c00>,\n",
       " (268, 280): <shapely.geometry.polygon.Polygon at 0x1b8621c30>,\n",
       " (269, 281): <shapely.geometry.polygon.Polygon at 0x1b8621c60>,\n",
       " (271, 285): <shapely.geometry.polygon.Polygon at 0x1b8621c90>,\n",
       " (272, 278): <shapely.geometry.polygon.Polygon at 0x1b8621cc0>,\n",
       " (273, 290): <shapely.geometry.polygon.Polygon at 0x1b8621cf0>,\n",
       " (273, 287): <shapely.geometry.polygon.Polygon at 0x1b8621d20>,\n",
       " (277, 286): <shapely.geometry.polygon.Polygon at 0x1b8621d50>,\n",
       " (278, 304): <shapely.geometry.polygon.Polygon at 0x1b8621d80>,\n",
       " (279, 338): <shapely.geometry.polygon.Polygon at 0x1b8621db0>,\n",
       " (279, 339): <shapely.geometry.polygon.Polygon at 0x1b8621de0>,\n",
       " (281, 342): <shapely.geometry.polygon.Polygon at 0x1b8621e10>,\n",
       " (281, 368): <shapely.geometry.polygon.Polygon at 0x1b8621e40>,\n",
       " (282, 307): <shapely.geometry.polygon.Polygon at 0x1b8621e70>,\n",
       " (283, 302): <shapely.geometry.polygon.Polygon at 0x1b8621ea0>,\n",
       " (283, 310): <shapely.geometry.polygon.Polygon at 0x1b8621ed0>,\n",
       " (284, 309): <shapely.geometry.polygon.Polygon at 0x1b8621f00>,\n",
       " (284, 288): <shapely.geometry.polygon.Polygon at 0x1b8621f30>,\n",
       " (286, 321): <shapely.geometry.polygon.Polygon at 0x1b8621f60>,\n",
       " (286, 322): <shapely.geometry.polygon.Polygon at 0x1b8621f90>,\n",
       " (288, 309): <shapely.geometry.polygon.Polygon at 0x1b8621fc0>,\n",
       " (292, 332): <shapely.geometry.polygon.Polygon at 0x1b8621ff0>,\n",
       " (294, 323): <shapely.geometry.polygon.Polygon at 0x1b8622020>,\n",
       " (294, 318): <shapely.geometry.polygon.Polygon at 0x1b8622050>,\n",
       " (295, 319): <shapely.geometry.polygon.Polygon at 0x1b8622080>,\n",
       " (295, 324): <shapely.geometry.polygon.Polygon at 0x1b86220b0>,\n",
       " (295, 313): <shapely.geometry.polygon.Polygon at 0x1b86220e0>,\n",
       " (296, 328): <shapely.geometry.polygon.Polygon at 0x1b8622110>,\n",
       " (296, 319): <shapely.geometry.polygon.Polygon at 0x1b8622140>,\n",
       " (298, 333): <shapely.geometry.polygon.Polygon at 0x1b8622170>,\n",
       " (298, 329): <shapely.geometry.polygon.Polygon at 0x1b86221a0>,\n",
       " (298, 311): <shapely.geometry.polygon.Polygon at 0x1b86221d0>,\n",
       " (300, 335): <shapely.geometry.polygon.Polygon at 0x1b8622200>,\n",
       " (300, 315): <shapely.geometry.polygon.Polygon at 0x1b8622230>,\n",
       " (302, 310): <shapely.geometry.polygon.Polygon at 0x1b8622260>,\n",
       " (305, 329): <shapely.geometry.polygon.Polygon at 0x1b8622290>,\n",
       " (306, 321): <shapely.geometry.polygon.Polygon at 0x1b86222c0>,\n",
       " (308, 340): <shapely.geometry.polygon.Polygon at 0x1b86222f0>,\n",
       " (309, 362): <shapely.geometry.polygon.Polygon at 0x1b8622320>,\n",
       " (310, 346): <shapely.geometry.polygon.Polygon at 0x1b8622350>,\n",
       " (310, 316): <shapely.geometry.polygon.Polygon at 0x1b8622380>,\n",
       " (311, 333): <shapely.geometry.polygon.Polygon at 0x1b86223b0>,\n",
       " (315, 335): <shapely.geometry.polygon.Polygon at 0x1b86223e0>,\n",
       " (317, 354): <shapely.geometry.polygon.Polygon at 0x1b8622410>,\n",
       " (318, 323): <shapely.geometry.polygon.Polygon at 0x1b8622440>,\n",
       " (319, 328): <shapely.geometry.polygon.Polygon at 0x1b8622470>,\n",
       " (319, 348): <shapely.geometry.polygon.Polygon at 0x1b86224a0>,\n",
       " (320, 365): <shapely.geometry.polygon.Polygon at 0x1b86224d0>,\n",
       " (320, 376): <shapely.geometry.polygon.Polygon at 0x1b8622500>,\n",
       " (322, 366): <shapely.geometry.polygon.Polygon at 0x1b8622530>,\n",
       " (323, 363): <shapely.geometry.polygon.Polygon at 0x1b8622560>,\n",
       " (323, 385): <shapely.geometry.polygon.Polygon at 0x1b8622590>,\n",
       " (324, 348): <shapely.geometry.polygon.Polygon at 0x1b86225c0>,\n",
       " (328, 347): <shapely.geometry.polygon.Polygon at 0x1b86225f0>,\n",
       " (328, 371): <shapely.geometry.polygon.Polygon at 0x1b8622620>,\n",
       " (329, 350): <shapely.geometry.polygon.Polygon at 0x1b8622650>,\n",
       " (329, 333): <shapely.geometry.polygon.Polygon at 0x1b8622680>,\n",
       " (330, 353): <shapely.geometry.polygon.Polygon at 0x1b86226b0>,\n",
       " (333, 350): <shapely.geometry.polygon.Polygon at 0x1b86226e0>,\n",
       " (334, 354): <shapely.geometry.polygon.Polygon at 0x1b8622710>,\n",
       " (335, 379): <shapely.geometry.polygon.Polygon at 0x1b8622740>,\n",
       " (335, 373): <shapely.geometry.polygon.Polygon at 0x1b8622770>,\n",
       " (336, 387): <shapely.geometry.polygon.Polygon at 0x1b86227a0>,\n",
       " (336, 384): <shapely.geometry.polygon.Polygon at 0x1b86227d0>,\n",
       " (338, 370): <shapely.geometry.polygon.Polygon at 0x1b8622800>,\n",
       " (338, 339): <shapely.geometry.polygon.Polygon at 0x1b8622830>,\n",
       " (340, 357): <shapely.geometry.polygon.Polygon at 0x1b8622860>,\n",
       " (341, 343): <shapely.geometry.polygon.Polygon at 0x1b8622890>,\n",
       " (342, 361): <shapely.geometry.polygon.Polygon at 0x1b86228c0>,\n",
       " (342, 368): <shapely.geometry.polygon.Polygon at 0x1b86228f0>,\n",
       " (343, 400): <shapely.geometry.polygon.Polygon at 0x1b8622920>,\n",
       " (344, 381): <shapely.geometry.polygon.Polygon at 0x1b8622950>,\n",
       " (346, 380): <shapely.geometry.polygon.Polygon at 0x1b8622980>,\n",
       " (347, 398): <shapely.geometry.polygon.Polygon at 0x1b86229b0>,\n",
       " (347, 371): <shapely.geometry.polygon.Polygon at 0x1b86229e0>,\n",
       " (348, 386): <shapely.geometry.polygon.Polygon at 0x1b8622a10>,\n",
       " (352, 356): <shapely.geometry.polygon.Polygon at 0x1b8622a40>,\n",
       " (354, 378): <shapely.geometry.polygon.Polygon at 0x1b8622a70>,\n",
       " (357, 360): <shapely.geometry.polygon.Polygon at 0x1b8622aa0>,\n",
       " (357, 390): <shapely.geometry.polygon.Polygon at 0x1b8622ad0>,\n",
       " (359, 391): <shapely.geometry.polygon.Polygon at 0x1b8622b00>,\n",
       " (359, 367): <shapely.geometry.polygon.Polygon at 0x1b8622b30>,\n",
       " (359, 378): <shapely.geometry.polygon.Polygon at 0x1b8622b60>,\n",
       " (360, 390): <shapely.geometry.polygon.Polygon at 0x1b8622b90>,\n",
       " (361, 434): <shapely.geometry.polygon.Polygon at 0x1b8622bc0>,\n",
       " (361, 430): <shapely.geometry.polygon.Polygon at 0x1b8622bf0>,\n",
       " (361, 368): <shapely.geometry.polygon.Polygon at 0x1b8622c20>,\n",
       " (362, 397): <shapely.geometry.polygon.Polygon at 0x1b8622c50>,\n",
       " (363, 392): <shapely.geometry.polygon.Polygon at 0x1b8622c80>,\n",
       " (365, 376): <shapely.geometry.polygon.Polygon at 0x1b8622cb0>,\n",
       " (367, 378): <shapely.geometry.polygon.Polygon at 0x1b8622ce0>,\n",
       " (368, 434): <shapely.geometry.polygon.Polygon at 0x1b8622d10>,\n",
       " (368, 430): <shapely.geometry.polygon.Polygon at 0x1b8622d40>,\n",
       " (370, 389): <shapely.geometry.polygon.Polygon at 0x1b8622d70>,\n",
       " (372, 388): <shapely.geometry.polygon.Polygon at 0x1b8622da0>,\n",
       " (373, 379): <shapely.geometry.polygon.Polygon at 0x1b8622dd0>,\n",
       " (373, 383): <shapely.geometry.polygon.Polygon at 0x1b8622e00>,\n",
       " (374, 386): <shapely.geometry.polygon.Polygon at 0x1b8622e30>,\n",
       " (374, 375): <shapely.geometry.polygon.Polygon at 0x1b8622e60>,\n",
       " (377, 417): <shapely.geometry.polygon.Polygon at 0x1b8622e90>,\n",
       " (377, 414): <shapely.geometry.polygon.Polygon at 0x1b8622ec0>,\n",
       " (378, 419): <shapely.geometry.polygon.Polygon at 0x1b8622ef0>,\n",
       " (379, 383): <shapely.geometry.polygon.Polygon at 0x1b8622f20>,\n",
       " (380, 403): <shapely.geometry.polygon.Polygon at 0x1b8622f50>,\n",
       " (380, 392): <shapely.geometry.polygon.Polygon at 0x1b8622f80>,\n",
       " (382, 418): <shapely.geometry.polygon.Polygon at 0x1b8622fb0>,\n",
       " (384, 387): <shapely.geometry.polygon.Polygon at 0x1b8622fe0>,\n",
       " (385, 422): <shapely.geometry.polygon.Polygon at 0x1b8623010>,\n",
       " (385, 415): <shapely.geometry.polygon.Polygon at 0x1b8623040>,\n",
       " (387, 397): <shapely.geometry.polygon.Polygon at 0x1b8623070>,\n",
       " (390, 424): <shapely.geometry.polygon.Polygon at 0x1b86230a0>,\n",
       " (390, 408): <shapely.geometry.polygon.Polygon at 0x1b86230d0>,\n",
       " (390, 437): <shapely.geometry.polygon.Polygon at 0x1b8623100>,\n",
       " (392, 426): <shapely.geometry.polygon.Polygon at 0x1b8623130>,\n",
       " (394, 402): <shapely.geometry.polygon.Polygon at 0x1b8623160>,\n",
       " (398, 410): <shapely.geometry.polygon.Polygon at 0x1b8623190>,\n",
       " (399, 424): <shapely.geometry.polygon.Polygon at 0x1b86231c0>,\n",
       " (400, 413): <shapely.geometry.polygon.Polygon at 0x1b86231f0>,\n",
       " (403, 421): <shapely.geometry.polygon.Polygon at 0x1b8623220>,\n",
       " (403, 426): <shapely.geometry.polygon.Polygon at 0x1b8623250>,\n",
       " (408, 437): <shapely.geometry.polygon.Polygon at 0x1b8623280>,\n",
       " (408, 412): <shapely.geometry.polygon.Polygon at 0x1b86232b0>,\n",
       " (409, 444): <shapely.geometry.polygon.Polygon at 0x1b86232e0>,\n",
       " (410, 415): <shapely.geometry.polygon.Polygon at 0x1b8623310>,\n",
       " (410, 431): <shapely.geometry.polygon.Polygon at 0x1b8623340>,\n",
       " (412, 437): <shapely.geometry.polygon.Polygon at 0x1b8623370>,\n",
       " (412, 439): <shapely.geometry.polygon.Polygon at 0x1b86233a0>,\n",
       " (412, 425): <shapely.geometry.polygon.Polygon at 0x1b86233d0>,\n",
       " (412, 457): <shapely.geometry.polygon.Polygon at 0x1b8623400>,\n",
       " (413, 425): <shapely.geometry.polygon.Polygon at 0x1b8623430>,\n",
       " (415, 431): <shapely.geometry.polygon.Polygon at 0x1b8623460>,\n",
       " (418, 443): <shapely.geometry.polygon.Polygon at 0x1b8623490>,\n",
       " (420, 451): <shapely.geometry.polygon.Polygon at 0x1b86234c0>,\n",
       " (421, 449): <shapely.geometry.polygon.Polygon at 0x1b86234f0>,\n",
       " (421, 426): <shapely.geometry.polygon.Polygon at 0x1b8623520>,\n",
       " (423, 435): <shapely.geometry.polygon.Polygon at 0x1b8623550>,\n",
       " (424, 441): <shapely.geometry.polygon.Polygon at 0x1b8623580>,\n",
       " (425, 439): <shapely.geometry.polygon.Polygon at 0x1b86235b0>,\n",
       " (426, 449): <shapely.geometry.polygon.Polygon at 0x1b86235e0>,\n",
       " (426, 493): <shapely.geometry.polygon.Polygon at 0x1b8623610>,\n",
       " (426, 472): <shapely.geometry.polygon.Polygon at 0x1b8623640>,\n",
       " (426, 479): <shapely.geometry.polygon.Polygon at 0x1b8623670>,\n",
       " (428, 468): <shapely.geometry.polygon.Polygon at 0x1b86236a0>,\n",
       " (428, 463): <shapely.geometry.polygon.Polygon at 0x1b86236d0>,\n",
       " (430, 434): <shapely.geometry.polygon.Polygon at 0x1b8623700>,\n",
       " (430, 485): <shapely.geometry.polygon.Polygon at 0x1b8623730>,\n",
       " (431, 461): <shapely.geometry.polygon.Polygon at 0x1b8623760>,\n",
       " (431, 455): <shapely.geometry.polygon.Polygon at 0x1b8623790>,\n",
       " (432, 453): <shapely.geometry.polygon.Polygon at 0x1b86237c0>,\n",
       " (432, 476): <shapely.geometry.polygon.Polygon at 0x1b86237f0>,\n",
       " (432, 469): <shapely.geometry.polygon.Polygon at 0x1b8623820>,\n",
       " (432, 440): <shapely.geometry.polygon.Polygon at 0x1b8623850>,\n",
       " (435, 462): <shapely.geometry.polygon.Polygon at 0x1b8623880>,\n",
       " (435, 436): <shapely.geometry.polygon.Polygon at 0x1b86238b0>,\n",
       " (437, 474): <shapely.geometry.polygon.Polygon at 0x1b86238e0>,\n",
       " (439, 457): <shapely.geometry.polygon.Polygon at 0x1b8623910>,\n",
       " (440, 476): <shapely.geometry.polygon.Polygon at 0x1b8623940>,\n",
       " (440, 469): <shapely.geometry.polygon.Polygon at 0x1b8623970>,\n",
       " (443, 475): <shapely.geometry.polygon.Polygon at 0x1b86239a0>,\n",
       " (444, 486): <shapely.geometry.polygon.Polygon at 0x1b86239d0>,\n",
       " (446, 489): <shapely.geometry.polygon.Polygon at 0x1b8623a00>,\n",
       " (447, 484): <shapely.geometry.polygon.Polygon at 0x1b8623a30>,\n",
       " (448, 495): <shapely.geometry.polygon.Polygon at 0x1b8623a60>,\n",
       " (449, 497): <shapely.geometry.polygon.Polygon at 0x1b8623a90>,\n",
       " (449, 506): <shapely.geometry.polygon.Polygon at 0x1b8623ac0>,\n",
       " (449, 493): <shapely.geometry.polygon.Polygon at 0x1b8623af0>,\n",
       " (449, 472): <shapely.geometry.polygon.Polygon at 0x1b8623b20>,\n",
       " (450, 499): <shapely.geometry.polygon.Polygon at 0x1b8623b50>,\n",
       " (451, 510): <shapely.geometry.polygon.Polygon at 0x1b8623b80>,\n",
       " (453, 476): <shapely.geometry.polygon.Polygon at 0x1b8623bb0>,\n",
       " (455, 523): <shapely.geometry.polygon.Polygon at 0x1b8623be0>,\n",
       " (455, 498): <shapely.geometry.polygon.Polygon at 0x1b8623c10>,\n",
       " (456, 498): <shapely.geometry.polygon.Polygon at 0x1b8623c40>,\n",
       " (456, 467): <shapely.geometry.polygon.Polygon at 0x1b8623c70>,\n",
       " (459, 478): <shapely.geometry.polygon.Polygon at 0x1b8623ca0>,\n",
       " (459, 488): <shapely.geometry.polygon.Polygon at 0x1b8623cd0>,\n",
       " (459, 470): <shapely.geometry.polygon.Polygon at 0x1b8623d00>,\n",
       " (460, 489): <shapely.geometry.polygon.Polygon at 0x1b8623d30>,\n",
       " (461, 473): <shapely.geometry.polygon.Polygon at 0x1b8623d60>,\n",
       " (461, 503): <shapely.geometry.polygon.Polygon at 0x1b8623d90>,\n",
       " (462, 467): <shapely.geometry.polygon.Polygon at 0x1b8623dc0>,\n",
       " (463, 504): <shapely.geometry.polygon.Polygon at 0x1b8623df0>,\n",
       " (464, 501): <shapely.geometry.polygon.Polygon at 0x1b8623e20>,\n",
       " (466, 502): <shapely.geometry.polygon.Polygon at 0x1b8623e50>,\n",
       " (467, 498): <shapely.geometry.polygon.Polygon at 0x1b8623e80>,\n",
       " (469, 518): <shapely.geometry.polygon.Polygon at 0x1b8623eb0>,\n",
       " (469, 476): <shapely.geometry.polygon.Polygon at 0x1b8623ee0>,\n",
       " (470, 488): <shapely.geometry.polygon.Polygon at 0x1b8623f10>,\n",
       " (472, 506): <shapely.geometry.polygon.Polygon at 0x1b8623f40>,\n",
       " (472, 493): <shapely.geometry.polygon.Polygon at 0x1b8623f70>,\n",
       " (472, 517): <shapely.geometry.polygon.Polygon at 0x1b8623fa0>,\n",
       " (473, 503): <shapely.geometry.polygon.Polygon at 0x1b8623fd0>,\n",
       " (474, 490): <shapely.geometry.polygon.Polygon at 0x1d7397f10>,\n",
       " (474, 491): <shapely.geometry.polygon.Polygon at 0x1d7397d90>,\n",
       " (476, 518): <shapely.geometry.polygon.Polygon at 0x1d7397c10>,\n",
       " (478, 496): <shapely.geometry.polygon.Polygon at 0x1d7397a90>,\n",
       " (478, 488): <shapely.geometry.polygon.Polygon at 0x1d7397910>,\n",
       " (479, 517): <shapely.geometry.polygon.Polygon at 0x1d7397790>,\n",
       " (479, 522): <shapely.geometry.polygon.Polygon at 0x1d7397610>,\n",
       " (482, 547): <shapely.geometry.polygon.Polygon at 0x1d7397490>,\n",
       " (483, 520): <shapely.geometry.polygon.Polygon at 0x1d7397310>,\n",
       " (484, 525): <shapely.geometry.polygon.Polygon at 0x1d7397190>,\n",
       " (484, 521): <shapely.geometry.polygon.Polygon at 0x1d7397010>,\n",
       " (486, 495): <shapely.geometry.polygon.Polygon at 0x1d7396e90>,\n",
       " (486, 534): <shapely.geometry.polygon.Polygon at 0x1d7396d10>,\n",
       " (486, 487): <shapely.geometry.polygon.Polygon at 0x1d7396b90>,\n",
       " (490, 507): <shapely.geometry.polygon.Polygon at 0x1d7396a10>,\n",
       " (490, 527): <shapely.geometry.polygon.Polygon at 0x1d7396890>,\n",
       " (491, 539): <shapely.geometry.polygon.Polygon at 0x1d7396710>,\n",
       " (493, 506): <shapely.geometry.polygon.Polygon at 0x1d7396590>,\n",
       " (493, 517): <shapely.geometry.polygon.Polygon at 0x1d7396410>,\n",
       " (495, 534): <shapely.geometry.polygon.Polygon at 0x1d7396290>,\n",
       " (496, 543): <shapely.geometry.polygon.Polygon at 0x1d7396110>,\n",
       " (497, 529): <shapely.geometry.polygon.Polygon at 0x1d7395f90>,\n",
       " (497, 506): <shapely.geometry.polygon.Polygon at 0x1d7395e10>,\n",
       " (498, 523): <shapely.geometry.polygon.Polygon at 0x1d7395c90>,\n",
       " (499, 524): <shapely.geometry.polygon.Polygon at 0x1d7395b10>,\n",
       " (499, 526): <shapely.geometry.polygon.Polygon at 0x1d7395990>,\n",
       " (500, 552): <shapely.geometry.polygon.Polygon at 0x1d7395810>,\n",
       " (503, 544): <shapely.geometry.polygon.Polygon at 0x1d7395690>,\n",
       " (503, 536): <shapely.geometry.polygon.Polygon at 0x1d7395510>,\n",
       " (505, 542): <shapely.geometry.polygon.Polygon at 0x1d7395390>,\n",
       " (506, 529): <shapely.geometry.polygon.Polygon at 0x1d7395210>,\n",
       " (507, 527): <shapely.geometry.polygon.Polygon at 0x1d7395090>,\n",
       " (508, 551): <shapely.geometry.polygon.Polygon at 0x1d7394f10>,\n",
       " (508, 538): <shapely.geometry.polygon.Polygon at 0x1d7394d90>,\n",
       " (508, 518): <shapely.geometry.polygon.Polygon at 0x1d7394c10>,\n",
       " (510, 559): <shapely.geometry.polygon.Polygon at 0x1d7394a90>,\n",
       " (511, 537): <shapely.geometry.polygon.Polygon at 0x1d7394910>,\n",
       " (513, 547): <shapely.geometry.polygon.Polygon at 0x1d7394790>,\n",
       " (513, 514): <shapely.geometry.polygon.Polygon at 0x1d7394610>,\n",
       " (515, 530): <shapely.geometry.polygon.Polygon at 0x1d7394490>,\n",
       " (516, 539): <shapely.geometry.polygon.Polygon at 0x1d7394310>,\n",
       " (516, 532): <shapely.geometry.polygon.Polygon at 0x1d7394190>,\n",
       " (517, 522): <shapely.geometry.polygon.Polygon at 0x1d7397e80>,\n",
       " (518, 538): <shapely.geometry.polygon.Polygon at 0x1d7397d00>,\n",
       " (518, 541): <shapely.geometry.polygon.Polygon at 0x1d7397b80>,\n",
       " (518, 546): <shapely.geometry.polygon.Polygon at 0x1d7397a00>,\n",
       " (520, 569): <shapely.geometry.polygon.Polygon at 0x1d7397880>,\n",
       " (520, 588): <shapely.geometry.polygon.Polygon at 0x1d7397fd0>,\n",
       " (522, 591): <shapely.geometry.polygon.Polygon at 0x1d7397f40>,\n",
       " (523, 536): <shapely.geometry.polygon.Polygon at 0x1d7397700>,\n",
       " (524, 545): <shapely.geometry.polygon.Polygon at 0x1d7397e50>,\n",
       " (529, 578): <shapely.geometry.polygon.Polygon at 0x1d7397eb0>,\n",
       " (532, 555): <shapely.geometry.polygon.Polygon at 0x1d7397ee0>,\n",
       " (534, 564): <shapely.geometry.polygon.Polygon at 0x1d7397dc0>,\n",
       " (534, 543): <shapely.geometry.polygon.Polygon at 0x1d7397580>,\n",
       " (535, 560): <shapely.geometry.polygon.Polygon at 0x1d7397cd0>,\n",
       " (536, 544): <shapely.geometry.polygon.Polygon at 0x1d7397d30>,\n",
       " (536, 575): <shapely.geometry.polygon.Polygon at 0x1d7397d60>,\n",
       " (536, 570): <shapely.geometry.polygon.Polygon at 0x1d7397c40>,\n",
       " (538, 551): <shapely.geometry.polygon.Polygon at 0x1d7397400>,\n",
       " (538, 584): <shapely.geometry.polygon.Polygon at 0x1d7397b50>,\n",
       " (539, 580): <shapely.geometry.polygon.Polygon at 0x1d7397bb0>,\n",
       " (539, 572): <shapely.geometry.polygon.Polygon at 0x1d7397be0>,\n",
       " (541, 584): <shapely.geometry.polygon.Polygon at 0x1d7397ac0>,\n",
       " (541, 546): <shapely.geometry.polygon.Polygon at 0x1d7397280>,\n",
       " (542, 615): <shapely.geometry.polygon.Polygon at 0x1d73979d0>,\n",
       " (544, 575): <shapely.geometry.polygon.Polygon at 0x1d7397a30>,\n",
       " (544, 594): <shapely.geometry.polygon.Polygon at 0x1d7397a60>,\n",
       " (545, 587): <shapely.geometry.polygon.Polygon at 0x1d7397940>,\n",
       " (546, 585): <shapely.geometry.polygon.Polygon at 0x1d7397100>,\n",
       " (548, 589): <shapely.geometry.polygon.Polygon at 0x1d7397850>,\n",
       " (548, 554): <shapely.geometry.polygon.Polygon at 0x1d73978b0>,\n",
       " (551, 581): <shapely.geometry.polygon.Polygon at 0x1d73978e0>,\n",
       " (553, 556): <shapely.geometry.polygon.Polygon at 0x1d73977c0>,\n",
       " (553, 574): <shapely.geometry.polygon.Polygon at 0x1d7396f80>,\n",
       " (555, 572): <shapely.geometry.polygon.Polygon at 0x1d73976d0>,\n",
       " (555, 581): <shapely.geometry.polygon.Polygon at 0x1d7397730>,\n",
       " (557, 613): <shapely.geometry.polygon.Polygon at 0x1d7397760>,\n",
       " (559, 597): <shapely.geometry.polygon.Polygon at 0x1d7397640>,\n",
       " (559, 577): <shapely.geometry.polygon.Polygon at 0x1d7396e00>,\n",
       " (560, 586): <shapely.geometry.polygon.Polygon at 0x1d7397550>,\n",
       " (561, 602): <shapely.geometry.polygon.Polygon at 0x1d73975b0>,\n",
       " (561, 562): <shapely.geometry.polygon.Polygon at 0x1d73975e0>,\n",
       " (562, 602): <shapely.geometry.polygon.Polygon at 0x1d73974c0>,\n",
       " (565, 590): <shapely.geometry.polygon.Polygon at 0x1d7396c80>,\n",
       " (566, 578): <shapely.geometry.polygon.Polygon at 0x1d73973d0>,\n",
       " (567, 571): <shapely.geometry.polygon.Polygon at 0x1d7397430>,\n",
       " (570, 575): <shapely.geometry.polygon.Polygon at 0x1d7397460>,\n",
       " (570, 594): <shapely.geometry.polygon.Polygon at 0x1d7397340>,\n",
       " (572, 580): <shapely.geometry.polygon.Polygon at 0x1d7396b00>,\n",
       " (572, 611): <shapely.geometry.polygon.Polygon at 0x1d7397250>,\n",
       " (572, 581): <shapely.geometry.polygon.Polygon at 0x1d73972b0>,\n",
       " (574, 603): <shapely.geometry.polygon.Polygon at 0x1d73972e0>,\n",
       " (575, 630): <shapely.geometry.polygon.Polygon at 0x1d73971c0>,\n",
       " (575, 594): <shapely.geometry.polygon.Polygon at 0x1d7396980>,\n",
       " (578, 608): <shapely.geometry.polygon.Polygon at 0x1d73970d0>,\n",
       " (579, 634): <shapely.geometry.polygon.Polygon at 0x1d7397130>,\n",
       " (579, 599): <shapely.geometry.polygon.Polygon at 0x1d7397160>,\n",
       " (579, 647): <shapely.geometry.polygon.Polygon at 0x1d7397040>,\n",
       " (580, 624): <shapely.geometry.polygon.Polygon at 0x1d7396800>,\n",
       " (581, 611): <shapely.geometry.polygon.Polygon at 0x1d7396f50>,\n",
       " (584, 618): <shapely.geometry.polygon.Polygon at 0x1d7396fb0>,\n",
       " (585, 605): <shapely.geometry.polygon.Polygon at 0x1d7396fe0>,\n",
       " (586, 626): <shapely.geometry.polygon.Polygon at 0x1d7396ec0>,\n",
       " (587, 623): <shapely.geometry.polygon.Polygon at 0x1d7396680>,\n",
       " (587, 600): <shapely.geometry.polygon.Polygon at 0x1d7396dd0>,\n",
       " (588, 632): <shapely.geometry.polygon.Polygon at 0x1d7396e30>,\n",
       " (589, 620): <shapely.geometry.polygon.Polygon at 0x1d7396e60>,\n",
       " (590, 629): <shapely.geometry.polygon.Polygon at 0x1d7396d40>,\n",
       " (591, 598): <shapely.geometry.polygon.Polygon at 0x1d7396500>,\n",
       " (591, 638): <shapely.geometry.polygon.Polygon at 0x1d7396c50>,\n",
       " (591, 633): <shapely.geometry.polygon.Polygon at 0x1d7396cb0>,\n",
       " (593, 612): <shapely.geometry.polygon.Polygon at 0x1d7396ce0>,\n",
       " (594, 634): <shapely.geometry.polygon.Polygon at 0x1d7396bc0>,\n",
       " (595, 601): <shapely.geometry.polygon.Polygon at 0x1d7396380>,\n",
       " (598, 609): <shapely.geometry.polygon.Polygon at 0x1d7396ad0>,\n",
       " (598, 638): <shapely.geometry.polygon.Polygon at 0x1d7396b30>,\n",
       " (599, 634): <shapely.geometry.polygon.Polygon at 0x1d7396b60>,\n",
       " (600, 601): <shapely.geometry.polygon.Polygon at 0x1d7396a40>,\n",
       " (601, 649): <shapely.geometry.polygon.Polygon at 0x1d7396200>,\n",
       " (601, 644): <shapely.geometry.polygon.Polygon at 0x1d7396950>,\n",
       " (604, 614): <shapely.geometry.polygon.Polygon at 0x1d73969b0>,\n",
       " (606, 654): <shapely.geometry.polygon.Polygon at 0x1d73969e0>,\n",
       " (607, 632): <shapely.geometry.polygon.Polygon at 0x1d73968c0>,\n",
       " (608, 636): <shapely.geometry.polygon.Polygon at 0x1d7396080>,\n",
       " (608, 637): <shapely.geometry.polygon.Polygon at 0x1d73967d0>,\n",
       " (608, 642): <shapely.geometry.polygon.Polygon at 0x1d7396830>,\n",
       " (609, 642): <shapely.geometry.polygon.Polygon at 0x1d7396860>,\n",
       " (610, 617): <shapely.geometry.polygon.Polygon at 0x1d7396740>,\n",
       " (612, 635): <shapely.geometry.polygon.Polygon at 0x1d7395f00>,\n",
       " (613, 664): <shapely.geometry.polygon.Polygon at 0x1d7396650>,\n",
       " (614, 631): <shapely.geometry.polygon.Polygon at 0x1d73966b0>,\n",
       " (615, 655): <shapely.geometry.polygon.Polygon at 0x1d73966e0>,\n",
       " (617, 639): <shapely.geometry.polygon.Polygon at 0x1d73965c0>,\n",
       " (617, 693): <shapely.geometry.polygon.Polygon at 0x1d7395d80>,\n",
       " (617, 685): <shapely.geometry.polygon.Polygon at 0x1d73964d0>,\n",
       " (621, 625): <shapely.geometry.polygon.Polygon at 0x1d7396530>,\n",
       " (623, 648): <shapely.geometry.polygon.Polygon at 0x1d7396560>,\n",
       " (624, 665): <shapely.geometry.polygon.Polygon at 0x1d7396440>,\n",
       " (625, 660): <shapely.geometry.polygon.Polygon at 0x1d7395c00>,\n",
       " (626, 662): <shapely.geometry.polygon.Polygon at 0x1d7396350>,\n",
       " (626, 635): <shapely.geometry.polygon.Polygon at 0x1d73963b0>,\n",
       " (629, 661): <shapely.geometry.polygon.Polygon at 0x1d73963e0>,\n",
       " (630, 646): <shapely.geometry.polygon.Polygon at 0x1d73962c0>,\n",
       " (632, 663): <shapely.geometry.polygon.Polygon at 0x1d7395a80>,\n",
       " (633, 692): <shapely.geometry.polygon.Polygon at 0x1d73961d0>,\n",
       " (633, 646): <shapely.geometry.polygon.Polygon at 0x1d7396230>,\n",
       " (634, 647): <shapely.geometry.polygon.Polygon at 0x1d7396260>,\n",
       " (634, 671): <shapely.geometry.polygon.Polygon at 0x1d7396140>,\n",
       " (635, 662): <shapely.geometry.polygon.Polygon at 0x1d7395900>,\n",
       " (636, 680): <shapely.geometry.polygon.Polygon at 0x1d7396050>,\n",
       " (637, 642): <shapely.geometry.polygon.Polygon at 0x1d73960b0>,\n",
       " (637, 669): <shapely.geometry.polygon.Polygon at 0x1d73960e0>,\n",
       " (638, 670): <shapely.geometry.polygon.Polygon at 0x1d7395fc0>,\n",
       " (639, 693): <shapely.geometry.polygon.Polygon at 0x1d7395780>,\n",
       " (639, 685): <shapely.geometry.polygon.Polygon at 0x1d7395ed0>,\n",
       " (642, 669): <shapely.geometry.polygon.Polygon at 0x1d7395f30>,\n",
       " (642, 674): <shapely.geometry.polygon.Polygon at 0x1d7395f60>,\n",
       " (643, 689): <shapely.geometry.polygon.Polygon at 0x1d7395e40>,\n",
       " (644, 649): <shapely.geometry.polygon.Polygon at 0x1d7395600>,\n",
       " (644, 687): <shapely.geometry.polygon.Polygon at 0x1d7395d50>,\n",
       " (644, 694): <shapely.geometry.polygon.Polygon at 0x1d7395db0>,\n",
       " (644, 688): <shapely.geometry.polygon.Polygon at 0x1d7395de0>,\n",
       " (645, 657): <shapely.geometry.polygon.Polygon at 0x1d7395cc0>,\n",
       " (646, 721): <shapely.geometry.polygon.Polygon at 0x1d7395480>,\n",
       " (646, 692): <shapely.geometry.polygon.Polygon at 0x1d7395bd0>,\n",
       " (646, 722): <shapely.geometry.polygon.Polygon at 0x1d7395c30>,\n",
       " (647, 671): <shapely.geometry.polygon.Polygon at 0x1d7395c60>,\n",
       " (648, 739): <shapely.geometry.polygon.Polygon at 0x1d7395b40>,\n",
       " (648, 706): <shapely.geometry.polygon.Polygon at 0x1d7395300>,\n",
       " (649, 687): <shapely.geometry.polygon.Polygon at 0x1d7395a50>,\n",
       " (649, 694): <shapely.geometry.polygon.Polygon at 0x1d7395ab0>,\n",
       " (650, 676): <shapely.geometry.polygon.Polygon at 0x1d7395ae0>,\n",
       " (651, 744): <shapely.geometry.polygon.Polygon at 0x1d73959c0>,\n",
       " (651, 667): <shapely.geometry.polygon.Polygon at 0x1d7395180>,\n",
       " (652, 695): <shapely.geometry.polygon.Polygon at 0x1d73958d0>,\n",
       " (653, 730): <shapely.geometry.polygon.Polygon at 0x1d7395930>,\n",
       " (655, 734): <shapely.geometry.polygon.Polygon at 0x1d7395960>,\n",
       " (656, 724): <shapely.geometry.polygon.Polygon at 0x1d7395840>,\n",
       " (658, 700): <shapely.geometry.polygon.Polygon at 0x1d7395000>,\n",
       " (658, 716): <shapely.geometry.polygon.Polygon at 0x1d7395750>,\n",
       " (659, 678): <shapely.geometry.polygon.Polygon at 0x1d73957b0>,\n",
       " (660, 748): <shapely.geometry.polygon.Polygon at 0x1d73957e0>,\n",
       " (660, 749): <shapely.geometry.polygon.Polygon at 0x1d73956c0>,\n",
       " (660, 743): <shapely.geometry.polygon.Polygon at 0x1d7394e80>,\n",
       " (662, 699): <shapely.geometry.polygon.Polygon at 0x1d73955d0>,\n",
       " (662, 700): <shapely.geometry.polygon.Polygon at 0x1d7395630>,\n",
       " (664, 723): <shapely.geometry.polygon.Polygon at 0x1d7395660>,\n",
       " (664, 708): <shapely.geometry.polygon.Polygon at 0x1d7395540>,\n",
       " (667, 676): <shapely.geometry.polygon.Polygon at 0x1d7394d00>,\n",
       " (669, 719): <shapely.geometry.polygon.Polygon at 0x1d7395450>,\n",
       " (669, 701): <shapely.geometry.polygon.Polygon at 0x1d73954b0>,\n",
       " (669, 674): <shapely.geometry.polygon.Polygon at 0x1d73954e0>,\n",
       " (669, 713): <shapely.geometry.polygon.Polygon at 0x1d73953c0>,\n",
       " (670, 701): <shapely.geometry.polygon.Polygon at 0x1d7394b80>,\n",
       " (670, 737): <shapely.geometry.polygon.Polygon at 0x1d73952d0>,\n",
       " (670, 674): <shapely.geometry.polygon.Polygon at 0x1d7395330>,\n",
       " (670, 713): <shapely.geometry.polygon.Polygon at 0x1d7395360>,\n",
       " (670, 720): <shapely.geometry.polygon.Polygon at 0x1d7395240>,\n",
       " (671, 732): <shapely.geometry.polygon.Polygon at 0x1d7394a00>,\n",
       " (671, 757): <shapely.geometry.polygon.Polygon at 0x1d7395150>,\n",
       " (671, 726): <shapely.geometry.polygon.Polygon at 0x1d73951b0>,\n",
       " (672, 730): <shapely.geometry.polygon.Polygon at 0x1d73951e0>,\n",
       " (673, 760): <shapely.geometry.polygon.Polygon at 0x1d73950c0>,\n",
       " (674, 701): <shapely.geometry.polygon.Polygon at 0x1d7394880>,\n",
       " (674, 713): <shapely.geometry.polygon.Polygon at 0x1d7394fd0>,\n",
       " (675, 751): <shapely.geometry.polygon.Polygon at 0x1d7395030>,\n",
       " (680, 716): <shapely.geometry.polygon.Polygon at 0x1d7395060>,\n",
       " (680, 712): <shapely.geometry.polygon.Polygon at 0x1d7394f40>,\n",
       " (681, 707): <shapely.geometry.polygon.Polygon at 0x1d7394700>,\n",
       " (681, 682): <shapely.geometry.polygon.Polygon at 0x1d7394e50>,\n",
       " (684, 715): <shapely.geometry.polygon.Polygon at 0x1d7394eb0>,\n",
       " (685, 727): <shapely.geometry.polygon.Polygon at 0x1d7394ee0>,\n",
       " (685, 693): <shapely.geometry.polygon.Polygon at 0x1d7394dc0>,\n",
       " (686, 728): <shapely.geometry.polygon.Polygon at 0x1d7394580>,\n",
       " (687, 733): <shapely.geometry.polygon.Polygon at 0x1d7394cd0>,\n",
       " (687, 694): <shapely.geometry.polygon.Polygon at 0x1d7394d30>,\n",
       " (688, 694): <shapely.geometry.polygon.Polygon at 0x1d7394d60>,\n",
       " (688, 709): <shapely.geometry.polygon.Polygon at 0x1d7394c40>,\n",
       " (688, 714): <shapely.geometry.polygon.Polygon at 0x1d7394400>,\n",
       " (689, 744): <shapely.geometry.polygon.Polygon at 0x1d7394b50>,\n",
       " (692, 720): <shapely.geometry.polygon.Polygon at 0x1d7394bb0>,\n",
       " (692, 721): <shapely.geometry.polygon.Polygon at 0x1d7394be0>,\n",
       " (692, 722): <shapely.geometry.polygon.Polygon at 0x1d7394ac0>,\n",
       " (693, 727): <shapely.geometry.polygon.Polygon at 0x1d7394280>,\n",
       " (693, 752): <shapely.geometry.polygon.Polygon at 0x1d73949d0>,\n",
       " (693, 738): <shapely.geometry.polygon.Polygon at 0x1d7394a30>,\n",
       " (694, 733): <shapely.geometry.polygon.Polygon at 0x1d7394a60>,\n",
       " (694, 709): <shapely.geometry.polygon.Polygon at 0x1d7394940>,\n",
       " (697, 777): <shapely.geometry.polygon.Polygon at 0x1d7394100>,\n",
       " (698, 748): <shapely.geometry.polygon.Polygon at 0x1d7394850>,\n",
       " (701, 719): <shapely.geometry.polygon.Polygon at 0x1d73948b0>,\n",
       " (701, 737): <shapely.geometry.polygon.Polygon at 0x1d73948e0>,\n",
       " (701, 713): <shapely.geometry.polygon.Polygon at 0x1d73947c0>,\n",
       " (704, 725): <shapely.geometry.polygon.Polygon at 0x1d73946d0>,\n",
       " (705, 723): <shapely.geometry.polygon.Polygon at 0x1d7394730>,\n",
       " (705, 753): <shapely.geometry.polygon.Polygon at 0x1d7394760>,\n",
       " (706, 739): <shapely.geometry.polygon.Polygon at 0x1d7394640>,\n",
       " (707, 763): <shapely.geometry.polygon.Polygon at 0x1d7394550>,\n",
       " (708, 723): <shapely.geometry.polygon.Polygon at 0x1d73945b0>,\n",
       " (708, 753): <shapely.geometry.polygon.Polygon at 0x1d73945e0>,\n",
       " (709, 733): <shapely.geometry.polygon.Polygon at 0x1d73944c0>,\n",
       " (709, 754): <shapely.geometry.polygon.Polygon at 0x1d73943d0>,\n",
       " (709, 758): <shapely.geometry.polygon.Polygon at 0x1d7394430>,\n",
       " (709, 740): <shapely.geometry.polygon.Polygon at 0x1d7394460>,\n",
       " (709, 714): <shapely.geometry.polygon.Polygon at 0x1d7394340>,\n",
       " (710, 759): <shapely.geometry.polygon.Polygon at 0x1d7394250>,\n",
       " (711, 742): <shapely.geometry.polygon.Polygon at 0x1d73942b0>,\n",
       " (712, 719): <shapely.geometry.polygon.Polygon at 0x1d73942e0>,\n",
       " (713, 737): <shapely.geometry.polygon.Polygon at 0x1d73941c0>,\n",
       " (713, 720): <shapely.geometry.polygon.Polygon at 0x1d73940d0>,\n",
       " (714, 740): <shapely.geometry.polygon.Polygon at 0x1d7394130>,\n",
       " (717, 731): <shapely.geometry.polygon.Polygon at 0x1d7394160>,\n",
       " (718, 803): <shapely.geometry.polygon.Polygon at 0x1d7394040>,\n",
       " (718, 790): <shapely.geometry.polygon.Polygon at 0x1d7394070>,\n",
       " (718, 804): <shapely.geometry.polygon.Polygon at 0x1d73940a0>,\n",
       " (719, 778): <shapely.geometry.polygon.Polygon at 0x1d73941f0>,\n",
       " (719, 737): <shapely.geometry.polygon.Polygon at 0x1d7394220>,\n",
       " (720, 721): <shapely.geometry.polygon.Polygon at 0x1d7394370>,\n",
       " (720, 756): <shapely.geometry.polygon.Polygon at 0x1d73943a0>,\n",
       " (721, 756): <shapely.geometry.polygon.Polygon at 0x1d73944f0>,\n",
       " (721, 722): <shapely.geometry.polygon.Polygon at 0x1d7394520>,\n",
       " (722, 756): <shapely.geometry.polygon.Polygon at 0x1d7394670>,\n",
       " (722, 779): <shapely.geometry.polygon.Polygon at 0x1d73946a0>,\n",
       " (722, 750): <shapely.geometry.polygon.Polygon at 0x1d73947f0>,\n",
       " (723, 753): <shapely.geometry.polygon.Polygon at 0x1d7394820>,\n",
       " (724, 734): <shapely.geometry.polygon.Polygon at 0x1d7394970>,\n",
       " (726, 757): <shapely.geometry.polygon.Polygon at 0x1d73949a0>,\n",
       " (726, 751): <shapely.geometry.polygon.Polygon at 0x1d7394af0>,\n",
       " (727, 771): <shapely.geometry.polygon.Polygon at 0x1d7394b20>,\n",
       " (727, 752): <shapely.geometry.polygon.Polygon at 0x1d7394c70>,\n",
       " (730, 782): <shapely.geometry.polygon.Polygon at 0x1d7394ca0>,\n",
       " (732, 750): <shapely.geometry.polygon.Polygon at 0x1d7394df0>,\n",
       " (732, 770): <shapely.geometry.polygon.Polygon at 0x1d7394e20>,\n",
       " (732, 757): <shapely.geometry.polygon.Polygon at 0x1d7394f70>,\n",
       " (733, 754): <shapely.geometry.polygon.Polygon at 0x1d7394fa0>,\n",
       " (733, 758): <shapely.geometry.polygon.Polygon at 0x1d73950f0>,\n",
       " (734, 776): <shapely.geometry.polygon.Polygon at 0x1d7395120>,\n",
       " (738, 752): <shapely.geometry.polygon.Polygon at 0x1d7395270>,\n",
       " (740, 758): <shapely.geometry.polygon.Polygon at 0x1d73952a0>,\n",
       " (743, 749): <shapely.geometry.polygon.Polygon at 0x1d73953f0>,\n",
       " (743, 819): <shapely.geometry.polygon.Polygon at 0x1d7395420>,\n",
       " (748, 784): <shapely.geometry.polygon.Polygon at 0x1d7395570>,\n",
       " (748, 810): <shapely.geometry.polygon.Polygon at 0x1d73955a0>,\n",
       " (748, 749): <shapely.geometry.polygon.Polygon at 0x1d73956f0>,\n",
       " (750, 779): <shapely.geometry.polygon.Polygon at 0x1d7395720>,\n",
       " (750, 770): <shapely.geometry.polygon.Polygon at 0x1d7395870>,\n",
       " (751, 767): <shapely.geometry.polygon.Polygon at 0x1d73958a0>,\n",
       " (752, 771): <shapely.geometry.polygon.Polygon at 0x1d73959f0>,\n",
       " (753, 775): <shapely.geometry.polygon.Polygon at 0x1d7395a20>,\n",
       " (754, 758): <shapely.geometry.polygon.Polygon at 0x1d7395b70>,\n",
       " (754, 794): <shapely.geometry.polygon.Polygon at 0x1d7395ba0>,\n",
       " (756, 787): <shapely.geometry.polygon.Polygon at 0x1d7395cf0>,\n",
       " (758, 794): <shapely.geometry.polygon.Polygon at 0x1d7395d20>,\n",
       " (760, 783): <shapely.geometry.polygon.Polygon at 0x1d7395e70>,\n",
       " (761, 834): <shapely.geometry.polygon.Polygon at 0x1d7395ea0>,\n",
       " (762, 789): <shapely.geometry.polygon.Polygon at 0x1d7395ff0>,\n",
       " (763, 798): <shapely.geometry.polygon.Polygon at 0x1d7396020>,\n",
       " (764, 801): <shapely.geometry.polygon.Polygon at 0x1d7396170>,\n",
       " (766, 791): <shapely.geometry.polygon.Polygon at 0x1d73961a0>,\n",
       " (768, 806): <shapely.geometry.polygon.Polygon at 0x1d73962f0>,\n",
       " (770, 779): <shapely.geometry.polygon.Polygon at 0x1d7396320>,\n",
       " (771, 793): <shapely.geometry.polygon.Polygon at 0x1d7396470>,\n",
       " (772, 797): <shapely.geometry.polygon.Polygon at 0x1d73964a0>,\n",
       " (773, 861): <shapely.geometry.polygon.Polygon at 0x1d73965f0>,\n",
       " (773, 828): <shapely.geometry.polygon.Polygon at 0x1d7396620>,\n",
       " (774, 811): <shapely.geometry.polygon.Polygon at 0x1d7396770>,\n",
       " (774, 791): <shapely.geometry.polygon.Polygon at 0x1d73967a0>,\n",
       " (776, 802): <shapely.geometry.polygon.Polygon at 0x1d73968f0>,\n",
       " (777, 828): <shapely.geometry.polygon.Polygon at 0x1d7396920>,\n",
       " (777, 864): <shapely.geometry.polygon.Polygon at 0x1d7396a70>,\n",
       " (778, 836): <shapely.geometry.polygon.Polygon at 0x1d7396aa0>,\n",
       " (778, 812): <shapely.geometry.polygon.Polygon at 0x1d7396bf0>,\n",
       " (778, 786): <shapely.geometry.polygon.Polygon at 0x1d7396c20>,\n",
       " (779, 787): <shapely.geometry.polygon.Polygon at 0x1d7396d70>,\n",
       " (780, 812): <shapely.geometry.polygon.Polygon at 0x1d7396da0>,\n",
       " (780, 786): <shapely.geometry.polygon.Polygon at 0x1d7396ef0>,\n",
       " (781, 824): <shapely.geometry.polygon.Polygon at 0x1d7396f20>,\n",
       " (785, 792): <shapely.geometry.polygon.Polygon at 0x1d7397070>,\n",
       " (785, 835): <shapely.geometry.polygon.Polygon at 0x1d73970a0>,\n",
       " (786, 812): <shapely.geometry.polygon.Polygon at 0x1d73971f0>,\n",
       " (786, 833): <shapely.geometry.polygon.Polygon at 0x1d7397220>,\n",
       " (787, 843): <shapely.geometry.polygon.Polygon at 0x1d7397370>,\n",
       " (788, 846): <shapely.geometry.polygon.Polygon at 0x1d73973a0>,\n",
       " (790, 803): <shapely.geometry.polygon.Polygon at 0x1d73974f0>,\n",
       " (790, 804): <shapely.geometry.polygon.Polygon at 0x1d7397520>,\n",
       " (792, 837): <shapely.geometry.polygon.Polygon at 0x1d7397670>,\n",
       " (792, 835): <shapely.geometry.polygon.Polygon at 0x1d73976a0>,\n",
       " (795, 811): <shapely.geometry.polygon.Polygon at 0x1d73977f0>,\n",
       " (797, 831): <shapely.geometry.polygon.Polygon at 0x1d7397820>,\n",
       " (798, 815): <shapely.geometry.polygon.Polygon at 0x1d7397970>,\n",
       " (803, 804): <shapely.geometry.polygon.Polygon at 0x1d73979a0>,\n",
       " (804, 818): <shapely.geometry.polygon.Polygon at 0x1d7397af0>,\n",
       " (805, 834): <shapely.geometry.polygon.Polygon at 0x1d7397b20>,\n",
       " (806, 821): <shapely.geometry.polygon.Polygon at 0x1d7397c70>,\n",
       " (807, 827): <shapely.geometry.polygon.Polygon at 0x1d7397ca0>,\n",
       " (808, 841): <shapely.geometry.polygon.Polygon at 0x1d7397df0>,\n",
       " (809, 826): <shapely.geometry.polygon.Polygon at 0x1d7397e20>,\n",
       " (810, 847): <shapely.geometry.polygon.Polygon at 0x1d7397f70>,\n",
       " (811, 852): <shapely.geometry.polygon.Polygon at 0x1d7397fa0>,\n",
       " (812, 836): <shapely.geometry.polygon.Polygon at 0x1d7330040>,\n",
       " (812, 833): <shapely.geometry.polygon.Polygon at 0x1d7330070>,\n",
       " (813, 848): <shapely.geometry.polygon.Polygon at 0x1d73300a0>,\n",
       " (813, 853): <shapely.geometry.polygon.Polygon at 0x1d73300d0>,\n",
       " (813, 820): <shapely.geometry.polygon.Polygon at 0x1d7330100>,\n",
       " (815, 863): <shapely.geometry.polygon.Polygon at 0x1d7330130>,\n",
       " (816, 897): <shapely.geometry.polygon.Polygon at 0x1d7330160>,\n",
       " (816, 844): <shapely.geometry.polygon.Polygon at 0x1d7330190>,\n",
       " (817, 869): <shapely.geometry.polygon.Polygon at 0x1d73301c0>,\n",
       " (818, 829): <shapely.geometry.polygon.Polygon at 0x1d73301f0>,\n",
       " (819, 847): <shapely.geometry.polygon.Polygon at 0x1d7330220>,\n",
       " (820, 853): <shapely.geometry.polygon.Polygon at 0x1d7330250>,\n",
       " (824, 867): <shapely.geometry.polygon.Polygon at 0x1d7330280>,\n",
       " (828, 864): <shapely.geometry.polygon.Polygon at 0x1d73302b0>,\n",
       " (829, 840): <shapely.geometry.polygon.Polygon at 0x1d73302e0>,\n",
       " (830, 857): <shapely.geometry.polygon.Polygon at 0x1d7330310>,\n",
       " (833, 843): <shapely.geometry.polygon.Polygon at 0x1d7330340>,\n",
       " (834, 872): <shapely.geometry.polygon.Polygon at 0x1d7330370>,\n",
       " (834, 896): <shapely.geometry.polygon.Polygon at 0x1d73303a0>,\n",
       " (834, 902): <shapely.geometry.polygon.Polygon at 0x1d73303d0>,\n",
       " (836, 856): <shapely.geometry.polygon.Polygon at 0x1d7330400>,\n",
       " (836, 875): <shapely.geometry.polygon.Polygon at 0x1d7330430>,\n",
       " (838, 879): <shapely.geometry.polygon.Polygon at 0x1d7330460>,\n",
       " (841, 892): <shapely.geometry.polygon.Polygon at 0x1d7330490>,\n",
       " (841, 870): <shapely.geometry.polygon.Polygon at 0x1d73304c0>,\n",
       " (841, 904): <shapely.geometry.polygon.Polygon at 0x1d73304f0>,\n",
       " (842, 874): <shapely.geometry.polygon.Polygon at 0x1d7330520>,\n",
       " (842, 856): <shapely.geometry.polygon.Polygon at 0x1d7330550>,\n",
       " (843, 876): <shapely.geometry.polygon.Polygon at 0x1d7330580>,\n",
       " (845, 888): <shapely.geometry.polygon.Polygon at 0x1d73305b0>,\n",
       " (848, 853): <shapely.geometry.polygon.Polygon at 0x1d73305e0>,\n",
       " (849, 854): <shapely.geometry.polygon.Polygon at 0x1d7330610>,\n",
       " (850, 902): <shapely.geometry.polygon.Polygon at 0x1d7330640>,\n",
       " (852, 893): <shapely.geometry.polygon.Polygon at 0x1d7330670>,\n",
       " (852, 866): <shapely.geometry.polygon.Polygon at 0x1d73306a0>,\n",
       " (852, 894): <shapely.geometry.polygon.Polygon at 0x1d73306d0>,\n",
       " (856, 874): <shapely.geometry.polygon.Polygon at 0x1d7330700>,\n",
       " (856, 908): <shapely.geometry.polygon.Polygon at 0x1d7330730>,\n",
       " (858, 900): <shapely.geometry.polygon.Polygon at 0x1d7330760>,\n",
       " (859, 923): <shapely.geometry.polygon.Polygon at 0x1d7330790>,\n",
       " (860, 907): <shapely.geometry.polygon.Polygon at 0x1d73307c0>,\n",
       " (860, 869): <shapely.geometry.polygon.Polygon at 0x1d73307f0>,\n",
       " (863, 890): <shapely.geometry.polygon.Polygon at 0x1d7330820>,\n",
       " (865, 911): <shapely.geometry.polygon.Polygon at 0x1d7330850>,\n",
       " (865, 905): <shapely.geometry.polygon.Polygon at 0x1d7330880>,\n",
       " (865, 893): <shapely.geometry.polygon.Polygon at 0x1d73308b0>,\n",
       " (866, 894): <shapely.geometry.polygon.Polygon at 0x1d73308e0>,\n",
       " (868, 891): <shapely.geometry.polygon.Polygon at 0x1d7330910>,\n",
       " (868, 873): <shapely.geometry.polygon.Polygon at 0x1d7330940>,\n",
       " (869, 941): <shapely.geometry.polygon.Polygon at 0x1d7330970>,\n",
       " (870, 892): <shapely.geometry.polygon.Polygon at 0x1d73309a0>,\n",
       " (870, 904): <shapely.geometry.polygon.Polygon at 0x1d73309d0>,\n",
       " (871, 883): <shapely.geometry.polygon.Polygon at 0x1d7330a00>,\n",
       " (872, 901): <shapely.geometry.polygon.Polygon at 0x1d7330a30>,\n",
       " (872, 896): <shapely.geometry.polygon.Polygon at 0x1d7330a60>,\n",
       " (873, 939): <shapely.geometry.polygon.Polygon at 0x1d7330a90>,\n",
       " (874, 894): <shapely.geometry.polygon.Polygon at 0x1d7330ac0>,\n",
       " (874, 925): <shapely.geometry.polygon.Polygon at 0x1d7330af0>,\n",
       " (874, 921): <shapely.geometry.polygon.Polygon at 0x1d7330b20>,\n",
       " (874, 908): <shapely.geometry.polygon.Polygon at 0x1d7330b50>,\n",
       " (876, 912): <shapely.geometry.polygon.Polygon at 0x1d7330b80>,\n",
       " (881, 935): <shapely.geometry.polygon.Polygon at 0x1d7330bb0>,\n",
       " (885, 932): <shapely.geometry.polygon.Polygon at 0x1d7330be0>,\n",
       " (886, 900): <shapely.geometry.polygon.Polygon at 0x1d7330c10>,\n",
       " (887, 915): <shapely.geometry.polygon.Polygon at 0x1d7330c40>,\n",
       " (888, 898): <shapely.geometry.polygon.Polygon at 0x1d7330c70>,\n",
       " (891, 935): <shapely.geometry.polygon.Polygon at 0x1d7330ca0>,\n",
       " (892, 904): <shapely.geometry.polygon.Polygon at 0x1d7330cd0>,\n",
       " (893, 905): <shapely.geometry.polygon.Polygon at 0x1d7330d00>,\n",
       " (894, 925): <shapely.geometry.polygon.Polygon at 0x1d7330d30>,\n",
       " (894, 921): <shapely.geometry.polygon.Polygon at 0x1d7330d60>,\n",
       " (899, 917): <shapely.geometry.polygon.Polygon at 0x1d7330d90>,\n",
       " (899, 920): <shapely.geometry.polygon.Polygon at 0x1d7330dc0>,\n",
       " (903, 947): <shapely.geometry.polygon.Polygon at 0x1d7330df0>,\n",
       " (905, 911): <shapely.geometry.polygon.Polygon at 0x1d7330e20>,\n",
       " (905, 958): <shapely.geometry.polygon.Polygon at 0x1d7330e50>,\n",
       " (907, 962): <shapely.geometry.polygon.Polygon at 0x1d7330e80>,\n",
       " (908, 921): <shapely.geometry.polygon.Polygon at 0x1d7330eb0>,\n",
       " (909, 942): <shapely.geometry.polygon.Polygon at 0x1d7330ee0>,\n",
       " (911, 958): <shapely.geometry.polygon.Polygon at 0x1d7330f10>,\n",
       " (912, 922): <shapely.geometry.polygon.Polygon at 0x1d7330f40>,\n",
       " (912, 970): <shapely.geometry.polygon.Polygon at 0x1d7330f70>,\n",
       " (912, 963): <shapely.geometry.polygon.Polygon at 0x1d7330fa0>,\n",
       " (913, 972): <shapely.geometry.polygon.Polygon at 0x1d7330fd0>,\n",
       " (913, 964): <shapely.geometry.polygon.Polygon at 0x1d7331000>,\n",
       " (915, 954): <shapely.geometry.polygon.Polygon at 0x1d7331030>,\n",
       " (915, 961): <shapely.geometry.polygon.Polygon at 0x1d7331060>,\n",
       " (916, 917): <shapely.geometry.polygon.Polygon at 0x1d7331090>,\n",
       " (917, 920): <shapely.geometry.polygon.Polygon at 0x1d73310c0>,\n",
       " (917, 948): <shapely.geometry.polygon.Polygon at 0x1d73310f0>,\n",
       " (918, 964): <shapely.geometry.polygon.Polygon at 0x1d7331120>,\n",
       " (920, 948): <shapely.geometry.polygon.Polygon at 0x1d7331150>,\n",
       " (920, 924): <shapely.geometry.polygon.Polygon at 0x1d7331180>,\n",
       " (921, 925): <shapely.geometry.polygon.Polygon at 0x1d73311b0>,\n",
       " (921, 979): <shapely.geometry.polygon.Polygon at 0x1d73311e0>,\n",
       " (922, 929): <shapely.geometry.polygon.Polygon at 0x1d7331210>,\n",
       " (922, 970): <shapely.geometry.polygon.Polygon at 0x1d7331240>,\n",
       " (922, 963): <shapely.geometry.polygon.Polygon at 0x1d7331270>,\n",
       " (923, 966): <shapely.geometry.polygon.Polygon at 0x1d73312a0>,\n",
       " (923, 967): <shapely.geometry.polygon.Polygon at 0x1d73312d0>,\n",
       " (924, 948): <shapely.geometry.polygon.Polygon at 0x1d7331300>,\n",
       " (924, 942): <shapely.geometry.polygon.Polygon at 0x1d7331330>,\n",
       " (925, 945): <shapely.geometry.polygon.Polygon at 0x1d7331360>,\n",
       " (926, 964): <shapely.geometry.polygon.Polygon at 0x1d7331390>,\n",
       " (926, 984): <shapely.geometry.polygon.Polygon at 0x1d73313c0>,\n",
       " (927, 982): <shapely.geometry.polygon.Polygon at 0x1d73313f0>,\n",
       " (929, 949): <shapely.geometry.polygon.Polygon at 0x1d7331420>,\n",
       " (930, 950): <shapely.geometry.polygon.Polygon at 0x1d7331450>,\n",
       " (931, 959): <shapely.geometry.polygon.Polygon at 0x1d7331480>,\n",
       " (932, 960): <shapely.geometry.polygon.Polygon at 0x1d73314b0>,\n",
       " (933, 985): <shapely.geometry.polygon.Polygon at 0x1d73314e0>,\n",
       " (935, 986): <shapely.geometry.polygon.Polygon at 0x1d7331510>,\n",
       " (937, 956): <shapely.geometry.polygon.Polygon at 0x1d7331540>,\n",
       " (942, 948): <shapely.geometry.polygon.Polygon at 0x1d7331570>,\n",
       " (942, 978): <shapely.geometry.polygon.Polygon at 0x1d73315a0>,\n",
       " (942, 989): <shapely.geometry.polygon.Polygon at 0x1d73315d0>,\n",
       " (943, 956): <shapely.geometry.polygon.Polygon at 0x1d7331600>,\n",
       " (944, 945): <shapely.geometry.polygon.Polygon at 0x1d7331630>,\n",
       " (948, 978): <shapely.geometry.polygon.Polygon at 0x1d7331660>,\n",
       " (948, 989): <shapely.geometry.polygon.Polygon at 0x1d7331690>,\n",
       " (949, 979): <shapely.geometry.polygon.Polygon at 0x1d73316c0>,\n",
       " (949, 1023): <shapely.geometry.polygon.Polygon at 0x1d73316f0>,\n",
       " (949, 1018): <shapely.geometry.polygon.Polygon at 0x1d7331720>,\n",
       " (951, 974): <shapely.geometry.polygon.Polygon at 0x1d7331750>,\n",
       " (953, 998): <shapely.geometry.polygon.Polygon at 0x1d7331780>,\n",
       " (954, 961): <shapely.geometry.polygon.Polygon at 0x1d73317b0>,\n",
       " (954, 1010): <shapely.geometry.polygon.Polygon at 0x1d73317e0>,\n",
       " (957, 1032): <shapely.geometry.polygon.Polygon at 0x1d7331810>,\n",
       " (959, 992): <shapely.geometry.polygon.Polygon at 0x1d7331840>,\n",
       " (960, 996): <shapely.geometry.polygon.Polygon at 0x1d7331870>,\n",
       " (961, 1010): <shapely.geometry.polygon.Polygon at 0x1d73318a0>,\n",
       " (962, 1011): <shapely.geometry.polygon.Polygon at 0x1d73318d0>,\n",
       " (962, 1012): <shapely.geometry.polygon.Polygon at 0x1d7331900>,\n",
       " (963, 970): <shapely.geometry.polygon.Polygon at 0x1d7331930>,\n",
       " (963, 1043): <shapely.geometry.polygon.Polygon at 0x1d7331960>,\n",
       " (963, 1061): <shapely.geometry.polygon.Polygon at 0x1d7331990>,\n",
       " (963, 1055): <shapely.geometry.polygon.Polygon at 0x1d73319c0>,\n",
       " (964, 1008): <shapely.geometry.polygon.Polygon at 0x1d73319f0>,\n",
       " (964, 1024): <shapely.geometry.polygon.Polygon at 0x1d7331a20>,\n",
       " (964, 1003): <shapely.geometry.polygon.Polygon at 0x1d7331a50>,\n",
       " (964, 1020): <shapely.geometry.polygon.Polygon at 0x1d7331a80>,\n",
       " (964, 972): <shapely.geometry.polygon.Polygon at 0x1d7331ab0>,\n",
       " (964, 984): <shapely.geometry.polygon.Polygon at 0x1d7331ae0>,\n",
       " (966, 987): <shapely.geometry.polygon.Polygon at 0x1d7331b10>,\n",
       " (966, 967): <shapely.geometry.polygon.Polygon at 0x1d7331b40>,\n",
       " (967, 995): <shapely.geometry.polygon.Polygon at 0x1d7331b70>,\n",
       " (967, 987): <shapely.geometry.polygon.Polygon at 0x1d7331ba0>,\n",
       " (969, 1017): <shapely.geometry.polygon.Polygon at 0x1d7331bd0>,\n",
       " (969, 1013): <shapely.geometry.polygon.Polygon at 0x1d7331c00>,\n",
       " (972, 1008): <shapely.geometry.polygon.Polygon at 0x1d7331c30>,\n",
       " (975, 1027): <shapely.geometry.polygon.Polygon at 0x1d7331c60>,\n",
       " (977, 1037): <shapely.geometry.polygon.Polygon at 0x1d7331c90>,\n",
       " (978, 1014): <shapely.geometry.polygon.Polygon at 0x1d7331cc0>,\n",
       " (978, 989): <shapely.geometry.polygon.Polygon at 0x1d7331cf0>,\n",
       " (979, 1023): <shapely.geometry.polygon.Polygon at 0x1d7331d20>,\n",
       " (979, 1018): <shapely.geometry.polygon.Polygon at 0x1d7331d50>,\n",
       " (982, 1009): <shapely.geometry.polygon.Polygon at 0x1d7331d80>,\n",
       " (984, 1003): <shapely.geometry.polygon.Polygon at 0x1d7331db0>,\n",
       " (984, 1020): <shapely.geometry.polygon.Polygon at 0x1d7331de0>,\n",
       " (984, 1015): <shapely.geometry.polygon.Polygon at 0x1d7331e10>,\n",
       " (986, 993): <shapely.geometry.polygon.Polygon at 0x1d7331e40>,\n",
       " (988, 1005): <shapely.geometry.polygon.Polygon at 0x1d7331e70>,\n",
       " (989, 1014): <shapely.geometry.polygon.Polygon at 0x1d7331ea0>,\n",
       " (989, 1007): <shapely.geometry.polygon.Polygon at 0x1d7331ed0>,\n",
       " (991, 1067): <shapely.geometry.polygon.Polygon at 0x1d7331f00>,\n",
       " (992, 1036): <shapely.geometry.polygon.Polygon at 0x1d7331f30>,\n",
       " (994, 1048): <shapely.geometry.polygon.Polygon at 0x1d7331f60>,\n",
       " (997, 1021): <shapely.geometry.polygon.Polygon at 0x1d7331f90>,\n",
       " (999, 1079): <shapely.geometry.polygon.Polygon at 0x1d7331fc0>,\n",
       " (1003, 1024): <shapely.geometry.polygon.Polygon at 0x1d7331ff0>,\n",
       " (1003, 1020): <shapely.geometry.polygon.Polygon at 0x1d7332020>,\n",
       " (1005, 1058): <shapely.geometry.polygon.Polygon at 0x1d7332050>,\n",
       " (1007, 1014): <shapely.geometry.polygon.Polygon at 0x1d7332080>,\n",
       " (1007, 1053): <shapely.geometry.polygon.Polygon at 0x1d73320b0>,\n",
       " (1007, 1059): <shapely.geometry.polygon.Polygon at 0x1d73320e0>,\n",
       " (1008, 1024): <shapely.geometry.polygon.Polygon at 0x1d7332110>,\n",
       " (1011, 1012): <shapely.geometry.polygon.Polygon at 0x1d7332140>,\n",
       " (1012, 1069): <shapely.geometry.polygon.Polygon at 0x1d7332170>,\n",
       " (1013, 1017): <shapely.geometry.polygon.Polygon at 0x1d73321a0>,\n",
       " (1013, 1046): <shapely.geometry.polygon.Polygon at 0x1d73321d0>,\n",
       " (1013, 1050): <shapely.geometry.polygon.Polygon at 0x1d7332200>,\n",
       " (1014, 1052): <shapely.geometry.polygon.Polygon at 0x1d7332230>,\n",
       " (1014, 1053): <shapely.geometry.polygon.Polygon at 0x1d7332260>,\n",
       " (1015, 1020): <shapely.geometry.polygon.Polygon at 0x1d7332290>,\n",
       " (1017, 1028): <shapely.geometry.polygon.Polygon at 0x1d73322c0>,\n",
       " (1017, 1101): <shapely.geometry.polygon.Polygon at 0x1d73322f0>,\n",
       " (1017, 1046): <shapely.geometry.polygon.Polygon at 0x1d7332320>,\n",
       " (1018, 1023): <shapely.geometry.polygon.Polygon at 0x1d7332350>,\n",
       " (1019, 1076): <shapely.geometry.polygon.Polygon at 0x1d7332380>,\n",
       " (1020, 1099): <shapely.geometry.polygon.Polygon at 0x1d73323b0>,\n",
       " (1021, 1071): <shapely.geometry.polygon.Polygon at 0x1d73323e0>,\n",
       " (1021, 1077): <shapely.geometry.polygon.Polygon at 0x1d7332410>,\n",
       " (1022, 1088): <shapely.geometry.polygon.Polygon at 0x1d7332440>,\n",
       " (1022, 1050): <shapely.geometry.polygon.Polygon at 0x1d7332470>,\n",
       " ...}"
      ]
     },
     "execution_count": 111,
     "metadata": {},
     "output_type": "execute_result"
    }
   ],
   "source": [
    "intersections"
   ]
  },
  {
   "cell_type": "code",
   "execution_count": 489,
   "id": "add40619-5a59-456d-8793-21c0b54e509b",
   "metadata": {},
   "outputs": [
    {
     "data": {
      "text/plain": [
       "Counter({\"<class 'shapely.geometry.polygon.Polygon'>\": 6289,\n",
       "         \"<class 'shapely.geometry.multipolygon.MultiPolygon'>\": 1})"
      ]
     },
     "execution_count": 489,
     "metadata": {},
     "output_type": "execute_result"
    }
   ],
   "source": [
    "import collections\n",
    "collections.Counter(str(type(x)) for x in intersections.values())"
   ]
  },
  {
   "cell_type": "code",
   "execution_count": 490,
   "id": "b5eb09b6-f3fe-4315-8239-050a976afea1",
   "metadata": {},
   "outputs": [
    {
     "data": {
      "image/svg+xml": [
       "<svg xmlns=\"http://www.w3.org/2000/svg\" xmlns:xlink=\"http://www.w3.org/1999/xlink\" width=\"100.0\" height=\"100.0\" viewBox=\"673.38 993.38 3.240000000000009 3.240000000000009\" preserveAspectRatio=\"xMinYMin meet\"><g transform=\"matrix(1,0,0,-1,0,1990.0)\"><path fill-rule=\"evenodd\" fill=\"#66cc99\" stroke=\"#555555\" stroke-width=\"0.06480000000000018\" opacity=\"0.6\" d=\"M 674.0,996.5 L 676.5,994.0 L 676.0,993.5 L 673.5,996.0 L 673.5,996.5 L 674.0,996.5 z\" /></g></svg>"
      ],
      "text/plain": [
       "<shapely.geometry.polygon.Polygon at 0x1c25506a0>"
      ]
     },
     "execution_count": 490,
     "metadata": {},
     "output_type": "execute_result"
    }
   ],
   "source": [
    "intersections[(3, 7)]"
   ]
  },
  {
   "cell_type": "code",
   "execution_count": 676,
   "id": "39b74036-7f21-40fb-b7cf-a8da5e809baa",
   "metadata": {},
   "outputs": [
    {
     "data": {
      "text/plain": [
       "array([[994. , 679. ],\n",
       "       [995. , 678. ],\n",
       "       [996. , 678. ],\n",
       "       [997. , 677. ],\n",
       "       [998. , 677. ],\n",
       "       [998. , 676. ],\n",
       "       [999. , 675. ],\n",
       "       [998. , 674. ],\n",
       "       [998. , 673. ],\n",
       "       [996.5, 671.5],\n",
       "       [996. , 672. ],\n",
       "       [995. , 672. ],\n",
       "       [993. , 674. ],\n",
       "       [993. , 675. ],\n",
       "       [992. , 676. ],\n",
       "       [992. , 679. ],\n",
       "       [994. , 679. ]])"
      ]
     },
     "execution_count": 676,
     "metadata": {},
     "output_type": "execute_result"
    }
   ],
   "source": [
    "np.array(intersections[(3, 7)].exterior.coords)"
   ]
  },
  {
   "cell_type": "code",
   "execution_count": 670,
   "id": "dcd07fd0-d5c5-4f29-9274-d82cbf26f257",
   "metadata": {},
   "outputs": [
    {
     "data": {
      "image/svg+xml": [
       "<svg xmlns=\"http://www.w3.org/2000/svg\" xmlns:xlink=\"http://www.w3.org/1999/xlink\" width=\"100.0\" height=\"100.0\" viewBox=\"988.2074935400517 666.9542635658914 15.200000000000045 16.200000000000045\" preserveAspectRatio=\"xMinYMin meet\"><g transform=\"matrix(1,0,0,-1,0,1350.108527131783)\"><path fill-rule=\"evenodd\" fill=\"#66cc99\" stroke=\"#555555\" stroke-width=\"0.3240000000000009\" opacity=\"0.6\" d=\"M 992.8074935400517,682.5542635658915 L 994.8074935400517,680.5542635658915 L 996.8074935400517,680.5542635658915 L 998.8074935400517,678.5542635658915 L 1000.8074935400517,678.5542635658915 L 1000.8074935400517,676.5542635658915 L 1002.8074935400517,674.5542635658915 L 1000.8074935400517,672.5542635658915 L 1000.8074935400517,670.5542635658915 L 997.8074935400517,667.5542635658915 L 996.8074935400517,668.5542635658915 L 994.8074935400517,668.5542635658915 L 990.8074935400517,672.5542635658915 L 990.8074935400517,674.5542635658915 L 988.8074935400517,676.5542635658915 L 988.8074935400517,682.5542635658915 L 992.8074935400517,682.5542635658915 z\" /></g></svg>"
      ],
      "text/plain": [
       "<shapely.geometry.polygon.Polygon at 0x1c54b5d80>"
      ]
     },
     "execution_count": 670,
     "metadata": {},
     "output_type": "execute_result"
    }
   ],
   "source": [
    "shapely.affinity.scale(intersections[(3, 7)], 2, 2, origin=\"centroid\")"
   ]
  },
  {
   "cell_type": "code",
   "execution_count": 206,
   "id": "ac966da0-3e5d-4079-a834-dc3571a82c2e",
   "metadata": {},
   "outputs": [],
   "source": [
    "x = shapely.affinity.scale(intersections[(3, 7)], 2, 2, origin=\"centroid\")"
   ]
  },
  {
   "cell_type": "code",
   "execution_count": 207,
   "id": "adacb4cb-dba8-461c-89ca-54c1e0058834",
   "metadata": {},
   "outputs": [
    {
     "data": {
      "text/plain": [
       "128.0"
      ]
     },
     "execution_count": 207,
     "metadata": {},
     "output_type": "execute_result"
    }
   ],
   "source": [
    "x.area"
   ]
  },
  {
   "cell_type": "code",
   "execution_count": 208,
   "id": "609bd168-5ed0-4851-baee-a6e9d96d5650",
   "metadata": {},
   "outputs": [
    {
     "data": {
      "text/plain": [
       "32.0"
      ]
     },
     "execution_count": 208,
     "metadata": {},
     "output_type": "execute_result"
    }
   ],
   "source": [
    "intersections[(3, 7)].area"
   ]
  },
  {
   "cell_type": "code",
   "execution_count": 163,
   "id": "996c18b5-c013-4c08-8d02-528165b2cb35",
   "metadata": {},
   "outputs": [
    {
     "data": {
      "text/plain": [
       "(670.0, 991.5, 679.0, 998.5)"
      ]
     },
     "execution_count": 163,
     "metadata": {},
     "output_type": "execute_result"
    }
   ],
   "source": [
    "intersections[(3, 7)].bounds"
   ]
  },
  {
   "cell_type": "code",
   "execution_count": 118,
   "id": "90476299-713b-496a-a1aa-48636786e17a",
   "metadata": {},
   "outputs": [
    {
     "data": {
      "image/svg+xml": [
       "<svg xmlns=\"http://www.w3.org/2000/svg\" xmlns:xlink=\"http://www.w3.org/1999/xlink\" width=\"100.0\" height=\"100.0\" viewBox=\"671.823492063492 991.6965079365079 6.480000000000018 6.480000000000018\" preserveAspectRatio=\"xMinYMin meet\"><g transform=\"matrix(1,0,0,-1,0,1989.873015873016)\"><polyline fill=\"none\" stroke=\"#66cc99\" stroke-width=\"0.12960000000000035\" points=\"673.063492063492,997.936507936508 678.063492063492,992.936507936508 677.063492063492,991.936507936508 672.063492063492,996.936507936508 672.063492063492,997.936507936508 673.063492063492,997.936507936508\" opacity=\"0.8\" /></g></svg>"
      ],
      "text/plain": [
       "<shapely.geometry.polygon.LinearRing at 0x1b8333850>"
      ]
     },
     "execution_count": 118,
     "metadata": {},
     "output_type": "execute_result"
    }
   ],
   "source": [
    "x.exterior"
   ]
  },
  {
   "cell_type": "code",
   "execution_count": 74,
   "id": "462ed039-8e2a-49a5-a942-7bea7d2654b3",
   "metadata": {},
   "outputs": [
    {
     "data": {
      "text/plain": [
       "9504"
      ]
     },
     "execution_count": 74,
     "metadata": {},
     "output_type": "execute_result"
    }
   ],
   "source": [
    "len(intersections)"
   ]
  },
  {
   "cell_type": "code",
   "execution_count": 127,
   "id": "4f2136f8-c23a-4985-93fc-0f82b1736174",
   "metadata": {},
   "outputs": [
    {
     "data": {
      "text/plain": [
       "(672.063492063492, 991.936507936508, 678.063492063492, 997.936507936508)"
      ]
     },
     "execution_count": 127,
     "metadata": {},
     "output_type": "execute_result"
    }
   ],
   "source": [
    "x.bounds"
   ]
  },
  {
   "cell_type": "code",
   "execution_count": 21,
   "id": "a2ef2773-7271-45dc-9b0f-65dfc4543455",
   "metadata": {},
   "outputs": [],
   "source": [
    "import rasterio.features"
   ]
  },
  {
   "cell_type": "code",
   "execution_count": 22,
   "id": "b909848c-9d22-4355-81da-f2b16efc94f5",
   "metadata": {},
   "outputs": [],
   "source": [
    "def shape_to_mask(shape, pad=0):\n",
    "    bounds = np.array(shape.bounds) # + np.array([-0.5, -0.5, 0.5, 0.5])\n",
    "    # print(f\"raw bounds {bounds}\")\n",
    "    frac = np.modf(bounds)[0]\n",
    "    ends_half = np.isclose(frac, 0.5)\n",
    "    if not ends_half[0]:\n",
    "        bounds[0] -= 0.5\n",
    "    if not ends_half[1]:\n",
    "        bounds[1] -= 0.5\n",
    "    if not ends_half[2]:\n",
    "        bounds[2] += 0.5\n",
    "    if not ends_half[3]:\n",
    "        bounds[3] += 0.5\n",
    "    # bounds = np.array([\n",
    "    #     np.floor(bounds[0] * 2) / 2,\n",
    "    #     np.floor(bounds[1] * 2) / 2,\n",
    "    #     np.ceil(bounds[2] * 2) / 2,\n",
    "    #     np.ceil(bounds[3] * 2) / 2,\n",
    "    # ])\n",
    "    # print(bounds)\n",
    "    if pad != 0:\n",
    "        bounds[0] -= pad\n",
    "        bounds[1] -= pad\n",
    "        bounds[2] += pad\n",
    "        bounds[3] += pad\n",
    "    # print(f\"bounds {bounds}\")\n",
    "    # mask_shape = np.rint([\n",
    "    #     bounds[3] - bounds[1],\n",
    "    #     bounds[2] - bounds[0]\n",
    "    # ]).astype(int)\n",
    "    mask_shape = np.array([\n",
    "        bounds[3] - bounds[1],\n",
    "        bounds[2] - bounds[0]\n",
    "    ]).astype(int)\n",
    "    # print(f\"mask shape {mask_shape}\")\n",
    "    shape_trans = shapely.affinity.translate(shape, -bounds[0], -bounds[1])\n",
    "    # print(f\"trans bounds {shape_trans.bounds}\")\n",
    "    mask = rasterio.features.rasterize(\n",
    "        [shape_trans],\n",
    "        out_shape=mask_shape,\n",
    "        fill=0, all_touched=True\n",
    "    )\n",
    "    # print(f\"final mask shape {mask.shape}\")\n",
    "    return mask\n",
    "\n",
    "def plot_reconstruction(shape, pad=0, original=None):\n",
    "    mask = shape_to_mask(shape, pad)\n",
    "    c = np.array(\n",
    "        shapely.affinity.translate(\n",
    "            shape,\n",
    "            -shape.bounds[0],\n",
    "            -shape.bounds[1]\n",
    "        ).exterior.coords\n",
    "    ) + pad\n",
    "    print(f\"coords x {c[:, 0].min()} {c[:, 0].max()} y {c[:, 1].min()} {c[:, 1].max()}\")\n",
    "    if original is None:\n",
    "        plt.imshow(mask)\n",
    "    else:\n",
    "        plt.imshow(rg(\n",
    "            original,\n",
    "            mask.astype(bool)\n",
    "        ))\n",
    "    plt.plot(\n",
    "        c[:, 0], c[:, 1]\n",
    "    )\n",
    "    plt.scatter(c[:, 0].max(), c[:, 1].max())\n",
    "    # return c"
   ]
  },
  {
   "cell_type": "code",
   "execution_count": 23,
   "id": "6cd7da1a-b5a3-4567-860a-c18f8d3dec3f",
   "metadata": {},
   "outputs": [
    {
     "ename": "NameError",
     "evalue": "name 'y_shape' is not defined",
     "output_type": "error",
     "traceback": [
      "\u001b[0;31m---------------------------------------------------------------------------\u001b[0m",
      "\u001b[0;31mNameError\u001b[0m                                 Traceback (most recent call last)",
      "Input \u001b[0;32mIn [23]\u001b[0m, in \u001b[0;36m<cell line: 1>\u001b[0;34m()\u001b[0m\n\u001b[0;32m----> 1\u001b[0m plot_reconstruction(\u001b[43my_shape\u001b[49m, pad\u001b[38;5;241m=\u001b[39m\u001b[38;5;241m0\u001b[39m)\n",
      "\u001b[0;31mNameError\u001b[0m: name 'y_shape' is not defined"
     ]
    }
   ],
   "source": [
    "plot_reconstruction(y_shape, pad=0)"
   ]
  },
  {
   "cell_type": "code",
   "execution_count": 754,
   "id": "445ad23f-fb4a-4861-9c47-6fffbb9ad961",
   "metadata": {},
   "outputs": [
    {
     "data": {
      "text/plain": [
       "<matplotlib.image.AxesImage at 0x1ec158850>"
      ]
     },
     "execution_count": 754,
     "metadata": {},
     "output_type": "execute_result"
    },
    {
     "data": {
      "image/png": "[encoded data removed]",
      "text/plain": [
       "<Figure size 432x288 with 1 Axes>"
      ]
     },
     "metadata": {
      "needs_background": "light"
     },
     "output_type": "display_data"
    }
   ],
   "source": [
    "plt.imshow(y)"
   ]
  },
  {
   "cell_type": "code",
   "execution_count": 739,
   "id": "1b949872-b2c5-4a55-8bee-20fa89b08274",
   "metadata": {},
   "outputs": [
    {
     "name": "stdout",
     "output_type": "stream",
     "text": [
      "[ 666.5  991.5  687.5 1007.5]\n"
     ]
    },
    {
     "data": {
      "text/plain": [
       "(18, 23)"
      ]
     },
     "execution_count": 739,
     "metadata": {},
     "output_type": "execute_result"
    }
   ],
   "source": [
    "shape_to_mask(y_shape, 1).shape"
   ]
  },
  {
   "cell_type": "code",
   "execution_count": 740,
   "id": "29c02798-8d5d-43db-8a2e-772e5edbdbe1",
   "metadata": {},
   "outputs": [
    {
     "data": {
      "text/plain": [
       "(18, 23)"
      ]
     },
     "execution_count": 740,
     "metadata": {},
     "output_type": "execute_result"
    }
   ],
   "source": [
    "y.shape"
   ]
  },
  {
   "cell_type": "code",
   "execution_count": 793,
   "id": "4574875c-c05f-4ade-891b-ce0e1196ea92",
   "metadata": {},
   "outputs": [
    {
     "name": "stdout",
     "output_type": "stream",
     "text": [
      "raw bounds [ 667.  992.  687. 1007.]\n",
      "bounds [ 665.5  990.5  688.5 1008.5]\n",
      "mask shape [18 23]\n",
      "trans bounds (1.5, 1.5, 21.5, 16.5)\n",
      "final mask shape (18, 23)\n"
     ]
    },
    {
     "data": {
      "text/plain": [
       "<matplotlib.image.AxesImage at 0x1ecdb9090>"
      ]
     },
     "execution_count": 793,
     "metadata": {},
     "output_type": "execute_result"
    },
    {
     "data": {
      "image/png": "[encoded data removed]",
      "text/plain": [
       "<Figure size 432x288 with 1 Axes>"
      ]
     },
     "metadata": {
      "needs_background": "light"
     },
     "output_type": "display_data"
    }
   ],
   "source": [
    "plt.imshow(rg(\n",
    "    y,\n",
    "    shape_to_mask(y_shape, 1).astype(bool)\n",
    "))"
   ]
  },
  {
   "cell_type": "code",
   "execution_count": null,
   "id": "538c1a14-7cbb-4a9e-bfe1-ced04dcc065f",
   "metadata": {},
   "outputs": [],
   "source": [
    "rasterio.features.rasterize(\n",
    "        [shape_trans],\n",
    "        out_shape=mask_shape,\n",
    "        fill=0, all_touched=False\n",
    "    )"
   ]
  },
  {
   "cell_type": "code",
   "execution_count": 483,
   "id": "ec4d80ab-50c4-465c-9595-2d01db20fb33",
   "metadata": {
    "tags": []
   },
   "outputs": [
    {
     "data": {
      "text/plain": [
       "{}"
      ]
     },
     "execution_count": 483,
     "metadata": {},
     "output_type": "execute_result"
    }
   ],
   "source": [
    "intersections"
   ]
  },
  {
   "cell_type": "code",
   "execution_count": 663,
   "id": "f1c04b5e-1253-4396-b754-8b9e023ed1e1",
   "metadata": {},
   "outputs": [
    {
     "ename": "AttributeError",
     "evalue": "'MultiPolygon' object has no attribute 'exterior'",
     "output_type": "error",
     "traceback": [
      "\u001b[0;31m---------------------------------------------------------------------------\u001b[0m",
      "\u001b[0;31mAttributeError\u001b[0m                            Traceback (most recent call last)",
      "Input \u001b[0;32mIn [663]\u001b[0m, in \u001b[0;36m<cell line: 1>\u001b[0;34m()\u001b[0m\n\u001b[0;32m----> 1\u001b[0m \u001b[43mplot_reconstruction\u001b[49m\u001b[43m(\u001b[49m\u001b[43mintersections\u001b[49m\u001b[43m[\u001b[49m\u001b[43m(\u001b[49m\u001b[38;5;241;43m18\u001b[39;49m\u001b[43m,\u001b[49m\u001b[43m \u001b[49m\u001b[38;5;241;43m19\u001b[39;49m\u001b[43m)\u001b[49m\u001b[43m]\u001b[49m\u001b[43m,\u001b[49m\u001b[43m \u001b[49m\u001b[38;5;241;43m0\u001b[39;49m\u001b[43m)\u001b[49m\n",
      "Input \u001b[0;32mIn [588]\u001b[0m, in \u001b[0;36mplot_reconstruction\u001b[0;34m(shape, pad, original)\u001b[0m\n\u001b[1;32m     24\u001b[0m \u001b[38;5;28;01mdef\u001b[39;00m \u001b[38;5;21mplot_reconstruction\u001b[39m(shape, pad\u001b[38;5;241m=\u001b[39m\u001b[38;5;241m0\u001b[39m, original\u001b[38;5;241m=\u001b[39m\u001b[38;5;28;01mNone\u001b[39;00m):\n\u001b[1;32m     25\u001b[0m     mask \u001b[38;5;241m=\u001b[39m shape_to_mask(shape, pad)\n\u001b[1;32m     26\u001b[0m     c \u001b[38;5;241m=\u001b[39m np\u001b[38;5;241m.\u001b[39marray(\n\u001b[1;32m     27\u001b[0m         \u001b[43mshapely\u001b[49m\u001b[38;5;241;43m.\u001b[39;49m\u001b[43maffinity\u001b[49m\u001b[38;5;241;43m.\u001b[39;49m\u001b[43mtranslate\u001b[49m\u001b[43m(\u001b[49m\n\u001b[1;32m     28\u001b[0m \u001b[43m            \u001b[49m\u001b[43mshape\u001b[49m\u001b[43m,\u001b[49m\n\u001b[1;32m     29\u001b[0m \u001b[43m            \u001b[49m\u001b[38;5;241;43m-\u001b[39;49m\u001b[43mshape\u001b[49m\u001b[38;5;241;43m.\u001b[39;49m\u001b[43mbounds\u001b[49m\u001b[43m[\u001b[49m\u001b[38;5;241;43m0\u001b[39;49m\u001b[43m]\u001b[49m\u001b[43m,\u001b[49m\n\u001b[1;32m     30\u001b[0m \u001b[43m            \u001b[49m\u001b[38;5;241;43m-\u001b[39;49m\u001b[43mshape\u001b[49m\u001b[38;5;241;43m.\u001b[39;49m\u001b[43mbounds\u001b[49m\u001b[43m[\u001b[49m\u001b[38;5;241;43m1\u001b[39;49m\u001b[43m]\u001b[49m\n\u001b[0;32m---> 31\u001b[0m \u001b[43m        \u001b[49m\u001b[43m)\u001b[49m\u001b[38;5;241;43m.\u001b[39;49m\u001b[43mexterior\u001b[49m\u001b[38;5;241m.\u001b[39mcoords\n\u001b[1;32m     32\u001b[0m     ) \u001b[38;5;241m-\u001b[39m \u001b[38;5;241m0.5\u001b[39m \u001b[38;5;241m+\u001b[39m pad\n\u001b[1;32m     33\u001b[0m     \u001b[38;5;66;03m# print(f\"coords x {c[:, 0].min()} {c[:, 0].max()} y {c[:, 1].min()} {c[:, 1].max()}\")\u001b[39;00m\n\u001b[1;32m     34\u001b[0m     \u001b[38;5;28;01mif\u001b[39;00m original \u001b[38;5;129;01mis\u001b[39;00m \u001b[38;5;28;01mNone\u001b[39;00m:\n",
      "\u001b[0;31mAttributeError\u001b[0m: 'MultiPolygon' object has no attribute 'exterior'"
     ]
    }
   ],
   "source": [
    "plot_reconstruction(intersections[(18, 19)], 0)"
   ]
  },
  {
   "cell_type": "code",
   "execution_count": 714,
   "id": "4d2ec2a7-a330-4a44-88ab-9baf0a44daac",
   "metadata": {},
   "outputs": [
    {
     "data": {
      "image/png": "[encoded data removed]",
      "text/plain": [
       "<Figure size 432x288 with 1 Axes>"
      ]
     },
     "metadata": {
      "needs_background": "light"
     },
     "output_type": "display_data"
    }
   ],
   "source": [
    "plot_reconstruction(intersections[(46, 57)], 1)"
   ]
  },
  {
   "cell_type": "code",
   "execution_count": 715,
   "id": "e10115c1-728a-4d43-b804-f5fd2a9f3c3a",
   "metadata": {},
   "outputs": [
    {
     "ename": "AssertionError",
     "evalue": "",
     "output_type": "error",
     "traceback": [
      "\u001b[0;31m---------------------------------------------------------------------------\u001b[0m",
      "\u001b[0;31mAssertionError\u001b[0m                            Traceback (most recent call last)",
      "Input \u001b[0;32mIn [715]\u001b[0m, in \u001b[0;36m<cell line: 1>\u001b[0;34m()\u001b[0m\n\u001b[0;32m----> 1\u001b[0m \u001b[43mplot_reconstruction\u001b[49m\u001b[43m(\u001b[49m\u001b[43my_shape\u001b[49m\u001b[43m,\u001b[49m\u001b[43m \u001b[49m\u001b[38;5;241;43m0\u001b[39;49m\u001b[43m,\u001b[49m\u001b[43m \u001b[49m\u001b[43my\u001b[49m\u001b[43m[\u001b[49m\u001b[38;5;241;43m1\u001b[39;49m\u001b[43m:\u001b[49m\u001b[38;5;241;43m-\u001b[39;49m\u001b[38;5;241;43m1\u001b[39;49m\u001b[43m,\u001b[49m\u001b[43m \u001b[49m\u001b[38;5;241;43m1\u001b[39;49m\u001b[43m:\u001b[49m\u001b[38;5;241;43m-\u001b[39;49m\u001b[38;5;241;43m1\u001b[39;49m\u001b[43m]\u001b[49m\u001b[43m)\u001b[49m\n",
      "Input \u001b[0;32mIn [712]\u001b[0m, in \u001b[0;36mplot_reconstruction\u001b[0;34m(shape, pad, original)\u001b[0m\n\u001b[1;32m     35\u001b[0m     plt\u001b[38;5;241m.\u001b[39mimshow(mask)\n\u001b[1;32m     36\u001b[0m \u001b[38;5;28;01melse\u001b[39;00m:\n\u001b[0;32m---> 37\u001b[0m     plt\u001b[38;5;241m.\u001b[39mimshow(\u001b[43mrg\u001b[49m\u001b[43m(\u001b[49m\n\u001b[1;32m     38\u001b[0m \u001b[43m        \u001b[49m\u001b[43moriginal\u001b[49m\u001b[43m,\u001b[49m\n\u001b[1;32m     39\u001b[0m \u001b[43m        \u001b[49m\u001b[43mmask\u001b[49m\u001b[38;5;241;43m.\u001b[39;49m\u001b[43mastype\u001b[49m\u001b[43m(\u001b[49m\u001b[38;5;28;43mbool\u001b[39;49m\u001b[43m)\u001b[49m\n\u001b[1;32m     40\u001b[0m \u001b[43m    \u001b[49m\u001b[43m)\u001b[49m)\n\u001b[1;32m     41\u001b[0m plt\u001b[38;5;241m.\u001b[39mplot(\n\u001b[1;32m     42\u001b[0m     c[:, \u001b[38;5;241m0\u001b[39m], c[:, \u001b[38;5;241m1\u001b[39m]\n\u001b[1;32m     43\u001b[0m )\n\u001b[1;32m     44\u001b[0m plt\u001b[38;5;241m.\u001b[39mscatter(c[:, \u001b[38;5;241m0\u001b[39m]\u001b[38;5;241m.\u001b[39mmax(), c[:, \u001b[38;5;241m1\u001b[39m]\u001b[38;5;241m.\u001b[39mmax())\n",
      "Input \u001b[0;32mIn [347]\u001b[0m, in \u001b[0;36mrg\u001b[0;34m(img1, img2)\u001b[0m\n\u001b[1;32m      1\u001b[0m \u001b[38;5;28;01mdef\u001b[39;00m \u001b[38;5;21mrg\u001b[39m(img1, img2):\n\u001b[0;32m----> 2\u001b[0m     \u001b[38;5;28;01massert\u001b[39;00m img1\u001b[38;5;241m.\u001b[39mshape \u001b[38;5;241m==\u001b[39m img2\u001b[38;5;241m.\u001b[39mshape\n\u001b[1;32m      3\u001b[0m     out \u001b[38;5;241m=\u001b[39m np\u001b[38;5;241m.\u001b[39mempty(img1\u001b[38;5;241m.\u001b[39mshape \u001b[38;5;241m+\u001b[39m (\u001b[38;5;241m3\u001b[39m,), dtype\u001b[38;5;241m=\u001b[39mnp\u001b[38;5;241m.\u001b[39mfloat32)\n\u001b[1;32m      4\u001b[0m     out[\u001b[38;5;241m.\u001b[39m\u001b[38;5;241m.\u001b[39m\u001b[38;5;241m.\u001b[39m,\u001b[38;5;241m0\u001b[39m] \u001b[38;5;241m=\u001b[39m skimage\u001b[38;5;241m.\u001b[39mutil\u001b[38;5;241m.\u001b[39mimg_as_float32(img1)\n",
      "\u001b[0;31mAssertionError\u001b[0m: "
     ]
    }
   ],
   "source": [
    "plot_reconstruction(y_shape, 0, y[1:-1, 1:-1])"
   ]
  },
  {
   "cell_type": "code",
   "execution_count": 719,
   "id": "5765d525-b883-42db-9db7-85506640ffa4",
   "metadata": {},
   "outputs": [
    {
     "data": {
      "text/plain": [
       "<matplotlib.image.AxesImage at 0x1d37bbfd0>"
      ]
     },
     "execution_count": 719,
     "metadata": {},
     "output_type": "execute_result"
    },
    {
     "data": {
      "image/png": "[encoded data removed]",
      "text/plain": [
       "<Figure size 432x288 with 1 Axes>"
      ]
     },
     "metadata": {
      "needs_background": "light"
     },
     "output_type": "display_data"
    }
   ],
   "source": [
    "plt.imshow(shape_to_mask(y_shape, 1))"
   ]
  },
  {
   "cell_type": "code",
   "execution_count": 488,
   "id": "d84e5e59-cf83-4159-a55f-5096c64b31a0",
   "metadata": {},
   "outputs": [
    {
     "data": {
      "text/plain": [
       "[<matplotlib.lines.Line2D at 0x1c595dea0>]"
      ]
     },
     "execution_count": 488,
     "metadata": {},
     "output_type": "execute_result"
    },
    {
     "data": {
      "image/png": "[encoded data removed]",
      "text/plain": [
       "<Figure size 432x288 with 1 Axes>"
      ]
     },
     "metadata": {
      "needs_background": "light"
     },
     "output_type": "display_data"
    }
   ],
   "source": [
    "plt.imshow(shape_to_mask(y_shape, 0))\n",
    "c = np.array(\n",
    "    shapely.affinity.translate(\n",
    "        y_shape,\n",
    "        -y_shape.bounds[0],\n",
    "        -y_shape.bounds[1]\n",
    "    ).exterior.coords\n",
    ")\n",
    "plt.plot(\n",
    "    c[:, 0] - 0.5, c[:, 1] - 0.5\n",
    ")"
   ]
  },
  {
   "cell_type": "code",
   "execution_count": null,
   "id": "e18c1ed5-9492-409f-8952-1a6c2bd0be8f",
   "metadata": {},
   "outputs": [
    {
     "data": {
      "text/plain": [
       "<matplotlib.image.AxesImage at 0x1c69a8250>"
      ]
     },
     "execution_count": 473,
     "metadata": {},
     "output_type": "execute_result"
    },
    {
     "data": {
      "image/png": "[encoded data removed]",
      "text/plain": [
       "<Figure size 432x288 with 1 Axes>"
      ]
     },
     "metadata": {
      "needs_background": "light"
     },
     "output_type": "display_data"
    }
   ],
   "source": [
    "plt.imshow(\n",
    "    rg(\n",
    "        shape_to_mask(y_shape, 1).astype(bool),\n",
    "        y\n",
    "    )\n",
    ")"
   ]
  },
  {
   "cell_type": "code",
   "execution_count": 485,
   "id": "58a892cd-d9af-4c5d-9bf1-6986ca5c891c",
   "metadata": {},
   "outputs": [
    {
     "data": {
      "image/svg+xml": [
       "<svg xmlns=\"http://www.w3.org/2000/svg\" xmlns:xlink=\"http://www.w3.org/1999/xlink\" width=\"100.0\" height=\"100.0\" viewBox=\"990.66 665.66 22.680000000000064 17.680000000000064\" preserveAspectRatio=\"xMinYMin meet\"><g transform=\"matrix(1,0,0,-1,0,1349.0)\"><path fill-rule=\"evenodd\" fill=\"#66cc99\" stroke=\"#555555\" stroke-width=\"0.4536000000000013\" opacity=\"0.6\" d=\"M 1005.0,682.5 L 1004.5,682.0 L 1004.0,681.5 L 1003.0,681.5 L 1002.0,681.5 L 1001.5,681.0 L 1001.0,680.5 L 1000.0,680.5 L 999.5,681.0 L 999.0,681.5 L 998.5,681.0 L 998.0,680.5 L 997.0,680.5 L 996.5,680.0 L 996.0,679.5 L 995.0,679.5 L 994.5,679.0 L 994.0,678.5 L 993.0,678.5 L 992.5,678.0 L 992.5,677.0 L 992.0,676.5 L 991.5,676.0 L 992.0,675.5 L 992.5,675.0 L 992.5,674.0 L 993.0,673.5 L 993.5,673.0 L 994.0,672.5 L 995.0,672.5 L 995.5,672.0 L 996.0,671.5 L 996.5,671.0 L 996.5,670.0 L 997.0,669.5 L 997.5,669.0 L 998.0,668.5 L 998.5,668.0 L 999.0,667.5 L 1000.0,667.5 L 1000.5,667.0 L 1001.0,666.5 L 1002.0,666.5 L 1003.0,666.5 L 1004.0,666.5 L 1005.0,666.5 L 1006.0,666.5 L 1006.5,667.0 L 1007.0,667.5 L 1008.0,667.5 L 1008.5,668.0 L 1009.0,668.5 L 1009.5,669.0 L 1010.0,669.5 L 1010.5,670.0 L 1011.0,670.5 L 1011.5,671.0 L 1011.5,672.0 L 1012.0,672.5 L 1012.5,673.0 L 1012.5,674.0 L 1012.5,675.0 L 1012.5,676.0 L 1012.0,676.5 L 1011.5,677.0 L 1011.5,678.0 L 1011.0,678.5 L 1010.5,679.0 L 1010.0,679.5 L 1009.5,680.0 L 1009.0,680.5 L 1008.0,680.5 L 1007.5,681.0 L 1007.0,681.5 L 1006.0,681.5 L 1005.5,682.0 L 1005.0,682.5 z\" /></g></svg>"
      ],
      "text/plain": [
       "<shapely.geometry.polygon.Polygon at 0x1c0547d00>"
      ]
     },
     "execution_count": 485,
     "metadata": {},
     "output_type": "execute_result"
    }
   ],
   "source": [
    "y_shape."
   ]
  },
  {
   "cell_type": "code",
   "execution_count": 490,
   "id": "9f92b291-b45f-4ce0-875c-cf63f5ef4c71",
   "metadata": {},
   "outputs": [
    {
     "data": {
      "text/plain": [
       "[<matplotlib.lines.Line2D at 0x1c92611e0>]"
      ]
     },
     "execution_count": 490,
     "metadata": {},
     "output_type": "execute_result"
    },
    {
     "data": {
      "image/png": "[encoded data removed]",
      "text/plain": [
       "<Figure size 432x288 with 1 Axes>"
      ]
     },
     "metadata": {
      "needs_background": "light"
     },
     "output_type": "display_data"
    }
   ],
   "source": [
    "plt.imshow(shape_to_mask(intersections[(3, 7)], 0))\n",
    "c = np.array(\n",
    "    shapely.affinity.translate(\n",
    "        intersections[(3, 7)],\n",
    "        -intersections[(3, 7)].bounds[0],\n",
    "        -intersections[(3, 7)].bounds[1]\n",
    "    ).exterior.coords\n",
    ")\n",
    "plt.plot(\n",
    "    c[:, 0], c[:, 1]\n",
    ")"
   ]
  },
  {
   "cell_type": "code",
   "execution_count": 481,
   "id": "f8b9b6b1-8f15-4350-8b16-afb707b25d85",
   "metadata": {},
   "outputs": [
    {
     "data": {
      "image/svg+xml": [
       "<svg xmlns=\"http://www.w3.org/2000/svg\" xmlns:xlink=\"http://www.w3.org/1999/xlink\" width=\"100.0\" height=\"100.0\" viewBox=\"991.14 669.64 7.720000000000027 9.720000000000027\" preserveAspectRatio=\"xMinYMin meet\"><g transform=\"matrix(1,0,0,-1,0,1349.0)\"><path fill-rule=\"evenodd\" fill=\"#66cc99\" stroke=\"#555555\" stroke-width=\"0.19440000000000054\" opacity=\"0.6\" d=\"M 997.5,676.0 L 997.5,675.0 L 998.5,674.0 L 998.5,673.0 L 997.5,672.0 L 997.5,671.0 L 996.5,670.0 L 996.5,671.0 L 995.0,672.5 L 994.0,672.5 L 992.5,674.0 L 992.5,675.0 L 991.5,676.0 L 992.5,677.0 L 992.5,678.0 L 993.0,678.5 L 994.0,678.5 L 994.5,679.0 L 997.5,676.0 z\" /></g></svg>"
      ],
      "text/plain": [
       "<shapely.geometry.polygon.Polygon at 0x1de2abc70>"
      ]
     },
     "execution_count": 481,
     "metadata": {},
     "output_type": "execute_result"
    }
   ],
   "source": [
    "intersections[(3, 7)]"
   ]
  },
  {
   "cell_type": "code",
   "execution_count": 24,
   "id": "0943dc60-bdaf-4cf7-819c-a8f5c443199d",
   "metadata": {},
   "outputs": [],
   "source": [
    "from collections import defaultdict\n",
    "from itertools import pairwise"
   ]
  },
  {
   "cell_type": "code",
   "execution_count": null,
   "id": "298f5be0-6c36-4a4c-823e-cae2f9e55069",
   "metadata": {},
   "outputs": [],
   "source": []
  },
  {
   "cell_type": "code",
   "execution_count": 383,
   "id": "3bf8be5c-d6b2-474e-9813-c36d0e271327",
   "metadata": {},
   "outputs": [],
   "source": [
    "def place_mask(mask_slice, target_slice, mask):\n",
    "    # print(f\"mask slice {mask_slice} target_slice {target_slice} mask shape {mask.shape}\")\n",
    "    target_shape = (target_slice[2] - target_slice[0], target_slice[3] - target_slice[1])\n",
    "    # print(f\"target_shape {target_shape}\")\n",
    "    x = np.zeros(target_shape, dtype=mask.dtype)\n",
    "    place_slice = np.array([\n",
    "        mask_slice[0] - target_slice[0],\n",
    "        mask_slice[1] - target_slice[1],\n",
    "        mask_slice[2] - target_slice[0],\n",
    "        mask_slice[3] - target_slice[1]\n",
    "    ])\n",
    "    # print(f\"place_slice {place_slice}\")\n",
    "    x[place_slice[0]:place_slice[2], place_slice[1]:place_slice[3]] = mask\n",
    "    return x\n",
    "\n",
    "\n",
    "class IntersectionProfiler:\n",
    "    def __init__(self, label_image, intensity_image, extra_properties=None):\n",
    "        # Copy because we will keep modifying it\n",
    "        self.label_image = label_image\n",
    "        self.intensity_image = intensity_image\n",
    "        self.objects = ndimage.find_objects(label_image)\n",
    "        self.extra_properties = extra_properties\n",
    "        self._footprints = {}\n",
    "\n",
    "    def get_footprint(self, radius):\n",
    "        try:\n",
    "            return self._footprints[radius]\n",
    "        except KeyError:\n",
    "            self._footprints[radius] = morphology.disk(radius)\n",
    "            return self._footprints[radius]\n",
    "\n",
    "    def get_expanded_cell_mask(self, x, radius, crop_slice=None):\n",
    "        label = x + 1\n",
    "        if crop_slice is None:\n",
    "            sl = self.objects[x]\n",
    "            crop_slice = tuple(\n",
    "                slice(\n",
    "                    max(0, x.start - radius - 1),\n",
    "                    min(self.label_image.shape[i], x.stop + radius + 1)\n",
    "                ) for i, x in enumerate(sl)\n",
    "            )\n",
    "        # print(crop_slice)\n",
    "        crop = self.label_image[crop_slice[0]:crop_slice[2], crop_slice[1]:crop_slice[3]] == label\n",
    "        # print(crop.shape)\n",
    "        crop = morphology.binary_dilation(\n",
    "            crop, footprint=self.get_footprint(radius)\n",
    "        )\n",
    "        return crop_slice, crop\n",
    "\n",
    "    def get_profile(self, ids, max_radius):\n",
    "        sl1, sl2 = self.objects[ids[0]], self.objects[ids[1]]\n",
    "        target_slice = np.array([\n",
    "            min(sl1[0].start, sl2[0].start) - max_radius,\n",
    "            min(sl1[1].start, sl2[1].start) - max_radius,\n",
    "            max(sl1[0].stop, sl2[0].stop) + max_radius,\n",
    "            max(sl1[1].stop, sl2[1].stop) + max_radius\n",
    "        ])\n",
    "        cell_masks = defaultdict(list)\n",
    "        for i in range(2):\n",
    "            for j in range(0, max_radius + 1):\n",
    "                mask = self.get_expanded_cell_mask(ids[i], radius=j, crop_slice=target_slice)[1]\n",
    "                cell_masks[i].append(mask)\n",
    "        # print([c.shape for c in cell_masks[0]])\n",
    "        # origin_slices = (cell_masks[0][max_radius][0], cell_masks[1][max_radius][0])\n",
    "        # print(origin_slices)\n",
    "        # target_slice = np.concatenate([\n",
    "        #     np.minimum(origin_slices[0][:2], origin_slices[1][:2]),\n",
    "        #     np.maximum(origin_slices[0][2:], origin_slices[1][2:])\n",
    "        # ])\n",
    "        # print(target_slice)\n",
    "        # cell_masks_placed = {\n",
    "        #     i: [place_mask(origin_slices[i], target_slice, m[1]) for m in masks] for i, masks in cell_masks.items()\n",
    "        # }\n",
    "        annuli = defaultdict(list)\n",
    "        # annuli = {0: [cell_masks_placed[0]], 1: [cell_masks_placed[1]]}\n",
    "        for i, masks in cell_masks.items():\n",
    "            for m1, m2 in pairwise(reversed(masks)):\n",
    "                annuli[i].append(np.bitwise_and(m1, ~m2))\n",
    "        annuli[0].append(cell_masks[0][0])\n",
    "        annuli[0].reverse()\n",
    "        annuli[1].append(cell_masks[1][0])\n",
    "        annuli[1].reverse()\n",
    "        # print([x.shape for x in annuli[0]])\n",
    "        profile_masks = []\n",
    "        for i in reversed(range(2, max_radius + 1)):\n",
    "            profile_masks.append(np.bitwise_and(annuli[0][i], annuli[1][0]))\n",
    "        profile_masks.append(np.bitwise_and(annuli[0][1], annuli[1][1]))\n",
    "        for i in range(2, max_radius + 1):\n",
    "            profile_masks.append(np.bitwise_and(annuli[1][i], annuli[0][0]))\n",
    "        # for i, j in zip(\n",
    "        #     [0, 1] + list(range(1, max_radius + 1)),\n",
    "        #     reversed([0, 1] + list(range(1, max_radius + 1)))\n",
    "        # ):\n",
    "        #     # print(i, j)\n",
    "        #     profile_masks.append(np.bitwise_and(annuli[0][i], annuli[1][j]))\n",
    "        # for i, a in annuli.items():\n",
    "        #     for m in a:\n",
    "        #         print(m.shape, cell_masks_placed[i][0].shape)\n",
    "        #         profile_masks.append(np.bitwise_and(m, cell_masks_placed[1 - i][1]))\n",
    "        x = self.intensity_image[target_slice[0]:target_slice[2], target_slice[1]:target_slice[3], :]\n",
    "        # print(\n",
    "        #     x.shape\n",
    "        # )\n",
    "        # print([p.shape for p in profile_masks])\n",
    "        # print(\n",
    "        #     # x[profile_masks[0][:, :, np.newaxis]]\n",
    "        #     x[profile_masks[0], :]\n",
    "        # )\n",
    "        signal_means = np.stack([\n",
    "            np.mean(\n",
    "                # np.log2(\n",
    "                    self.intensity_image[target_slice[0]:target_slice[2], target_slice[1]:target_slice[3]][p, :],\n",
    "                # ),\n",
    "                axis=0\n",
    "            ) for p in profile_masks\n",
    "        ])\n",
    "        # signal_means = np.stack([\n",
    "        #     np.mean(\n",
    "        #         self.intensity_image[target_slice[0]:target_slice[2], target_slice[1]:target_slice[3]][p]\n",
    "        #     )\n",
    "        # ])\n",
    "        return annuli, profile_masks, signal_means"
   ]
  },
  {
   "cell_type": "code",
   "execution_count": 384,
   "id": "008292c0-f143-42e4-800a-762b5f4cf96d",
   "metadata": {},
   "outputs": [
    {
     "data": {
      "text/plain": [
       "(3139, 2511, 12)"
      ]
     },
     "execution_count": 384,
     "metadata": {},
     "output_type": "execute_result"
    }
   ],
   "source": [
    "np.moveaxis(im[...], 0, -1).shape"
   ]
  },
  {
   "cell_type": "code",
   "execution_count": 385,
   "id": "e017b503-460d-4944-987c-e30b65cd6355",
   "metadata": {
    "tags": []
   },
   "outputs": [],
   "source": [
    "intersection_profiler = IntersectionProfiler(\n",
    "    sm[...], np.moveaxis(im[...], 0, -1)\n",
    ")"
   ]
  },
  {
   "cell_type": "code",
   "execution_count": 365,
   "id": "7f28cd97-0441-40d4-a845-522feb0f6267",
   "metadata": {},
   "outputs": [],
   "source": [
    "annuli, pmasks, signal_means = intersection_profiler.get_profile((3, 7), intersections[(3, 7)], 3)"
   ]
  },
  {
   "cell_type": "code",
   "execution_count": 366,
   "id": "821405bb-fbd4-4e20-902f-072fb04635a0",
   "metadata": {},
   "outputs": [
    {
     "data": {
      "text/plain": [
       "array([[ 8385.        ,   955.5       ,   181.25      ,   975.        ,\n",
       "         4836.5       ,   787.        ,  1947.75      ,   369.5       ,\n",
       "         5906.25      ,   864.        ,   266.25      ,   904.        ],\n",
       "       [ 9416.5       ,   933.        ,   191.5       ,  1263.5       ,\n",
       "         6045.        ,   875.        ,  2403.        ,   413.        ,\n",
       "         6725.        ,   845.        ,   274.        ,   929.        ],\n",
       "       [ 9960.66666667,   903.33333333,   184.66666667,  1060.66666667,\n",
       "         6362.66666667,   800.66666667,  2076.66666667,   373.66666667,\n",
       "         7083.        ,   839.        ,   201.33333333,   896.        ],\n",
       "       [11618.        ,   967.33333333,   192.        ,   962.66666667,\n",
       "         7621.        ,   785.66666667,  1957.66666667,   396.33333333,\n",
       "         8258.33333333,   893.33333333,   259.33333333,   908.66666667],\n",
       "       [12096.16666667,   958.33333333,   174.83333333,   635.        ,\n",
       "         7841.        ,   675.5       ,  1391.5       ,   369.5       ,\n",
       "         8442.83333333,   818.66666667,   265.83333333,   873.66666667]])"
      ]
     },
     "execution_count": 366,
     "metadata": {},
     "output_type": "execute_result"
    }
   ],
   "source": [
    "signal_means"
   ]
  },
  {
   "cell_type": "code",
   "execution_count": 190,
   "id": "2b9374d7-c4d8-4cc2-b5d0-a8a4d0089ac2",
   "metadata": {},
   "outputs": [],
   "source": [
    "viewer = napari.view_image(\n",
    "    np.stack(annuli[0])\n",
    ")"
   ]
  },
  {
   "cell_type": "code",
   "execution_count": 191,
   "id": "111f86b6-c8ea-4a1e-ad7c-ec5f2ac23778",
   "metadata": {},
   "outputs": [
    {
     "data": {
      "text/plain": [
       "<Image layer 'Image [1]' at 0x194628850>"
      ]
     },
     "execution_count": 191,
     "metadata": {},
     "output_type": "execute_result"
    }
   ],
   "source": [
    "viewer.add_image(np.stack(annuli[1]))"
   ]
  },
  {
   "cell_type": "code",
   "execution_count": 316,
   "id": "114f7215-f50d-444d-9ad2-906f0f6b9dd4",
   "metadata": {},
   "outputs": [
    {
     "data": {
      "text/plain": [
       "<matplotlib.image.AxesImage at 0x1936c7760>"
      ]
     },
     "execution_count": 316,
     "metadata": {},
     "output_type": "execute_result"
    },
    {
     "data": {
      "image/png": "[encoded data removed]",
      "text/plain": [
       "<Figure size 432x288 with 1 Axes>"
      ]
     },
     "metadata": {
      "needs_background": "light"
     },
     "output_type": "display_data"
    }
   ],
   "source": [
    "plt.imshow(annuli[1][0])"
   ]
  },
  {
   "cell_type": "code",
   "execution_count": 317,
   "id": "d2c8ddfc-49bf-4562-82e3-264f3b3cddd9",
   "metadata": {},
   "outputs": [
    {
     "data": {
      "text/plain": [
       "<matplotlib.image.AxesImage at 0x1be1f56f0>"
      ]
     },
     "execution_count": 317,
     "metadata": {},
     "output_type": "execute_result"
    },
    {
     "data": {
      "image/png": "[encoded data removed]",
      "text/plain": [
       "<Figure size 432x288 with 1 Axes>"
      ]
     },
     "metadata": {
      "needs_background": "light"
     },
     "output_type": "display_data"
    }
   ],
   "source": [
    "plt.imshow(annuli[0][0])"
   ]
  },
  {
   "cell_type": "code",
   "execution_count": 318,
   "id": "09aa9f49-0a6c-41ea-9c7f-88f5957bf28e",
   "metadata": {},
   "outputs": [
    {
     "data": {
      "text/plain": [
       "<matplotlib.image.AxesImage at 0x1c30915a0>"
      ]
     },
     "execution_count": 318,
     "metadata": {},
     "output_type": "execute_result"
    },
    {
     "data": {
      "image/png": "[encoded data removed]",
      "text/plain": [
       "<Figure size 432x288 with 1 Axes>"
      ]
     },
     "metadata": {
      "needs_background": "light"
     },
     "output_type": "display_data"
    }
   ],
   "source": [
    "plt.imshow(annuli[0][1])"
   ]
  },
  {
   "cell_type": "code",
   "execution_count": 319,
   "id": "e938fdc8-bbe2-400f-a629-9f30e16da80a",
   "metadata": {},
   "outputs": [
    {
     "data": {
      "text/plain": [
       "<matplotlib.image.AxesImage at 0x1c309d5d0>"
      ]
     },
     "execution_count": 319,
     "metadata": {},
     "output_type": "execute_result"
    },
    {
     "data": {
      "image/png": "[encoded data removed]",
      "text/plain": [
       "<Figure size 432x288 with 1 Axes>"
      ]
     },
     "metadata": {
      "needs_background": "light"
     },
     "output_type": "display_data"
    }
   ],
   "source": [
    "plt.imshow(annuli[0][2])"
   ]
  },
  {
   "cell_type": "code",
   "execution_count": 320,
   "id": "3b739fd2-2544-45d5-a3ab-6c3d8b79db85",
   "metadata": {},
   "outputs": [
    {
     "data": {
      "text/plain": [
       "<matplotlib.image.AxesImage at 0x1953c88e0>"
      ]
     },
     "execution_count": 320,
     "metadata": {},
     "output_type": "execute_result"
    },
    {
     "data": {
      "image/png": "[encoded data removed]",
      "text/plain": [
       "<Figure size 432x288 with 1 Axes>"
      ]
     },
     "metadata": {
      "needs_background": "light"
     },
     "output_type": "display_data"
    }
   ],
   "source": [
    "plt.imshow(annuli[0][3])"
   ]
  },
  {
   "cell_type": "code",
   "execution_count": 321,
   "id": "2dcc25c7-3fde-4ac0-99ca-e59dad4f31c0",
   "metadata": {},
   "outputs": [
    {
     "data": {
      "text/plain": [
       "<matplotlib.image.AxesImage at 0x190a7c790>"
      ]
     },
     "execution_count": 321,
     "metadata": {},
     "output_type": "execute_result"
    },
    {
     "data": {
      "image/png": "[encoded data removed]",
      "text/plain": [
       "<Figure size 432x288 with 1 Axes>"
      ]
     },
     "metadata": {
      "needs_background": "light"
     },
     "output_type": "display_data"
    }
   ],
   "source": [
    "plt.imshow(pmasks[0])"
   ]
  },
  {
   "cell_type": "code",
   "execution_count": 322,
   "id": "f289307f-3dd4-4a5c-913b-a81878cc677d",
   "metadata": {},
   "outputs": [
    {
     "data": {
      "text/plain": [
       "<matplotlib.image.AxesImage at 0x190ad1330>"
      ]
     },
     "execution_count": 322,
     "metadata": {},
     "output_type": "execute_result"
    },
    {
     "data": {
      "image/png": "[encoded data removed]",
      "text/plain": [
       "<Figure size 432x288 with 1 Axes>"
      ]
     },
     "metadata": {
      "needs_background": "light"
     },
     "output_type": "display_data"
    }
   ],
   "source": [
    "plt.imshow(pmasks[1])"
   ]
  },
  {
   "cell_type": "code",
   "execution_count": 323,
   "id": "ac137e91-f611-429f-9b8f-00742b587135",
   "metadata": {},
   "outputs": [
    {
     "data": {
      "text/plain": [
       "<matplotlib.image.AxesImage at 0x189745630>"
      ]
     },
     "execution_count": 323,
     "metadata": {},
     "output_type": "execute_result"
    },
    {
     "data": {
      "image/png": "[encoded data removed]",
      "text/plain": [
       "<Figure size 432x288 with 1 Axes>"
      ]
     },
     "metadata": {
      "needs_background": "light"
     },
     "output_type": "display_data"
    }
   ],
   "source": [
    "plt.imshow(pmasks[2])"
   ]
  },
  {
   "cell_type": "code",
   "execution_count": 324,
   "id": "0c03e8c5-d07f-4e24-bef8-2025d072cb75",
   "metadata": {},
   "outputs": [
    {
     "data": {
      "text/plain": [
       "<matplotlib.image.AxesImage at 0x1c2bf1840>"
      ]
     },
     "execution_count": 324,
     "metadata": {},
     "output_type": "execute_result"
    },
    {
     "data": {
      "image/png": "[encoded data removed]",
      "text/plain": [
       "<Figure size 432x288 with 1 Axes>"
      ]
     },
     "metadata": {
      "needs_background": "light"
     },
     "output_type": "display_data"
    }
   ],
   "source": [
    "plt.imshow(pmasks[3])"
   ]
  },
  {
   "cell_type": "code",
   "execution_count": 325,
   "id": "31c1b244-46d5-40bd-b9d6-9a370b39ba2f",
   "metadata": {},
   "outputs": [
    {
     "data": {
      "text/plain": [
       "<matplotlib.image.AxesImage at 0x1c2c69600>"
      ]
     },
     "execution_count": 325,
     "metadata": {},
     "output_type": "execute_result"
    },
    {
     "data": {
      "image/png": "[encoded data removed]",
      "text/plain": [
       "<Figure size 432x288 with 1 Axes>"
      ]
     },
     "metadata": {
      "needs_background": "light"
     },
     "output_type": "display_data"
    }
   ],
   "source": [
    "plt.imshow(pmasks[4])"
   ]
  },
  {
   "cell_type": "code",
   "execution_count": 243,
   "id": "405b8205-837a-4d8f-9c36-b62bb4cd44fd",
   "metadata": {
    "tags": []
   },
   "outputs": [],
   "source": [
    "profiles = {}\n",
    "for k, v in intersections.items():\n",
    "    try:\n",
    "        profiles[k] = intersection_profiler.get_profile(k, v, 3) \n",
    "    except Exception:\n",
    "        pass"
   ]
  },
  {
   "cell_type": "code",
   "execution_count": 252,
   "id": "0b3cc9e3-f4e3-4882-b68b-415d863f9ccb",
   "metadata": {},
   "outputs": [
    {
     "name": "stdout",
     "output_type": "stream",
     "text": [
      "Automatic pdb calling has been turned ON\n"
     ]
    }
   ],
   "source": [
    "%pdb"
   ]
  },
  {
   "cell_type": "code",
   "execution_count": 491,
   "id": "c652e2e3-e4b0-4b5a-8dd2-45f5ce5b51aa",
   "metadata": {
    "tags": []
   },
   "outputs": [
    {
     "name": "stderr",
     "output_type": "stream",
     "text": [
      "/Users/chug/opt/miniconda3/envs/celltide/lib/python3.10/site-packages/numpy/core/fromnumeric.py:3474: RuntimeWarning: Mean of empty slice.\n",
      "  return _methods._mean(a, axis=axis, dtype=dtype,\n",
      "/Users/chug/opt/miniconda3/envs/celltide/lib/python3.10/site-packages/numpy/core/_methods.py:181: RuntimeWarning: invalid value encountered in true_divide\n",
      "  ret = um.true_divide(\n"
     ]
    }
   ],
   "source": [
    "profiles = {}\n",
    "for k in intersections:\n",
    "    profiles[k] = intersection_profiler.get_profile(k, 3) "
   ]
  },
  {
   "cell_type": "code",
   "execution_count": 492,
   "id": "efd22c83-4d8e-4a7d-9af8-2bb9620d06ea",
   "metadata": {},
   "outputs": [
    {
     "data": {
      "text/plain": [
       "6290"
      ]
     },
     "execution_count": 492,
     "metadata": {},
     "output_type": "execute_result"
    }
   ],
   "source": [
    "len(profiles)"
   ]
  },
  {
   "cell_type": "code",
   "execution_count": 493,
   "id": "0b00c226-c346-4e29-8e23-eed87a317cd9",
   "metadata": {},
   "outputs": [
    {
     "data": {
      "text/plain": [
       "(5, 12)"
      ]
     },
     "execution_count": 493,
     "metadata": {},
     "output_type": "execute_result"
    }
   ],
   "source": [
    "profiles[(3, 7)][2].shape"
   ]
  },
  {
   "cell_type": "code",
   "execution_count": 442,
   "id": "90b62a5d-0a1a-4a6e-afa2-674a5b3e4cc3",
   "metadata": {},
   "outputs": [],
   "source": [
    "def rectangulize_res(x):\n",
    "    for (c1, c2), p in x.items():\n",
    "        for id_m in range(p[2].shape[1]):\n",
    "            for id_p in range(p[2].shape[0]):\n",
    "                yield (c1, c2, id_m, id_p, p[2][id_p, id_m])"
   ]
  },
  {
   "cell_type": "code",
   "execution_count": 494,
   "id": "83a2ff0b-1b9b-4d1b-a00c-1d2a1ed6cc2b",
   "metadata": {},
   "outputs": [],
   "source": [
    "res_table = pd.DataFrame.from_records(\n",
    "    rectangulize_res(profiles), columns=[\"cell_1\", \"cell_2\", \"marker_id\", \"position_id\", \"value\"]\n",
    ")"
   ]
  },
  {
   "cell_type": "code",
   "execution_count": 495,
   "id": "afc8eeba-df90-43db-9660-b970cdba8bbb",
   "metadata": {},
   "outputs": [
    {
     "data": {
      "text/html": [
       "<div>\n",
       "<style scoped>\n",
       "    .dataframe tbody tr th:only-of-type {\n",
       "        vertical-align: middle;\n",
       "    }\n",
       "\n",
       "    .dataframe tbody tr th {\n",
       "        vertical-align: top;\n",
       "    }\n",
       "\n",
       "    .dataframe thead th {\n",
       "        text-align: right;\n",
       "    }\n",
       "</style>\n",
       "<table border=\"1\" class=\"dataframe\">\n",
       "  <thead>\n",
       "    <tr style=\"text-align: right;\">\n",
       "      <th></th>\n",
       "      <th>cell_1</th>\n",
       "      <th>cell_2</th>\n",
       "      <th>marker_id</th>\n",
       "      <th>position_id</th>\n",
       "      <th>value</th>\n",
       "    </tr>\n",
       "  </thead>\n",
       "  <tbody>\n",
       "    <tr>\n",
       "      <th>0</th>\n",
       "      <td>1</td>\n",
       "      <td>2</td>\n",
       "      <td>0</td>\n",
       "      <td>0</td>\n",
       "      <td>9770.400000</td>\n",
       "    </tr>\n",
       "    <tr>\n",
       "      <th>1</th>\n",
       "      <td>1</td>\n",
       "      <td>2</td>\n",
       "      <td>0</td>\n",
       "      <td>1</td>\n",
       "      <td>10820.250000</td>\n",
       "    </tr>\n",
       "    <tr>\n",
       "      <th>2</th>\n",
       "      <td>1</td>\n",
       "      <td>2</td>\n",
       "      <td>0</td>\n",
       "      <td>2</td>\n",
       "      <td>12767.800000</td>\n",
       "    </tr>\n",
       "    <tr>\n",
       "      <th>3</th>\n",
       "      <td>1</td>\n",
       "      <td>2</td>\n",
       "      <td>0</td>\n",
       "      <td>3</td>\n",
       "      <td>17211.600000</td>\n",
       "    </tr>\n",
       "    <tr>\n",
       "      <th>4</th>\n",
       "      <td>1</td>\n",
       "      <td>2</td>\n",
       "      <td>0</td>\n",
       "      <td>4</td>\n",
       "      <td>18421.000000</td>\n",
       "    </tr>\n",
       "    <tr>\n",
       "      <th>...</th>\n",
       "      <td>...</td>\n",
       "      <td>...</td>\n",
       "      <td>...</td>\n",
       "      <td>...</td>\n",
       "      <td>...</td>\n",
       "    </tr>\n",
       "    <tr>\n",
       "      <th>377395</th>\n",
       "      <td>11165</td>\n",
       "      <td>11168</td>\n",
       "      <td>11</td>\n",
       "      <td>0</td>\n",
       "      <td>875.100000</td>\n",
       "    </tr>\n",
       "    <tr>\n",
       "      <th>377396</th>\n",
       "      <td>11165</td>\n",
       "      <td>11168</td>\n",
       "      <td>11</td>\n",
       "      <td>1</td>\n",
       "      <td>897.333333</td>\n",
       "    </tr>\n",
       "    <tr>\n",
       "      <th>377397</th>\n",
       "      <td>11165</td>\n",
       "      <td>11168</td>\n",
       "      <td>11</td>\n",
       "      <td>2</td>\n",
       "      <td>900.700000</td>\n",
       "    </tr>\n",
       "    <tr>\n",
       "      <th>377398</th>\n",
       "      <td>11165</td>\n",
       "      <td>11168</td>\n",
       "      <td>11</td>\n",
       "      <td>3</td>\n",
       "      <td>888.300000</td>\n",
       "    </tr>\n",
       "    <tr>\n",
       "      <th>377399</th>\n",
       "      <td>11165</td>\n",
       "      <td>11168</td>\n",
       "      <td>11</td>\n",
       "      <td>4</td>\n",
       "      <td>873.363636</td>\n",
       "    </tr>\n",
       "  </tbody>\n",
       "</table>\n",
       "<p>377400 rows × 5 columns</p>\n",
       "</div>"
      ],
      "text/plain": [
       "        cell_1  cell_2  marker_id  position_id         value\n",
       "0            1       2          0            0   9770.400000\n",
       "1            1       2          0            1  10820.250000\n",
       "2            1       2          0            2  12767.800000\n",
       "3            1       2          0            3  17211.600000\n",
       "4            1       2          0            4  18421.000000\n",
       "...        ...     ...        ...          ...           ...\n",
       "377395   11165   11168         11            0    875.100000\n",
       "377396   11165   11168         11            1    897.333333\n",
       "377397   11165   11168         11            2    900.700000\n",
       "377398   11165   11168         11            3    888.300000\n",
       "377399   11165   11168         11            4    873.363636\n",
       "\n",
       "[377400 rows x 5 columns]"
      ]
     },
     "execution_count": 495,
     "metadata": {},
     "output_type": "execute_result"
    }
   ],
   "source": [
    "res_table"
   ]
  },
  {
   "cell_type": "code",
   "execution_count": null,
   "id": "d9279b6c-c2a3-4bfb-8639-9414004ac024",
   "metadata": {},
   "outputs": [],
   "source": []
  },
  {
   "cell_type": "code",
   "execution_count": 502,
   "id": "1ff77421-b980-49fe-9442-64b0815cc6b1",
   "metadata": {},
   "outputs": [
    {
     "name": "stderr",
     "output_type": "stream",
     "text": [
      "/Users/chug/opt/miniconda3/envs/celltide/lib/python3.10/site-packages/numpy/core/numeric.py:2449: FutureWarning: elementwise comparison failed; returning scalar instead, but in the future will perform elementwise comparison\n",
      "  return bool(asarray(a1 == a2).all())\n"
     ]
    }
   ],
   "source": [
    "res_table.to_csv(\"profile_test_res.csv.gz\", index=False)"
   ]
  },
  {
   "cell_type": "code",
   "execution_count": 496,
   "id": "d9f92ac6-2672-481d-a8b5-f485ceb294d3",
   "metadata": {},
   "outputs": [
    {
     "data": {
      "text/plain": [
       "1140"
      ]
     },
     "execution_count": 496,
     "metadata": {},
     "output_type": "execute_result"
    }
   ],
   "source": [
    "res_table[\"value\"].isna().sum()"
   ]
  },
  {
   "cell_type": "code",
   "execution_count": 497,
   "id": "56bd6bc0-33e2-43d0-91fc-fb5e92f2d8dc",
   "metadata": {},
   "outputs": [
    {
     "data": {
      "text/html": [
       "<div>\n",
       "<style scoped>\n",
       "    .dataframe tbody tr th:only-of-type {\n",
       "        vertical-align: middle;\n",
       "    }\n",
       "\n",
       "    .dataframe tbody tr th {\n",
       "        vertical-align: top;\n",
       "    }\n",
       "\n",
       "    .dataframe thead th {\n",
       "        text-align: right;\n",
       "    }\n",
       "</style>\n",
       "<table border=\"1\" class=\"dataframe\">\n",
       "  <thead>\n",
       "    <tr style=\"text-align: right;\">\n",
       "      <th></th>\n",
       "      <th>cell_1</th>\n",
       "      <th>cell_2</th>\n",
       "      <th>marker_id</th>\n",
       "      <th>position_id</th>\n",
       "      <th>value</th>\n",
       "    </tr>\n",
       "  </thead>\n",
       "  <tbody>\n",
       "    <tr>\n",
       "      <th>108960</th>\n",
       "      <td>2917</td>\n",
       "      <td>2941</td>\n",
       "      <td>0</td>\n",
       "      <td>0</td>\n",
       "      <td>NaN</td>\n",
       "    </tr>\n",
       "    <tr>\n",
       "      <th>108961</th>\n",
       "      <td>2917</td>\n",
       "      <td>2941</td>\n",
       "      <td>0</td>\n",
       "      <td>1</td>\n",
       "      <td>NaN</td>\n",
       "    </tr>\n",
       "    <tr>\n",
       "      <th>108962</th>\n",
       "      <td>2917</td>\n",
       "      <td>2941</td>\n",
       "      <td>0</td>\n",
       "      <td>2</td>\n",
       "      <td>NaN</td>\n",
       "    </tr>\n",
       "    <tr>\n",
       "      <th>108963</th>\n",
       "      <td>2917</td>\n",
       "      <td>2941</td>\n",
       "      <td>0</td>\n",
       "      <td>3</td>\n",
       "      <td>NaN</td>\n",
       "    </tr>\n",
       "    <tr>\n",
       "      <th>108964</th>\n",
       "      <td>2917</td>\n",
       "      <td>2941</td>\n",
       "      <td>0</td>\n",
       "      <td>4</td>\n",
       "      <td>NaN</td>\n",
       "    </tr>\n",
       "    <tr>\n",
       "      <th>...</th>\n",
       "      <td>...</td>\n",
       "      <td>...</td>\n",
       "      <td>...</td>\n",
       "      <td>...</td>\n",
       "      <td>...</td>\n",
       "    </tr>\n",
       "    <tr>\n",
       "      <th>293452</th>\n",
       "      <td>8927</td>\n",
       "      <td>9025</td>\n",
       "      <td>10</td>\n",
       "      <td>2</td>\n",
       "      <td>NaN</td>\n",
       "    </tr>\n",
       "    <tr>\n",
       "      <th>293453</th>\n",
       "      <td>8927</td>\n",
       "      <td>9025</td>\n",
       "      <td>10</td>\n",
       "      <td>3</td>\n",
       "      <td>NaN</td>\n",
       "    </tr>\n",
       "    <tr>\n",
       "      <th>293456</th>\n",
       "      <td>8927</td>\n",
       "      <td>9025</td>\n",
       "      <td>11</td>\n",
       "      <td>1</td>\n",
       "      <td>NaN</td>\n",
       "    </tr>\n",
       "    <tr>\n",
       "      <th>293457</th>\n",
       "      <td>8927</td>\n",
       "      <td>9025</td>\n",
       "      <td>11</td>\n",
       "      <td>2</td>\n",
       "      <td>NaN</td>\n",
       "    </tr>\n",
       "    <tr>\n",
       "      <th>293458</th>\n",
       "      <td>8927</td>\n",
       "      <td>9025</td>\n",
       "      <td>11</td>\n",
       "      <td>3</td>\n",
       "      <td>NaN</td>\n",
       "    </tr>\n",
       "  </tbody>\n",
       "</table>\n",
       "<p>1140 rows × 5 columns</p>\n",
       "</div>"
      ],
      "text/plain": [
       "        cell_1  cell_2  marker_id  position_id  value\n",
       "108960    2917    2941          0            0    NaN\n",
       "108961    2917    2941          0            1    NaN\n",
       "108962    2917    2941          0            2    NaN\n",
       "108963    2917    2941          0            3    NaN\n",
       "108964    2917    2941          0            4    NaN\n",
       "...        ...     ...        ...          ...    ...\n",
       "293452    8927    9025         10            2    NaN\n",
       "293453    8927    9025         10            3    NaN\n",
       "293456    8927    9025         11            1    NaN\n",
       "293457    8927    9025         11            2    NaN\n",
       "293458    8927    9025         11            3    NaN\n",
       "\n",
       "[1140 rows x 5 columns]"
      ]
     },
     "execution_count": 497,
     "metadata": {},
     "output_type": "execute_result"
    }
   ],
   "source": [
    "res_table[res_table[\"value\"].isna()]"
   ]
  },
  {
   "cell_type": "code",
   "execution_count": 498,
   "id": "95029657-839a-4977-85c2-df0979f009ac",
   "metadata": {},
   "outputs": [],
   "source": [
    "viewer_2 = napari.view_image(np.stack(profiles[(8927, 9025)][0][0]))"
   ]
  },
  {
   "cell_type": "code",
   "execution_count": 499,
   "id": "62e304e4-f1f0-4529-b52d-7fea560175cc",
   "metadata": {},
   "outputs": [
    {
     "data": {
      "text/plain": [
       "<Image layer 'Image [1]' at 0x1c5aae9e0>"
      ]
     },
     "execution_count": 499,
     "metadata": {},
     "output_type": "execute_result"
    }
   ],
   "source": [
    "viewer_2.add_image(np.stack(profiles[(8927, 9025)][0][1]))"
   ]
  },
  {
   "cell_type": "code",
   "execution_count": 450,
   "id": "eb43a25e-0a18-41c4-8616-8bc2ad9a60b7",
   "metadata": {},
   "outputs": [
    {
     "data": {
      "image/svg+xml": [
       "<svg xmlns=\"http://www.w3.org/2000/svg\" xmlns:xlink=\"http://www.w3.org/1999/xlink\" width=\"100.0\" height=\"100.0\" viewBox=\"1420.28 3105.28 4.440000000000055 5.9399999999996\" preserveAspectRatio=\"xMinYMin meet\"><g transform=\"matrix(1,0,0,-1,0,6216.5)\"><path fill-rule=\"evenodd\" fill=\"#66cc99\" stroke=\"#555555\" stroke-width=\"0.118799999999992\" opacity=\"0.6\" d=\"M 1420.5,3106.0 L 1421.5,3106.9999999999995 L 1421.5,3108.0 L 1424.5,3111.0 L 1424.5,3109.0 L 1421.0,3105.5 L 1420.5,3106.0 z\" /></g></svg>"
      ],
      "text/plain": [
       "<shapely.geometry.polygon.Polygon at 0x1bf07d8a0>"
      ]
     },
     "execution_count": 450,
     "metadata": {},
     "output_type": "execute_result"
    }
   ],
   "source": [
    "intersections[(11125, 11127)]"
   ]
  },
  {
   "cell_type": "code",
   "execution_count": 501,
   "id": "1bb0e729-c800-4177-804c-c7f37cf15266",
   "metadata": {},
   "outputs": [
    {
     "data": {
      "text/plain": [
       "[<matplotlib.lines.Line2D at 0x189432470>]"
      ]
     },
     "execution_count": 501,
     "metadata": {},
     "output_type": "execute_result"
    },
    {
     "data": {
      "image/png": "[encoded data removed]",
      "text/plain": [
       "<Figure size 432x288 with 1 Axes>"
      ]
     },
     "metadata": {
      "needs_background": "light"
     },
     "output_type": "display_data"
    }
   ],
   "source": [
    "plt.plot(contours[11125][:, 0], contours[11125][:, 1])\n",
    "plt.plot(contours[11127][:, 0], contours[11127][:, 1])"
   ]
  },
  {
   "cell_type": "code",
   "execution_count": 1015,
   "id": "17b8a4f9-be15-4703-84d0-9f16af56da2f",
   "metadata": {},
   "outputs": [
    {
     "data": {
      "text/plain": [
       "array([[ 8385.        ,   955.5       ,   181.25      ,   975.        ,\n",
       "         4836.5       ,   787.        ,  1947.75      ,   369.5       ,\n",
       "         5906.25      ,   864.        ,   266.25      ,   904.        ],\n",
       "       [ 9416.5       ,   933.        ,   191.5       ,  1263.5       ,\n",
       "         6045.        ,   875.        ,  2403.        ,   413.        ,\n",
       "         6725.        ,   845.        ,   274.        ,   929.        ],\n",
       "       [           nan,            nan,            nan,            nan,\n",
       "                   nan,            nan,            nan,            nan,\n",
       "                   nan,            nan,            nan,            nan],\n",
       "       [12096.16666667,   958.33333333,   174.83333333,   635.        ,\n",
       "         7841.        ,   675.5       ,  1391.5       ,   369.5       ,\n",
       "         8442.83333333,   818.66666667,   265.83333333,   873.66666667],\n",
       "       [11618.        ,   967.33333333,   192.        ,   962.66666667,\n",
       "         7621.        ,   785.66666667,  1957.66666667,   396.33333333,\n",
       "         8258.33333333,   893.33333333,   259.33333333,   908.66666667],\n",
       "       [           nan,            nan,            nan,            nan,\n",
       "                   nan,            nan,            nan,            nan,\n",
       "                   nan,            nan,            nan,            nan]])"
      ]
     },
     "execution_count": 1015,
     "metadata": {},
     "output_type": "execute_result"
    }
   ],
   "source": [
    "i_mask"
   ]
  },
  {
   "cell_type": "code",
   "execution_count": 54,
   "id": "0796f0fe-02bd-48f3-9114-2681bb6b4d5c",
   "metadata": {},
   "outputs": [
    {
     "data": {
      "text/plain": [
       "<matplotlib.image.AxesImage at 0x19356b010>"
      ]
     },
     "execution_count": 54,
     "metadata": {},
     "output_type": "execute_result"
    },
    {
     "data": {
      "image/png": "[encoded data removed]",
      "text/plain": [
       "<Figure size 432x288 with 1 Axes>"
      ]
     },
     "metadata": {
      "needs_background": "light"
     },
     "output_type": "display_data"
    }
   ],
   "source": [
    "plt.imshow(pmasks[0])"
   ]
  },
  {
   "cell_type": "code",
   "execution_count": 839,
   "id": "66239fcd-6782-47ae-be98-75e3ca99e4cd",
   "metadata": {},
   "outputs": [
    {
     "data": {
      "text/plain": [
       "<matplotlib.image.AxesImage at 0x1ebde4b80>"
      ]
     },
     "execution_count": 839,
     "metadata": {},
     "output_type": "execute_result"
    },
    {
     "data": {
      "image/png": "[encoded data removed]",
      "text/plain": [
       "<Figure size 432x288 with 1 Axes>"
      ]
     },
     "metadata": {
      "needs_background": "light"
     },
     "output_type": "display_data"
    }
   ],
   "source": [
    "plt.imshow(i_mask[0][1])"
   ]
  },
  {
   "cell_type": "code",
   "execution_count": 830,
   "id": "902770d6-24bb-4a9c-a0f2-9da0f60226bb",
   "metadata": {
    "collapsed": true,
    "jupyter": {
     "outputs_hidden": true
    },
    "tags": []
   },
   "outputs": [
    {
     "data": {
      "text/plain": [
       "defaultdict(list,\n",
       "            {0: [array([[ True,  True,  True,  True,  True,  True,  True,  True,  True,\n",
       "                       True,  True,  True,  True,  True,  True,  True,  True,  True,\n",
       "                       True,  True,  True,  True,  True,  True,  True,  True,  True,\n",
       "                       True,  True,  True],\n",
       "                     [ True,  True,  True,  True,  True,  True,  True,  True,  True,\n",
       "                       True,  True,  True,  True,  True,  True,  True,  True,  True,\n",
       "                       True,  True,  True,  True,  True,  True,  True,  True,  True,\n",
       "                       True,  True,  True],\n",
       "                     [ True,  True,  True,  True,  True,  True,  True,  True,  True,\n",
       "                       True,  True, False, False, False, False, False, False, False,\n",
       "                       True,  True,  True,  True,  True,  True,  True,  True,  True,\n",
       "                       True,  True,  True],\n",
       "                     [ True,  True,  True,  True,  True,  True,  True,  True,  True,\n",
       "                       True, False, False, False, False, False, False, False, False,\n",
       "                      False, False,  True,  True,  True,  True,  True,  True,  True,\n",
       "                       True,  True,  True],\n",
       "                     [ True,  True,  True,  True,  True,  True,  True,  True,  True,\n",
       "                      False, False, False, False, False, False, False, False, False,\n",
       "                      False, False, False, False, False,  True,  True,  True,  True,\n",
       "                       True,  True,  True],\n",
       "                     [ True,  True,  True,  True,  True,  True,  True, False, False,\n",
       "                      False, False, False, False, False, False, False, False, False,\n",
       "                      False, False, False, False, False, False, False,  True,  True,\n",
       "                       True,  True,  True],\n",
       "                     [ True,  True,  True,  True,  True,  True, False, False, False,\n",
       "                      False, False, False, False, False, False, False, False, False,\n",
       "                      False, False, False, False, False, False, False, False,  True,\n",
       "                       True,  True,  True],\n",
       "                     [ True,  True,  True,  True,  True, False, False, False, False,\n",
       "                      False, False, False, False, False, False, False, False, False,\n",
       "                      False, False, False, False, False, False, False, False, False,\n",
       "                       True,  True,  True],\n",
       "                     [ True,  True,  True,  True,  True,  True, False, False, False,\n",
       "                      False, False, False, False, False, False, False, False, False,\n",
       "                      False, False, False, False, False, False, False, False, False,\n",
       "                       True,  True,  True],\n",
       "                     [ True,  True,  True,  True,  True, False, False, False, False,\n",
       "                      False, False, False, False, False, False, False, False, False,\n",
       "                      False, False, False, False, False, False, False, False, False,\n",
       "                      False,  True,  True],\n",
       "                     [ True,  True,  True,  True,  True, False, False, False, False,\n",
       "                      False, False, False, False, False, False, False, False, False,\n",
       "                      False, False, False, False, False, False, False, False, False,\n",
       "                      False,  True,  True],\n",
       "                     [ True,  True,  True,  True, False, False, False, False, False,\n",
       "                      False, False, False, False, False, False, False, False, False,\n",
       "                      False, False, False, False, False, False, False, False, False,\n",
       "                       True,  True,  True],\n",
       "                     [ True,  True,  True, False, False, False, False, False, False,\n",
       "                      False, False, False, False, False, False, False, False, False,\n",
       "                      False, False, False, False, False, False, False, False,  True,\n",
       "                       True,  True,  True],\n",
       "                     [ True,  True,  True, False, False, False, False, False, False,\n",
       "                      False, False, False, False, False, False, False, False, False,\n",
       "                      False, False, False, False, False, False, False,  True,  True,\n",
       "                       True,  True,  True],\n",
       "                     [ True,  True,  True, False, False, False, False, False, False,\n",
       "                      False, False, False, False, False, False, False, False, False,\n",
       "                      False, False, False, False, False, False,  True,  True,  True,\n",
       "                       True,  True,  True],\n",
       "                     [ True,  True, False, False, False, False, False, False, False,\n",
       "                      False, False, False, False, False, False, False, False, False,\n",
       "                      False, False,  True,  True, False,  True,  True,  True,  True,\n",
       "                       True,  True,  True],\n",
       "                     [ True,  True,  True, False, False, False, False, False, False,\n",
       "                      False, False, False, False, False, False, False, False, False,\n",
       "                      False,  True,  True,  True,  True,  True,  True,  True,  True,\n",
       "                       True,  True,  True],\n",
       "                     [ True,  True,  True, False, False, False, False, False, False,\n",
       "                      False, False, False, False, False, False, False, False, False,\n",
       "                      False, False,  True,  True,  True,  True,  True,  True,  True,\n",
       "                       True,  True,  True],\n",
       "                     [ True,  True,  True, False, False, False, False, False, False,\n",
       "                      False, False, False, False, False, False, False, False, False,\n",
       "                      False,  True,  True,  True,  True,  True,  True,  True,  True,\n",
       "                       True,  True,  True],\n",
       "                     [ True,  True,  True, False, False, False, False, False, False,\n",
       "                      False, False, False, False, False, False, False, False, False,\n",
       "                       True,  True,  True,  True,  True,  True,  True,  True,  True,\n",
       "                       True,  True,  True],\n",
       "                     [ True,  True,  True, False, False, False, False, False, False,\n",
       "                      False, False, False, False, False, False, False,  True,  True,\n",
       "                       True,  True,  True,  True,  True,  True,  True,  True,  True,\n",
       "                       True,  True,  True],\n",
       "                     [ True,  True, False, False, False, False, False, False, False,\n",
       "                      False, False, False, False, False, False, False,  True,  True,\n",
       "                       True,  True,  True,  True,  True,  True,  True,  True,  True,\n",
       "                       True,  True,  True],\n",
       "                     [ True,  True,  True, False, False, False, False, False, False,\n",
       "                      False, False, False, False, False, False,  True,  True,  True,\n",
       "                       True,  True,  True,  True,  True,  True,  True,  True,  True,\n",
       "                       True,  True,  True],\n",
       "                     [ True,  True,  True,  True, False, False, False, False, False,\n",
       "                      False, False, False, False, False, False,  True,  True,  True,\n",
       "                       True,  True,  True,  True,  True,  True,  True,  True,  True,\n",
       "                       True,  True,  True],\n",
       "                     [ True,  True,  True,  True,  True, False, False, False, False,\n",
       "                      False, False, False, False, False, False,  True,  True,  True,\n",
       "                       True,  True,  True,  True,  True,  True,  True,  True,  True,\n",
       "                       True,  True,  True],\n",
       "                     [ True,  True,  True,  True,  True,  True, False, False, False,\n",
       "                      False, False, False, False, False,  True,  True,  True,  True,\n",
       "                       True,  True,  True,  True,  True,  True,  True,  True,  True,\n",
       "                       True,  True,  True],\n",
       "                     [ True,  True,  True,  True,  True,  True,  True,  True, False,\n",
       "                      False, False, False, False, False,  True,  True,  True,  True,\n",
       "                       True,  True,  True,  True,  True,  True,  True,  True,  True,\n",
       "                       True,  True,  True],\n",
       "                     [ True,  True,  True,  True,  True,  True,  True,  True,  True,\n",
       "                       True, False, False, False,  True,  True,  True,  True,  True,\n",
       "                       True,  True,  True,  True,  True,  True,  True,  True,  True,\n",
       "                       True,  True,  True],\n",
       "                     [ True,  True,  True,  True,  True,  True,  True,  True,  True,\n",
       "                       True,  True, False,  True,  True,  True,  True,  True,  True,\n",
       "                       True,  True,  True,  True,  True,  True,  True,  True,  True,\n",
       "                       True,  True,  True],\n",
       "                     [ True,  True,  True,  True,  True,  True,  True,  True,  True,\n",
       "                       True,  True,  True,  True,  True,  True,  True,  True,  True,\n",
       "                       True,  True,  True,  True,  True,  True,  True,  True,  True,\n",
       "                       True,  True,  True],\n",
       "                     [ True,  True,  True,  True,  True,  True,  True,  True,  True,\n",
       "                       True,  True,  True,  True,  True,  True,  True,  True,  True,\n",
       "                       True,  True,  True,  True,  True,  True,  True,  True,  True,\n",
       "                       True,  True,  True]]),\n",
       "              array([[ True,  True,  True,  True,  True,  True,  True,  True,  True,\n",
       "                       True,  True,  True,  True,  True,  True,  True,  True,  True,\n",
       "                       True,  True,  True,  True,  True,  True,  True,  True,  True,\n",
       "                       True,  True,  True],\n",
       "                     [ True,  True,  True,  True,  True,  True,  True,  True,  True,\n",
       "                       True,  True,  True,  True,  True,  True,  True,  True,  True,\n",
       "                       True,  True,  True,  True,  True,  True,  True,  True,  True,\n",
       "                       True,  True,  True],\n",
       "                     [ True,  True,  True,  True,  True,  True,  True,  True,  True,\n",
       "                       True,  True,  True,  True,  True,  True,  True,  True,  True,\n",
       "                       True,  True,  True,  True,  True,  True,  True,  True,  True,\n",
       "                       True,  True,  True],\n",
       "                     [ True,  True,  True,  True,  True,  True,  True,  True,  True,\n",
       "                       True,  True, False, False, False, False, False, False, False,\n",
       "                       True,  True,  True,  True,  True,  True,  True,  True,  True,\n",
       "                       True,  True,  True],\n",
       "                     [ True,  True,  True,  True,  True,  True,  True,  True,  True,\n",
       "                       True, False, False, False, False, False, False, False, False,\n",
       "                      False, False,  True,  True,  True,  True,  True,  True,  True,\n",
       "                       True,  True,  True],\n",
       "                     [ True,  True,  True,  True,  True,  True,  True,  True,  True,\n",
       "                      False, False, False, False, False, False, False, False, False,\n",
       "                      False, False, False, False, False,  True,  True,  True,  True,\n",
       "                       True,  True,  True],\n",
       "                     [ True,  True,  True,  True,  True,  True,  True, False, False,\n",
       "                      False, False, False, False, False, False, False, False, False,\n",
       "                      False, False, False, False, False, False, False,  True,  True,\n",
       "                       True,  True,  True],\n",
       "                     [ True,  True,  True,  True,  True,  True, False, False, False,\n",
       "                      False, False, False, False, False, False, False, False, False,\n",
       "                      False, False, False, False, False, False, False, False,  True,\n",
       "                       True,  True,  True],\n",
       "                     [ True,  True,  True,  True,  True,  True,  True, False, False,\n",
       "                      False, False, False, False, False, False, False, False, False,\n",
       "                      False, False, False, False, False, False, False, False,  True,\n",
       "                       True,  True,  True],\n",
       "                     [ True,  True,  True,  True,  True,  True, False, False, False,\n",
       "                      False, False, False, False, False, False, False, False, False,\n",
       "                      False, False, False, False, False, False, False, False, False,\n",
       "                       True,  True,  True],\n",
       "                     [ True,  True,  True,  True,  True,  True, False, False, False,\n",
       "                      False, False, False, False, False, False, False, False, False,\n",
       "                      False, False, False, False, False, False, False, False, False,\n",
       "                       True,  True,  True],\n",
       "                     [ True,  True,  True,  True,  True, False, False, False, False,\n",
       "                      False, False, False, False, False, False, False, False, False,\n",
       "                      False, False, False, False, False, False, False, False,  True,\n",
       "                       True,  True,  True],\n",
       "                     [ True,  True,  True,  True, False, False, False, False, False,\n",
       "                      False, False, False, False, False, False, False, False, False,\n",
       "                      False, False, False, False, False, False, False,  True,  True,\n",
       "                       True,  True,  True],\n",
       "                     [ True,  True,  True,  True, False, False, False, False, False,\n",
       "                      False, False, False, False, False, False, False, False, False,\n",
       "                      False, False,  True, False, False, False,  True,  True,  True,\n",
       "                       True,  True,  True],\n",
       "                     [ True,  True,  True,  True, False, False, False, False, False,\n",
       "                      False, False, False, False, False, False, False, False, False,\n",
       "                      False, False,  True,  True, False,  True,  True,  True,  True,\n",
       "                       True,  True,  True],\n",
       "                     [ True,  True,  True, False, False, False, False, False, False,\n",
       "                      False, False, False, False, False, False, False, False, False,\n",
       "                      False,  True,  True,  True,  True,  True,  True,  True,  True,\n",
       "                       True,  True,  True],\n",
       "                     [ True,  True,  True,  True, False, False, False, False, False,\n",
       "                      False, False, False, False, False, False, False, False, False,\n",
       "                       True,  True,  True,  True,  True,  True,  True,  True,  True,\n",
       "                       True,  True,  True],\n",
       "                     [ True,  True,  True,  True, False, False, False, False, False,\n",
       "                      False, False, False, False, False, False, False, False, False,\n",
       "                      False,  True,  True,  True,  True,  True,  True,  True,  True,\n",
       "                       True,  True,  True],\n",
       "                     [ True,  True,  True,  True, False, False, False, False, False,\n",
       "                      False, False, False, False, False, False, False, False, False,\n",
       "                       True,  True,  True,  True,  True,  True,  True,  True,  True,\n",
       "                       True,  True,  True],\n",
       "                     [ True,  True,  True,  True, False, False, False, False, False,\n",
       "                      False, False, False, False, False, False, False,  True,  True,\n",
       "                       True,  True,  True,  True,  True,  True,  True,  True,  True,\n",
       "                       True,  True,  True],\n",
       "                     [ True,  True,  True,  True, False, False, False, False, False,\n",
       "                      False, False, False, False, False, False,  True,  True,  True,\n",
       "                       True,  True,  True,  True,  True,  True,  True,  True,  True,\n",
       "                       True,  True,  True],\n",
       "                     [ True,  True,  True, False, False, False, False, False, False,\n",
       "                      False, False, False, False, False, False,  True,  True,  True,\n",
       "                       True,  True,  True,  True,  True,  True,  True,  True,  True,\n",
       "                       True,  True,  True],\n",
       "                     [ True,  True,  True,  True, False, False, False, False, False,\n",
       "                      False, False, False, False, False,  True,  True,  True,  True,\n",
       "                       True,  True,  True,  True,  True,  True,  True,  True,  True,\n",
       "                       True,  True,  True],\n",
       "                     [ True,  True,  True,  True,  True, False, False, False, False,\n",
       "                      False, False, False, False, False,  True,  True,  True,  True,\n",
       "                       True,  True,  True,  True,  True,  True,  True,  True,  True,\n",
       "                       True,  True,  True],\n",
       "                     [ True,  True,  True,  True,  True,  True, False, False, False,\n",
       "                      False, False, False, False, False,  True,  True,  True,  True,\n",
       "                       True,  True,  True,  True,  True,  True,  True,  True,  True,\n",
       "                       True,  True,  True],\n",
       "                     [ True,  True,  True,  True,  True,  True,  True,  True, False,\n",
       "                      False, False, False, False,  True,  True,  True,  True,  True,\n",
       "                       True,  True,  True,  True,  True,  True,  True,  True,  True,\n",
       "                       True,  True,  True],\n",
       "                     [ True,  True,  True,  True,  True,  True,  True,  True,  True,\n",
       "                       True, False, False, False,  True,  True,  True,  True,  True,\n",
       "                       True,  True,  True,  True,  True,  True,  True,  True,  True,\n",
       "                       True,  True,  True],\n",
       "                     [ True,  True,  True,  True,  True,  True,  True,  True,  True,\n",
       "                       True,  True, False,  True,  True,  True,  True,  True,  True,\n",
       "                       True,  True,  True,  True,  True,  True,  True,  True,  True,\n",
       "                       True,  True,  True],\n",
       "                     [ True,  True,  True,  True,  True,  True,  True,  True,  True,\n",
       "                       True,  True,  True,  True,  True,  True,  True,  True,  True,\n",
       "                       True,  True,  True,  True,  True,  True,  True,  True,  True,\n",
       "                       True,  True,  True],\n",
       "                     [ True,  True,  True,  True,  True,  True,  True,  True,  True,\n",
       "                       True,  True,  True,  True,  True,  True,  True,  True,  True,\n",
       "                       True,  True,  True,  True,  True,  True,  True,  True,  True,\n",
       "                       True,  True,  True],\n",
       "                     [ True,  True,  True,  True,  True,  True,  True,  True,  True,\n",
       "                       True,  True,  True,  True,  True,  True,  True,  True,  True,\n",
       "                       True,  True,  True,  True,  True,  True,  True,  True,  True,\n",
       "                       True,  True,  True]])],\n",
       "             1: [array([[ True,  True,  True,  True,  True,  True,  True,  True,  True,\n",
       "                       True,  True,  True,  True,  True,  True,  True,  True,  True,\n",
       "                       True,  True,  True,  True,  True],\n",
       "                     [ True,  True,  True,  True,  True,  True,  True,  True,  True,\n",
       "                       True,  True,  True,  True,  True,  True,  True,  True,  True,\n",
       "                       True,  True,  True,  True,  True],\n",
       "                     [ True,  True,  True,  True,  True,  True,  True,  True,  True,\n",
       "                       True, False, False, False, False, False, False,  True,  True,\n",
       "                       True,  True,  True,  True,  True],\n",
       "                     [ True,  True,  True,  True,  True,  True,  True,  True,  True,\n",
       "                      False, False, False, False, False, False, False, False,  True,\n",
       "                       True,  True,  True,  True,  True],\n",
       "                     [ True,  True,  True,  True,  True,  True,  True,  True, False,\n",
       "                      False, False, False, False, False, False, False, False, False,\n",
       "                       True,  True,  True,  True,  True],\n",
       "                     [ True,  True,  True,  True,  True,  True,  True, False, False,\n",
       "                      False, False, False, False, False, False, False, False, False,\n",
       "                      False,  True,  True,  True,  True],\n",
       "                     [ True,  True,  True,  True,  True,  True, False, False, False,\n",
       "                      False, False, False, False, False, False, False, False, False,\n",
       "                      False, False,  True,  True,  True],\n",
       "                     [ True,  True,  True,  True,  True, False, False, False, False,\n",
       "                      False, False, False, False, False, False, False, False, False,\n",
       "                      False, False, False,  True,  True],\n",
       "                     [ True,  True,  True,  True, False, False, False, False, False,\n",
       "                      False, False, False, False, False, False, False, False, False,\n",
       "                      False, False, False,  True,  True],\n",
       "                     [ True,  True,  True, False, False, False, False, False, False,\n",
       "                      False, False, False, False, False, False, False, False, False,\n",
       "                      False, False, False,  True,  True],\n",
       "                     [ True,  True, False, False, False, False, False, False, False,\n",
       "                      False, False, False, False, False, False, False, False, False,\n",
       "                      False, False, False,  True,  True],\n",
       "                     [ True,  True,  True, False, False, False, False, False, False,\n",
       "                      False, False, False, False, False, False, False, False, False,\n",
       "                      False, False,  True,  True,  True],\n",
       "                     [ True,  True,  True,  True, False, False, False, False, False,\n",
       "                      False, False, False, False, False, False, False, False, False,\n",
       "                      False,  True,  True,  True,  True],\n",
       "                     [ True,  True,  True,  True,  True,  True, False, False, False,\n",
       "                      False, False, False, False, False, False, False, False, False,\n",
       "                       True,  True,  True,  True,  True],\n",
       "                     [ True,  True,  True,  True,  True,  True,  True,  True, False,\n",
       "                       True,  True, False, False, False, False, False, False,  True,\n",
       "                       True,  True,  True,  True,  True],\n",
       "                     [ True,  True,  True,  True,  True,  True,  True,  True,  True,\n",
       "                       True,  True,  True,  True,  True, False,  True,  True,  True,\n",
       "                       True,  True,  True,  True,  True],\n",
       "                     [ True,  True,  True,  True,  True,  True,  True,  True,  True,\n",
       "                       True,  True,  True,  True,  True,  True,  True,  True,  True,\n",
       "                       True,  True,  True,  True,  True],\n",
       "                     [ True,  True,  True,  True,  True,  True,  True,  True,  True,\n",
       "                       True,  True,  True,  True,  True,  True,  True,  True,  True,\n",
       "                       True,  True,  True,  True,  True]]),\n",
       "              array([[ True,  True,  True,  True,  True,  True,  True,  True,  True,\n",
       "                       True,  True,  True,  True,  True,  True,  True,  True,  True,\n",
       "                       True,  True,  True,  True,  True],\n",
       "                     [ True,  True,  True,  True,  True,  True,  True,  True,  True,\n",
       "                       True,  True,  True,  True,  True,  True,  True,  True,  True,\n",
       "                       True,  True,  True,  True,  True],\n",
       "                     [ True,  True,  True,  True,  True,  True,  True,  True,  True,\n",
       "                       True,  True,  True,  True,  True,  True,  True,  True,  True,\n",
       "                       True,  True,  True,  True,  True],\n",
       "                     [ True,  True,  True,  True,  True,  True,  True,  True,  True,\n",
       "                       True, False, False, False, False, False, False,  True,  True,\n",
       "                       True,  True,  True,  True,  True],\n",
       "                     [ True,  True,  True,  True,  True,  True,  True,  True,  True,\n",
       "                      False, False, False, False, False, False, False, False,  True,\n",
       "                       True,  True,  True,  True,  True],\n",
       "                     [ True,  True,  True,  True,  True,  True,  True,  True, False,\n",
       "                      False, False, False, False, False, False, False, False, False,\n",
       "                       True,  True,  True,  True,  True],\n",
       "                     [ True,  True,  True,  True,  True,  True,  True, False, False,\n",
       "                      False, False, False, False, False, False, False, False, False,\n",
       "                      False,  True,  True,  True,  True],\n",
       "                     [ True,  True,  True,  True,  True,  True,  True, False, False,\n",
       "                      False, False, False, False, False, False, False, False, False,\n",
       "                      False, False,  True,  True,  True],\n",
       "                     [ True,  True,  True,  True,  True, False, False, False, False,\n",
       "                      False, False, False, False, False, False, False, False, False,\n",
       "                      False, False,  True,  True,  True],\n",
       "                     [ True,  True,  True,  True, False, False, False, False, False,\n",
       "                      False, False, False, False, False, False, False, False, False,\n",
       "                      False, False,  True,  True,  True],\n",
       "                     [ True,  True,  True, False, False, False, False, False, False,\n",
       "                      False, False, False, False, False, False, False, False, False,\n",
       "                      False, False,  True,  True,  True],\n",
       "                     [ True,  True,  True,  True, False, False, False, False, False,\n",
       "                      False, False, False, False, False, False, False, False, False,\n",
       "                      False,  True,  True,  True,  True],\n",
       "                     [ True,  True,  True,  True,  True,  True, False, False, False,\n",
       "                      False, False, False, False, False, False, False, False, False,\n",
       "                       True,  True,  True,  True,  True],\n",
       "                     [ True,  True,  True,  True,  True,  True,  True,  True, False,\n",
       "                       True,  True, False, False, False, False, False, False,  True,\n",
       "                       True,  True,  True,  True,  True],\n",
       "                     [ True,  True,  True,  True,  True,  True,  True,  True,  True,\n",
       "                       True,  True,  True,  True,  True, False,  True,  True,  True,\n",
       "                       True,  True,  True,  True,  True],\n",
       "                     [ True,  True,  True,  True,  True,  True,  True,  True,  True,\n",
       "                       True,  True,  True,  True,  True,  True,  True,  True,  True,\n",
       "                       True,  True,  True,  True,  True],\n",
       "                     [ True,  True,  True,  True,  True,  True,  True,  True,  True,\n",
       "                       True,  True,  True,  True,  True,  True,  True,  True,  True,\n",
       "                       True,  True,  True,  True,  True],\n",
       "                     [ True,  True,  True,  True,  True,  True,  True,  True,  True,\n",
       "                       True,  True,  True,  True,  True,  True,  True,  True,  True,\n",
       "                       True,  True,  True,  True,  True]])]})"
      ]
     },
     "execution_count": 830,
     "metadata": {},
     "output_type": "execute_result"
    }
   ],
   "source": [
    "i_mask"
   ]
  },
  {
   "cell_type": "code",
   "execution_count": 789,
   "id": "3d4fe610-38d2-4c55-8754-412dd09771d1",
   "metadata": {},
   "outputs": [
    {
     "data": {
      "text/plain": [
       "<matplotlib.image.AxesImage at 0x1ecbfb1f0>"
      ]
     },
     "execution_count": 789,
     "metadata": {},
     "output_type": "execute_result"
    },
    {
     "data": {
      "image/png": "[encoded data removed]",
      "text/plain": [
       "<Figure size 432x288 with 1 Axes>"
      ]
     },
     "metadata": {
      "needs_background": "light"
     },
     "output_type": "display_data"
    }
   ],
   "source": [
    "plt.imshow(i_mask)"
   ]
  },
  {
   "cell_type": "code",
   "execution_count": 792,
   "id": "2a270273-c367-4c35-b8e1-105977e1e2b2",
   "metadata": {},
   "outputs": [
    {
     "data": {
      "text/plain": [
       "[<matplotlib.lines.Line2D at 0x1ecd362c0>]"
      ]
     },
     "execution_count": 792,
     "metadata": {},
     "output_type": "execute_result"
    },
    {
     "data": {
      "image/png": "[encoded data removed]",
      "text/plain": [
       "<Figure size 432x288 with 1 Axes>"
      ]
     },
     "metadata": {
      "needs_background": "light"
     },
     "output_type": "display_data"
    }
   ],
   "source": [
    "plt.imshow(i_mask)\n",
    "plt.plot([x[0] for x in i_shape.exterior.coords], [x[1] for x in i_shape.exterior.coords])"
   ]
  },
  {
   "cell_type": "code",
   "execution_count": 430,
   "id": "973ea7b9-855f-4612-af10-40d81fbd7642",
   "metadata": {},
   "outputs": [
    {
     "ename": "SyntaxError",
     "evalue": "invalid syntax (2806368971.py, line 1)",
     "output_type": "error",
     "traceback": [
      "\u001b[0;36m  Input \u001b[0;32mIn [430]\u001b[0;36m\u001b[0m\n\u001b[0;31m    i_shape.exterior.coords.\u001b[0m\n\u001b[0m                            ^\u001b[0m\n\u001b[0;31mSyntaxError\u001b[0m\u001b[0;31m:\u001b[0m invalid syntax\n"
     ]
    }
   ],
   "source": [
    "i_shape.exterior.coords."
   ]
  },
  {
   "cell_type": "code",
   "execution_count": 209,
   "id": "c318e3eb-f908-4d61-a36e-b3889ac3180f",
   "metadata": {},
   "outputs": [
    {
     "data": {
      "image/svg+xml": [
       "<svg xmlns=\"http://www.w3.org/2000/svg\" xmlns:xlink=\"http://www.w3.org/1999/xlink\" width=\"100.0\" height=\"100.0\" viewBox=\"991.14 669.64 7.720000000000027 9.720000000000027\" preserveAspectRatio=\"xMinYMin meet\"><g transform=\"matrix(1,0,0,-1,0,1349.0)\"><path fill-rule=\"evenodd\" fill=\"#66cc99\" stroke=\"#555555\" stroke-width=\"0.19440000000000054\" opacity=\"0.6\" d=\"M 997.5,676.0 L 997.5,675.0 L 998.5,674.0 L 998.5,673.0 L 997.5,672.0 L 997.5,671.0 L 996.5,670.0 L 996.5,671.0 L 995.0,672.5 L 994.0,672.5 L 992.5,674.0 L 992.5,675.0 L 991.5,676.0 L 992.5,677.0 L 992.5,678.0 L 993.0,678.5 L 994.0,678.5 L 994.5,679.0 L 997.5,676.0 z\" /></g></svg>"
      ],
      "text/plain": [
       "<shapely.geometry.polygon.Polygon at 0x1de2abc70>"
      ]
     },
     "execution_count": 209,
     "metadata": {},
     "output_type": "execute_result"
    }
   ],
   "source": [
    "intersections[(3, 7)]"
   ]
  },
  {
   "cell_type": "code",
   "execution_count": 213,
   "id": "526f6c72-4127-477a-9dbe-ff8b46731058",
   "metadata": {},
   "outputs": [
    {
     "data": {
      "text/plain": [
       "(array([671, 671, 672, 672, 672, 672, 673, 673, 673, 673, 673, 673, 674,\n",
       "        674, 674, 674, 674, 675, 675, 675, 675, 675, 675, 676, 676, 676,\n",
       "        676, 676, 677, 677, 677, 678]),\n",
       " array([996, 997, 994, 995, 996, 997, 993, 994, 995, 996, 997, 998, 993,\n",
       "        994, 995, 996, 997, 992, 993, 994, 995, 996, 997, 992, 993, 994,\n",
       "        995, 996, 993, 994, 995, 994]))"
      ]
     },
     "execution_count": 213,
     "metadata": {},
     "output_type": "execute_result"
    }
   ],
   "source": [
    "np.where(a)"
   ]
  },
  {
   "cell_type": "code",
   "execution_count": 211,
   "id": "1f245f8f-2c2c-4824-ab45-92cc85eefffe",
   "metadata": {},
   "outputs": [],
   "source": [
    "a = rasterio.features.rasterize(\n",
    "     [intersections[(3, 7)]], out_shape=sm.shape, fill=0\n",
    ")"
   ]
  },
  {
   "cell_type": "code",
   "execution_count": null,
   "id": "4b112172-3dfd-43b2-834e-14ff3806b7f4",
   "metadata": {},
   "outputs": [],
   "source": []
  },
  {
   "cell_type": "code",
   "execution_count": 159,
   "id": "ed199936-a91b-4245-bde1-982153dee6eb",
   "metadata": {},
   "outputs": [],
   "source": [
    "b = rasterio.features.rasterize(\n",
    "     [x], out_shape=sm.shape, fill=0\n",
    ")"
   ]
  },
  {
   "cell_type": "code",
   "execution_count": 162,
   "id": "0f2a01ff-9c2d-4106-a8ac-450270aff173",
   "metadata": {},
   "outputs": [
    {
     "data": {
      "text/plain": [
       "(672.063492063492, 991.936507936508, 678.063492063492, 997.936507936508)"
      ]
     },
     "execution_count": 162,
     "metadata": {},
     "output_type": "execute_result"
    }
   ],
   "source": [
    "x.bounds"
   ]
  },
  {
   "cell_type": "code",
   "execution_count": null,
   "id": "19e7e54a-d3ea-4d6f-abe6-b6e88e61f8f5",
   "metadata": {},
   "outputs": [],
   "source": []
  },
  {
   "cell_type": "code",
   "execution_count": 160,
   "id": "d01049fd-a950-4d53-b463-a38c85db0a5b",
   "metadata": {},
   "outputs": [
    {
     "data": {
      "text/plain": [
       "(array([992, 993, 993, 994, 994, 995, 995, 996, 996, 997, 997]),\n",
       " array([677, 676, 677, 675, 676, 674, 675, 673, 674, 672, 673]))"
      ]
     },
     "execution_count": 160,
     "metadata": {},
     "output_type": "execute_result"
    }
   ],
   "source": [
    "np.where(b)"
   ]
  },
  {
   "cell_type": "code",
   "execution_count": 212,
   "id": "48f899dd-ed74-4d6c-bc1a-9b3e1433de58",
   "metadata": {},
   "outputs": [
    {
     "data": {
      "text/plain": [
       "<Image layer 'a [4]' at 0x1dbe47d60>"
      ]
     },
     "execution_count": 212,
     "metadata": {},
     "output_type": "execute_result"
    }
   ],
   "source": [
    "viewer.add_image(a)\n",
    "#viewer.add_image(b)"
   ]
  },
  {
   "cell_type": "code",
   "execution_count": 157,
   "id": "5d1b3756-22f5-4e2e-b35a-5796c0372d55",
   "metadata": {},
   "outputs": [],
   "source": [
    "import redseapy.redsea"
   ]
  },
  {
   "cell_type": "code",
   "execution_count": 158,
   "id": "8f08b3e7-6ae4-45dd-80ad-ee6c78f7121d",
   "metadata": {},
   "outputs": [
    {
     "name": "stdout",
     "output_type": "stream",
     "text": [
      "Progress: |██████████████████████████████████████████████████| 100.0% Complete\n"
     ]
    }
   ],
   "source": [
    "redseapy.redsea.run_redsea(\n",
    "    \"exemplar-001/registration/exemplar-001.ome.tif\",\n",
    "    \"exemplar-001/segmentation/unmicst-exemplar-001/cellMask.tif\",\n",
    "    \"exemplar-001/markers.csv\",\n",
    "    \"redsea_out\"\n",
    ")"
   ]
  },
  {
   "cell_type": "code",
   "execution_count": 159,
   "id": "73275d36-4b15-43b6-8b84-ef538c7c817e",
   "metadata": {},
   "outputs": [],
   "source": [
    "from shapely import speedups"
   ]
  },
  {
   "cell_type": "markdown",
   "id": "939dadd3-2b61-45af-b5a5-969733ee8322",
   "metadata": {},
   "source": []
  },
  {
   "cell_type": "code",
   "execution_count": null,
   "id": "7cdaa58a-caa1-4484-83f1-6ff6faa91fbb",
   "metadata": {},
   "outputs": [],
   "source": []
  }
 ],
 "metadata": {
  "kernelspec": {
   "display_name": "Python 3 (ipykernel)",
   "language": "python",
   "name": "python3"
  },
  "language_info": {
   "codemirror_mode": {
    "name": "ipython",
    "version": 3
   },
   "file_extension": ".py",
   "mimetype": "text/x-python",
   "name": "python",
   "nbconvert_exporter": "python",
   "pygments_lexer": "ipython3",
   "version": "3.10.4"
  }
 },
 "nbformat": 4,
 "nbformat_minor": 5
}
